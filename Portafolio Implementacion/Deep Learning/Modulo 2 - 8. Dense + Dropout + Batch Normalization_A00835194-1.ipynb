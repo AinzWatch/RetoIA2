{
  "cells": [
    {
      "cell_type": "markdown",
      "metadata": {
        "id": "WW8nqPaynp6J"
      },
      "source": [
        "### Problem Statement\n",
        "\n",
        "Continuing with the same scenario, now that you have been able to successfuly predict each student GPA, now you will classify each Student based on they probability to have a successful GPA score.\n",
        "\n",
        "The different classes are:\n",
        "\n",
        "- Low     : Students where final GPA is predicted to be between: 0 and 2\n",
        "- Medium  : Students where final GPA is predicted to be between: 2 and 3.5\n",
        "- High    : Students where final GPA is predicted to be between: 3.5 and 5\n",
        "\n"
      ]
    },
    {
      "cell_type": "markdown",
      "metadata": {
        "id": "QUfrWJ4mnp6L"
      },
      "source": [
        "### 1) Import Libraries\n",
        "\n",
        "First let's import the following libraries, if there is any library that you need and is not in the list bellow feel free to include it"
      ]
    },
    {
      "cell_type": "code",
      "execution_count": 138,
      "metadata": {
        "id": "zDFyuIDXnp6M"
      },
      "outputs": [],
      "source": [
        "import numpy as np\n",
        "import pandas as pd\n",
        "import matplotlib.pyplot as plt\n",
        "import tensorflow as tf\n",
        "from tensorflow.keras.models import Sequential\n",
        "from tensorflow.keras.layers import Dense\n",
        "from tensorflow.keras.layers import Dropout, BatchNormalization\n",
        "from tensorflow.keras.layers import Conv1D, MaxPooling1D, Flatten\n",
        "from tensorflow.keras.regularizers import l2\n",
        "from sklearn.model_selection import train_test_split\n",
        "from sklearn.preprocessing import StandardScaler, LabelEncoder\n",
        "import seaborn as sns\n"
      ]
    },
    {
      "cell_type": "markdown",
      "metadata": {
        "id": "JmdYD-53np6N"
      },
      "source": [
        "### 2) Load Data\n",
        "\n",
        "- You will use the same file from the previous activity (Student Performance Data)"
      ]
    },
    {
      "cell_type": "code",
      "execution_count": 139,
      "metadata": {
        "colab": {
          "base_uri": "https://localhost:8080/",
          "height": 424
        },
        "id": "803TjnCTnp6O",
        "outputId": "af51d4cf-fc94-43db-fa97-f93052a6e415"
      },
      "outputs": [
        {
          "output_type": "execute_result",
          "data": {
            "text/plain": [
              "      StudentID  Age  Gender  Ethnicity  ParentalEducation  StudyTimeWeekly  \\\n",
              "0          1001   17       1          0                  2        19.833723   \n",
              "1          1002   18       0          0                  1        15.408756   \n",
              "2          1003   15       0          2                  3         4.210570   \n",
              "3          1004   17       1          0                  3        10.028829   \n",
              "4          1005   17       1          0                  2         4.672495   \n",
              "...         ...  ...     ...        ...                ...              ...   \n",
              "2387       3388   18       1          0                  3        10.680555   \n",
              "2388       3389   17       0          0                  1         7.583217   \n",
              "2389       3390   16       1          0                  2         6.805500   \n",
              "2390       3391   16       1          1                  0        12.416653   \n",
              "2391       3392   16       1          0                  2        17.819907   \n",
              "\n",
              "      Absences  Tutoring  ParentalSupport  Extracurricular  Sports  Music  \\\n",
              "0            7         1                2                0       0      1   \n",
              "1            0         0                1                0       0      0   \n",
              "2           26         0                2                0       0      0   \n",
              "3           14         0                3                1       0      0   \n",
              "4           17         1                3                0       0      0   \n",
              "...        ...       ...              ...              ...     ...    ...   \n",
              "2387         2         0                4                1       0      0   \n",
              "2388         4         1                4                0       1      0   \n",
              "2389        20         0                2                0       0      0   \n",
              "2390        17         0                2                0       1      1   \n",
              "2391        13         0                2                0       0      0   \n",
              "\n",
              "      Volunteering       GPA  GradeClass  \n",
              "0                0  2.929196         2.0  \n",
              "1                0  3.042915         1.0  \n",
              "2                0  0.112602         4.0  \n",
              "3                0  2.054218         3.0  \n",
              "4                0  1.288061         4.0  \n",
              "...            ...       ...         ...  \n",
              "2387             0  3.455509         0.0  \n",
              "2388             0  3.279150         4.0  \n",
              "2389             1  1.142333         2.0  \n",
              "2390             0  1.803297         1.0  \n",
              "2391             1  2.140014         1.0  \n",
              "\n",
              "[2392 rows x 15 columns]"
            ],
            "text/html": [
              "\n",
              "  <div id=\"df-1400c0c7-47e0-493b-a1b4-e25f04aed5f8\" class=\"colab-df-container\">\n",
              "    <div>\n",
              "<style scoped>\n",
              "    .dataframe tbody tr th:only-of-type {\n",
              "        vertical-align: middle;\n",
              "    }\n",
              "\n",
              "    .dataframe tbody tr th {\n",
              "        vertical-align: top;\n",
              "    }\n",
              "\n",
              "    .dataframe thead th {\n",
              "        text-align: right;\n",
              "    }\n",
              "</style>\n",
              "<table border=\"1\" class=\"dataframe\">\n",
              "  <thead>\n",
              "    <tr style=\"text-align: right;\">\n",
              "      <th></th>\n",
              "      <th>StudentID</th>\n",
              "      <th>Age</th>\n",
              "      <th>Gender</th>\n",
              "      <th>Ethnicity</th>\n",
              "      <th>ParentalEducation</th>\n",
              "      <th>StudyTimeWeekly</th>\n",
              "      <th>Absences</th>\n",
              "      <th>Tutoring</th>\n",
              "      <th>ParentalSupport</th>\n",
              "      <th>Extracurricular</th>\n",
              "      <th>Sports</th>\n",
              "      <th>Music</th>\n",
              "      <th>Volunteering</th>\n",
              "      <th>GPA</th>\n",
              "      <th>GradeClass</th>\n",
              "    </tr>\n",
              "  </thead>\n",
              "  <tbody>\n",
              "    <tr>\n",
              "      <th>0</th>\n",
              "      <td>1001</td>\n",
              "      <td>17</td>\n",
              "      <td>1</td>\n",
              "      <td>0</td>\n",
              "      <td>2</td>\n",
              "      <td>19.833723</td>\n",
              "      <td>7</td>\n",
              "      <td>1</td>\n",
              "      <td>2</td>\n",
              "      <td>0</td>\n",
              "      <td>0</td>\n",
              "      <td>1</td>\n",
              "      <td>0</td>\n",
              "      <td>2.929196</td>\n",
              "      <td>2.0</td>\n",
              "    </tr>\n",
              "    <tr>\n",
              "      <th>1</th>\n",
              "      <td>1002</td>\n",
              "      <td>18</td>\n",
              "      <td>0</td>\n",
              "      <td>0</td>\n",
              "      <td>1</td>\n",
              "      <td>15.408756</td>\n",
              "      <td>0</td>\n",
              "      <td>0</td>\n",
              "      <td>1</td>\n",
              "      <td>0</td>\n",
              "      <td>0</td>\n",
              "      <td>0</td>\n",
              "      <td>0</td>\n",
              "      <td>3.042915</td>\n",
              "      <td>1.0</td>\n",
              "    </tr>\n",
              "    <tr>\n",
              "      <th>2</th>\n",
              "      <td>1003</td>\n",
              "      <td>15</td>\n",
              "      <td>0</td>\n",
              "      <td>2</td>\n",
              "      <td>3</td>\n",
              "      <td>4.210570</td>\n",
              "      <td>26</td>\n",
              "      <td>0</td>\n",
              "      <td>2</td>\n",
              "      <td>0</td>\n",
              "      <td>0</td>\n",
              "      <td>0</td>\n",
              "      <td>0</td>\n",
              "      <td>0.112602</td>\n",
              "      <td>4.0</td>\n",
              "    </tr>\n",
              "    <tr>\n",
              "      <th>3</th>\n",
              "      <td>1004</td>\n",
              "      <td>17</td>\n",
              "      <td>1</td>\n",
              "      <td>0</td>\n",
              "      <td>3</td>\n",
              "      <td>10.028829</td>\n",
              "      <td>14</td>\n",
              "      <td>0</td>\n",
              "      <td>3</td>\n",
              "      <td>1</td>\n",
              "      <td>0</td>\n",
              "      <td>0</td>\n",
              "      <td>0</td>\n",
              "      <td>2.054218</td>\n",
              "      <td>3.0</td>\n",
              "    </tr>\n",
              "    <tr>\n",
              "      <th>4</th>\n",
              "      <td>1005</td>\n",
              "      <td>17</td>\n",
              "      <td>1</td>\n",
              "      <td>0</td>\n",
              "      <td>2</td>\n",
              "      <td>4.672495</td>\n",
              "      <td>17</td>\n",
              "      <td>1</td>\n",
              "      <td>3</td>\n",
              "      <td>0</td>\n",
              "      <td>0</td>\n",
              "      <td>0</td>\n",
              "      <td>0</td>\n",
              "      <td>1.288061</td>\n",
              "      <td>4.0</td>\n",
              "    </tr>\n",
              "    <tr>\n",
              "      <th>...</th>\n",
              "      <td>...</td>\n",
              "      <td>...</td>\n",
              "      <td>...</td>\n",
              "      <td>...</td>\n",
              "      <td>...</td>\n",
              "      <td>...</td>\n",
              "      <td>...</td>\n",
              "      <td>...</td>\n",
              "      <td>...</td>\n",
              "      <td>...</td>\n",
              "      <td>...</td>\n",
              "      <td>...</td>\n",
              "      <td>...</td>\n",
              "      <td>...</td>\n",
              "      <td>...</td>\n",
              "    </tr>\n",
              "    <tr>\n",
              "      <th>2387</th>\n",
              "      <td>3388</td>\n",
              "      <td>18</td>\n",
              "      <td>1</td>\n",
              "      <td>0</td>\n",
              "      <td>3</td>\n",
              "      <td>10.680555</td>\n",
              "      <td>2</td>\n",
              "      <td>0</td>\n",
              "      <td>4</td>\n",
              "      <td>1</td>\n",
              "      <td>0</td>\n",
              "      <td>0</td>\n",
              "      <td>0</td>\n",
              "      <td>3.455509</td>\n",
              "      <td>0.0</td>\n",
              "    </tr>\n",
              "    <tr>\n",
              "      <th>2388</th>\n",
              "      <td>3389</td>\n",
              "      <td>17</td>\n",
              "      <td>0</td>\n",
              "      <td>0</td>\n",
              "      <td>1</td>\n",
              "      <td>7.583217</td>\n",
              "      <td>4</td>\n",
              "      <td>1</td>\n",
              "      <td>4</td>\n",
              "      <td>0</td>\n",
              "      <td>1</td>\n",
              "      <td>0</td>\n",
              "      <td>0</td>\n",
              "      <td>3.279150</td>\n",
              "      <td>4.0</td>\n",
              "    </tr>\n",
              "    <tr>\n",
              "      <th>2389</th>\n",
              "      <td>3390</td>\n",
              "      <td>16</td>\n",
              "      <td>1</td>\n",
              "      <td>0</td>\n",
              "      <td>2</td>\n",
              "      <td>6.805500</td>\n",
              "      <td>20</td>\n",
              "      <td>0</td>\n",
              "      <td>2</td>\n",
              "      <td>0</td>\n",
              "      <td>0</td>\n",
              "      <td>0</td>\n",
              "      <td>1</td>\n",
              "      <td>1.142333</td>\n",
              "      <td>2.0</td>\n",
              "    </tr>\n",
              "    <tr>\n",
              "      <th>2390</th>\n",
              "      <td>3391</td>\n",
              "      <td>16</td>\n",
              "      <td>1</td>\n",
              "      <td>1</td>\n",
              "      <td>0</td>\n",
              "      <td>12.416653</td>\n",
              "      <td>17</td>\n",
              "      <td>0</td>\n",
              "      <td>2</td>\n",
              "      <td>0</td>\n",
              "      <td>1</td>\n",
              "      <td>1</td>\n",
              "      <td>0</td>\n",
              "      <td>1.803297</td>\n",
              "      <td>1.0</td>\n",
              "    </tr>\n",
              "    <tr>\n",
              "      <th>2391</th>\n",
              "      <td>3392</td>\n",
              "      <td>16</td>\n",
              "      <td>1</td>\n",
              "      <td>0</td>\n",
              "      <td>2</td>\n",
              "      <td>17.819907</td>\n",
              "      <td>13</td>\n",
              "      <td>0</td>\n",
              "      <td>2</td>\n",
              "      <td>0</td>\n",
              "      <td>0</td>\n",
              "      <td>0</td>\n",
              "      <td>1</td>\n",
              "      <td>2.140014</td>\n",
              "      <td>1.0</td>\n",
              "    </tr>\n",
              "  </tbody>\n",
              "</table>\n",
              "<p>2392 rows × 15 columns</p>\n",
              "</div>\n",
              "    <div class=\"colab-df-buttons\">\n",
              "\n",
              "  <div class=\"colab-df-container\">\n",
              "    <button class=\"colab-df-convert\" onclick=\"convertToInteractive('df-1400c0c7-47e0-493b-a1b4-e25f04aed5f8')\"\n",
              "            title=\"Convert this dataframe to an interactive table.\"\n",
              "            style=\"display:none;\">\n",
              "\n",
              "  <svg xmlns=\"http://www.w3.org/2000/svg\" height=\"24px\" viewBox=\"0 -960 960 960\">\n",
              "    <path d=\"M120-120v-720h720v720H120Zm60-500h600v-160H180v160Zm220 220h160v-160H400v160Zm0 220h160v-160H400v160ZM180-400h160v-160H180v160Zm440 0h160v-160H620v160ZM180-180h160v-160H180v160Zm440 0h160v-160H620v160Z\"/>\n",
              "  </svg>\n",
              "    </button>\n",
              "\n",
              "  <style>\n",
              "    .colab-df-container {\n",
              "      display:flex;\n",
              "      gap: 12px;\n",
              "    }\n",
              "\n",
              "    .colab-df-convert {\n",
              "      background-color: #E8F0FE;\n",
              "      border: none;\n",
              "      border-radius: 50%;\n",
              "      cursor: pointer;\n",
              "      display: none;\n",
              "      fill: #1967D2;\n",
              "      height: 32px;\n",
              "      padding: 0 0 0 0;\n",
              "      width: 32px;\n",
              "    }\n",
              "\n",
              "    .colab-df-convert:hover {\n",
              "      background-color: #E2EBFA;\n",
              "      box-shadow: 0px 1px 2px rgba(60, 64, 67, 0.3), 0px 1px 3px 1px rgba(60, 64, 67, 0.15);\n",
              "      fill: #174EA6;\n",
              "    }\n",
              "\n",
              "    .colab-df-buttons div {\n",
              "      margin-bottom: 4px;\n",
              "    }\n",
              "\n",
              "    [theme=dark] .colab-df-convert {\n",
              "      background-color: #3B4455;\n",
              "      fill: #D2E3FC;\n",
              "    }\n",
              "\n",
              "    [theme=dark] .colab-df-convert:hover {\n",
              "      background-color: #434B5C;\n",
              "      box-shadow: 0px 1px 3px 1px rgba(0, 0, 0, 0.15);\n",
              "      filter: drop-shadow(0px 1px 2px rgba(0, 0, 0, 0.3));\n",
              "      fill: #FFFFFF;\n",
              "    }\n",
              "  </style>\n",
              "\n",
              "    <script>\n",
              "      const buttonEl =\n",
              "        document.querySelector('#df-1400c0c7-47e0-493b-a1b4-e25f04aed5f8 button.colab-df-convert');\n",
              "      buttonEl.style.display =\n",
              "        google.colab.kernel.accessAllowed ? 'block' : 'none';\n",
              "\n",
              "      async function convertToInteractive(key) {\n",
              "        const element = document.querySelector('#df-1400c0c7-47e0-493b-a1b4-e25f04aed5f8');\n",
              "        const dataTable =\n",
              "          await google.colab.kernel.invokeFunction('convertToInteractive',\n",
              "                                                    [key], {});\n",
              "        if (!dataTable) return;\n",
              "\n",
              "        const docLinkHtml = 'Like what you see? Visit the ' +\n",
              "          '<a target=\"_blank\" href=https://colab.research.google.com/notebooks/data_table.ipynb>data table notebook</a>'\n",
              "          + ' to learn more about interactive tables.';\n",
              "        element.innerHTML = '';\n",
              "        dataTable['output_type'] = 'display_data';\n",
              "        await google.colab.output.renderOutput(dataTable, element);\n",
              "        const docLink = document.createElement('div');\n",
              "        docLink.innerHTML = docLinkHtml;\n",
              "        element.appendChild(docLink);\n",
              "      }\n",
              "    </script>\n",
              "  </div>\n",
              "\n",
              "\n",
              "<div id=\"df-c67acfd1-c7c2-4dda-a665-5f1cc8a353db\">\n",
              "  <button class=\"colab-df-quickchart\" onclick=\"quickchart('df-c67acfd1-c7c2-4dda-a665-5f1cc8a353db')\"\n",
              "            title=\"Suggest charts\"\n",
              "            style=\"display:none;\">\n",
              "\n",
              "<svg xmlns=\"http://www.w3.org/2000/svg\" height=\"24px\"viewBox=\"0 0 24 24\"\n",
              "     width=\"24px\">\n",
              "    <g>\n",
              "        <path d=\"M19 3H5c-1.1 0-2 .9-2 2v14c0 1.1.9 2 2 2h14c1.1 0 2-.9 2-2V5c0-1.1-.9-2-2-2zM9 17H7v-7h2v7zm4 0h-2V7h2v10zm4 0h-2v-4h2v4z\"/>\n",
              "    </g>\n",
              "</svg>\n",
              "  </button>\n",
              "\n",
              "<style>\n",
              "  .colab-df-quickchart {\n",
              "      --bg-color: #E8F0FE;\n",
              "      --fill-color: #1967D2;\n",
              "      --hover-bg-color: #E2EBFA;\n",
              "      --hover-fill-color: #174EA6;\n",
              "      --disabled-fill-color: #AAA;\n",
              "      --disabled-bg-color: #DDD;\n",
              "  }\n",
              "\n",
              "  [theme=dark] .colab-df-quickchart {\n",
              "      --bg-color: #3B4455;\n",
              "      --fill-color: #D2E3FC;\n",
              "      --hover-bg-color: #434B5C;\n",
              "      --hover-fill-color: #FFFFFF;\n",
              "      --disabled-bg-color: #3B4455;\n",
              "      --disabled-fill-color: #666;\n",
              "  }\n",
              "\n",
              "  .colab-df-quickchart {\n",
              "    background-color: var(--bg-color);\n",
              "    border: none;\n",
              "    border-radius: 50%;\n",
              "    cursor: pointer;\n",
              "    display: none;\n",
              "    fill: var(--fill-color);\n",
              "    height: 32px;\n",
              "    padding: 0;\n",
              "    width: 32px;\n",
              "  }\n",
              "\n",
              "  .colab-df-quickchart:hover {\n",
              "    background-color: var(--hover-bg-color);\n",
              "    box-shadow: 0 1px 2px rgba(60, 64, 67, 0.3), 0 1px 3px 1px rgba(60, 64, 67, 0.15);\n",
              "    fill: var(--button-hover-fill-color);\n",
              "  }\n",
              "\n",
              "  .colab-df-quickchart-complete:disabled,\n",
              "  .colab-df-quickchart-complete:disabled:hover {\n",
              "    background-color: var(--disabled-bg-color);\n",
              "    fill: var(--disabled-fill-color);\n",
              "    box-shadow: none;\n",
              "  }\n",
              "\n",
              "  .colab-df-spinner {\n",
              "    border: 2px solid var(--fill-color);\n",
              "    border-color: transparent;\n",
              "    border-bottom-color: var(--fill-color);\n",
              "    animation:\n",
              "      spin 1s steps(1) infinite;\n",
              "  }\n",
              "\n",
              "  @keyframes spin {\n",
              "    0% {\n",
              "      border-color: transparent;\n",
              "      border-bottom-color: var(--fill-color);\n",
              "      border-left-color: var(--fill-color);\n",
              "    }\n",
              "    20% {\n",
              "      border-color: transparent;\n",
              "      border-left-color: var(--fill-color);\n",
              "      border-top-color: var(--fill-color);\n",
              "    }\n",
              "    30% {\n",
              "      border-color: transparent;\n",
              "      border-left-color: var(--fill-color);\n",
              "      border-top-color: var(--fill-color);\n",
              "      border-right-color: var(--fill-color);\n",
              "    }\n",
              "    40% {\n",
              "      border-color: transparent;\n",
              "      border-right-color: var(--fill-color);\n",
              "      border-top-color: var(--fill-color);\n",
              "    }\n",
              "    60% {\n",
              "      border-color: transparent;\n",
              "      border-right-color: var(--fill-color);\n",
              "    }\n",
              "    80% {\n",
              "      border-color: transparent;\n",
              "      border-right-color: var(--fill-color);\n",
              "      border-bottom-color: var(--fill-color);\n",
              "    }\n",
              "    90% {\n",
              "      border-color: transparent;\n",
              "      border-bottom-color: var(--fill-color);\n",
              "    }\n",
              "  }\n",
              "</style>\n",
              "\n",
              "  <script>\n",
              "    async function quickchart(key) {\n",
              "      const quickchartButtonEl =\n",
              "        document.querySelector('#' + key + ' button');\n",
              "      quickchartButtonEl.disabled = true;  // To prevent multiple clicks.\n",
              "      quickchartButtonEl.classList.add('colab-df-spinner');\n",
              "      try {\n",
              "        const charts = await google.colab.kernel.invokeFunction(\n",
              "            'suggestCharts', [key], {});\n",
              "      } catch (error) {\n",
              "        console.error('Error during call to suggestCharts:', error);\n",
              "      }\n",
              "      quickchartButtonEl.classList.remove('colab-df-spinner');\n",
              "      quickchartButtonEl.classList.add('colab-df-quickchart-complete');\n",
              "    }\n",
              "    (() => {\n",
              "      let quickchartButtonEl =\n",
              "        document.querySelector('#df-c67acfd1-c7c2-4dda-a665-5f1cc8a353db button');\n",
              "      quickchartButtonEl.style.display =\n",
              "        google.colab.kernel.accessAllowed ? 'block' : 'none';\n",
              "    })();\n",
              "  </script>\n",
              "</div>\n",
              "\n",
              "  <div id=\"id_51a7f034-c2b2-4869-b4dd-ecf94409b49f\">\n",
              "    <style>\n",
              "      .colab-df-generate {\n",
              "        background-color: #E8F0FE;\n",
              "        border: none;\n",
              "        border-radius: 50%;\n",
              "        cursor: pointer;\n",
              "        display: none;\n",
              "        fill: #1967D2;\n",
              "        height: 32px;\n",
              "        padding: 0 0 0 0;\n",
              "        width: 32px;\n",
              "      }\n",
              "\n",
              "      .colab-df-generate:hover {\n",
              "        background-color: #E2EBFA;\n",
              "        box-shadow: 0px 1px 2px rgba(60, 64, 67, 0.3), 0px 1px 3px 1px rgba(60, 64, 67, 0.15);\n",
              "        fill: #174EA6;\n",
              "      }\n",
              "\n",
              "      [theme=dark] .colab-df-generate {\n",
              "        background-color: #3B4455;\n",
              "        fill: #D2E3FC;\n",
              "      }\n",
              "\n",
              "      [theme=dark] .colab-df-generate:hover {\n",
              "        background-color: #434B5C;\n",
              "        box-shadow: 0px 1px 3px 1px rgba(0, 0, 0, 0.15);\n",
              "        filter: drop-shadow(0px 1px 2px rgba(0, 0, 0, 0.3));\n",
              "        fill: #FFFFFF;\n",
              "      }\n",
              "    </style>\n",
              "    <button class=\"colab-df-generate\" onclick=\"generateWithVariable('data')\"\n",
              "            title=\"Generate code using this dataframe.\"\n",
              "            style=\"display:none;\">\n",
              "\n",
              "  <svg xmlns=\"http://www.w3.org/2000/svg\" height=\"24px\"viewBox=\"0 0 24 24\"\n",
              "       width=\"24px\">\n",
              "    <path d=\"M7,19H8.4L18.45,9,17,7.55,7,17.6ZM5,21V16.75L18.45,3.32a2,2,0,0,1,2.83,0l1.4,1.43a1.91,1.91,0,0,1,.58,1.4,1.91,1.91,0,0,1-.58,1.4L9.25,21ZM18.45,9,17,7.55Zm-12,3A5.31,5.31,0,0,0,4.9,8.1,5.31,5.31,0,0,0,1,6.5,5.31,5.31,0,0,0,4.9,4.9,5.31,5.31,0,0,0,6.5,1,5.31,5.31,0,0,0,8.1,4.9,5.31,5.31,0,0,0,12,6.5,5.46,5.46,0,0,0,6.5,12Z\"/>\n",
              "  </svg>\n",
              "    </button>\n",
              "    <script>\n",
              "      (() => {\n",
              "      const buttonEl =\n",
              "        document.querySelector('#id_51a7f034-c2b2-4869-b4dd-ecf94409b49f button.colab-df-generate');\n",
              "      buttonEl.style.display =\n",
              "        google.colab.kernel.accessAllowed ? 'block' : 'none';\n",
              "\n",
              "      buttonEl.onclick = () => {\n",
              "        google.colab.notebook.generateWithVariable('data');\n",
              "      }\n",
              "      })();\n",
              "    </script>\n",
              "  </div>\n",
              "\n",
              "    </div>\n",
              "  </div>\n"
            ],
            "application/vnd.google.colaboratory.intrinsic+json": {
              "type": "dataframe",
              "variable_name": "data",
              "summary": "{\n  \"name\": \"data\",\n  \"rows\": 2392,\n  \"fields\": [\n    {\n      \"column\": \"StudentID\",\n      \"properties\": {\n        \"dtype\": \"number\",\n        \"std\": 690,\n        \"min\": 1001,\n        \"max\": 3392,\n        \"num_unique_values\": 2392,\n        \"samples\": [\n          2005,\n          1197,\n          3343\n        ],\n        \"semantic_type\": \"\",\n        \"description\": \"\"\n      }\n    },\n    {\n      \"column\": \"Age\",\n      \"properties\": {\n        \"dtype\": \"number\",\n        \"std\": 1,\n        \"min\": 15,\n        \"max\": 18,\n        \"num_unique_values\": 4,\n        \"samples\": [\n          18,\n          16,\n          17\n        ],\n        \"semantic_type\": \"\",\n        \"description\": \"\"\n      }\n    },\n    {\n      \"column\": \"Gender\",\n      \"properties\": {\n        \"dtype\": \"number\",\n        \"std\": 0,\n        \"min\": 0,\n        \"max\": 1,\n        \"num_unique_values\": 2,\n        \"samples\": [\n          0,\n          1\n        ],\n        \"semantic_type\": \"\",\n        \"description\": \"\"\n      }\n    },\n    {\n      \"column\": \"Ethnicity\",\n      \"properties\": {\n        \"dtype\": \"number\",\n        \"std\": 1,\n        \"min\": 0,\n        \"max\": 3,\n        \"num_unique_values\": 4,\n        \"samples\": [\n          2,\n          3\n        ],\n        \"semantic_type\": \"\",\n        \"description\": \"\"\n      }\n    },\n    {\n      \"column\": \"ParentalEducation\",\n      \"properties\": {\n        \"dtype\": \"number\",\n        \"std\": 1,\n        \"min\": 0,\n        \"max\": 4,\n        \"num_unique_values\": 5,\n        \"samples\": [\n          1,\n          0\n        ],\n        \"semantic_type\": \"\",\n        \"description\": \"\"\n      }\n    },\n    {\n      \"column\": \"StudyTimeWeekly\",\n      \"properties\": {\n        \"dtype\": \"number\",\n        \"std\": 5.65277423586027,\n        \"min\": 0.001056538645936,\n        \"max\": 19.97809399526153,\n        \"num_unique_values\": 2392,\n        \"samples\": [\n          0.1357634804717955,\n          1.9899245236127627\n        ],\n        \"semantic_type\": \"\",\n        \"description\": \"\"\n      }\n    },\n    {\n      \"column\": \"Absences\",\n      \"properties\": {\n        \"dtype\": \"number\",\n        \"std\": 8,\n        \"min\": 0,\n        \"max\": 29,\n        \"num_unique_values\": 30,\n        \"samples\": [\n          18,\n          25\n        ],\n        \"semantic_type\": \"\",\n        \"description\": \"\"\n      }\n    },\n    {\n      \"column\": \"Tutoring\",\n      \"properties\": {\n        \"dtype\": \"number\",\n        \"std\": 0,\n        \"min\": 0,\n        \"max\": 1,\n        \"num_unique_values\": 2,\n        \"samples\": [\n          0,\n          1\n        ],\n        \"semantic_type\": \"\",\n        \"description\": \"\"\n      }\n    },\n    {\n      \"column\": \"ParentalSupport\",\n      \"properties\": {\n        \"dtype\": \"number\",\n        \"std\": 1,\n        \"min\": 0,\n        \"max\": 4,\n        \"num_unique_values\": 5,\n        \"samples\": [\n          1,\n          0\n        ],\n        \"semantic_type\": \"\",\n        \"description\": \"\"\n      }\n    },\n    {\n      \"column\": \"Extracurricular\",\n      \"properties\": {\n        \"dtype\": \"number\",\n        \"std\": 0,\n        \"min\": 0,\n        \"max\": 1,\n        \"num_unique_values\": 2,\n        \"samples\": [\n          1,\n          0\n        ],\n        \"semantic_type\": \"\",\n        \"description\": \"\"\n      }\n    },\n    {\n      \"column\": \"Sports\",\n      \"properties\": {\n        \"dtype\": \"number\",\n        \"std\": 0,\n        \"min\": 0,\n        \"max\": 1,\n        \"num_unique_values\": 2,\n        \"samples\": [\n          1,\n          0\n        ],\n        \"semantic_type\": \"\",\n        \"description\": \"\"\n      }\n    },\n    {\n      \"column\": \"Music\",\n      \"properties\": {\n        \"dtype\": \"number\",\n        \"std\": 0,\n        \"min\": 0,\n        \"max\": 1,\n        \"num_unique_values\": 2,\n        \"samples\": [\n          0,\n          1\n        ],\n        \"semantic_type\": \"\",\n        \"description\": \"\"\n      }\n    },\n    {\n      \"column\": \"Volunteering\",\n      \"properties\": {\n        \"dtype\": \"number\",\n        \"std\": 0,\n        \"min\": 0,\n        \"max\": 1,\n        \"num_unique_values\": 2,\n        \"samples\": [\n          1,\n          0\n        ],\n        \"semantic_type\": \"\",\n        \"description\": \"\"\n      }\n    },\n    {\n      \"column\": \"GPA\",\n      \"properties\": {\n        \"dtype\": \"number\",\n        \"std\": 0.91515582032496,\n        \"min\": 0.0,\n        \"max\": 4.0,\n        \"num_unique_values\": 2371,\n        \"samples\": [\n          3.3104012689001965,\n          3.4577117259752934\n        ],\n        \"semantic_type\": \"\",\n        \"description\": \"\"\n      }\n    },\n    {\n      \"column\": \"GradeClass\",\n      \"properties\": {\n        \"dtype\": \"number\",\n        \"std\": 1.2339075602260843,\n        \"min\": 0.0,\n        \"max\": 4.0,\n        \"num_unique_values\": 5,\n        \"samples\": [\n          1.0,\n          0.0\n        ],\n        \"semantic_type\": \"\",\n        \"description\": \"\"\n      }\n    }\n  ]\n}"
            }
          },
          "metadata": {},
          "execution_count": 139
        }
      ],
      "source": [
        "data = pd.read_csv(\"Student_performance_data _.csv\")\n",
        "data"
      ]
    },
    {
      "cell_type": "code",
      "execution_count": 140,
      "metadata": {
        "colab": {
          "base_uri": "https://localhost:8080/"
        },
        "id": "j66_OWwhnp6O",
        "outputId": "a69c5909-c467-432a-d9c8-3ec76a804fd4"
      },
      "outputs": [
        {
          "output_type": "stream",
          "name": "stdout",
          "text": [
            "<class 'pandas.core.frame.DataFrame'>\n",
            "RangeIndex: 2392 entries, 0 to 2391\n",
            "Data columns (total 15 columns):\n",
            " #   Column             Non-Null Count  Dtype  \n",
            "---  ------             --------------  -----  \n",
            " 0   StudentID          2392 non-null   int64  \n",
            " 1   Age                2392 non-null   int64  \n",
            " 2   Gender             2392 non-null   int64  \n",
            " 3   Ethnicity          2392 non-null   int64  \n",
            " 4   ParentalEducation  2392 non-null   int64  \n",
            " 5   StudyTimeWeekly    2392 non-null   float64\n",
            " 6   Absences           2392 non-null   int64  \n",
            " 7   Tutoring           2392 non-null   int64  \n",
            " 8   ParentalSupport    2392 non-null   int64  \n",
            " 9   Extracurricular    2392 non-null   int64  \n",
            " 10  Sports             2392 non-null   int64  \n",
            " 11  Music              2392 non-null   int64  \n",
            " 12  Volunteering       2392 non-null   int64  \n",
            " 13  GPA                2392 non-null   float64\n",
            " 14  GradeClass         2392 non-null   float64\n",
            "dtypes: float64(3), int64(12)\n",
            "memory usage: 280.4 KB\n"
          ]
        }
      ],
      "source": [
        "data.info()"
      ]
    },
    {
      "cell_type": "markdown",
      "metadata": {
        "id": "qKyaTJ7Unp6O"
      },
      "source": [
        "### 3) Add a new column called 'Profile' this column will have the following information\n",
        "\n",
        "Based on the value of GPA for each student:\n",
        "\n",
        "- If GPA values between 0 and 2 will be labeled 'Low',\n",
        "- Values between 2 and 3.5 will be 'Medium',\n",
        "- And values between 3.5 and 5 will be 'High'.\n"
      ]
    },
    {
      "cell_type": "code",
      "execution_count": 141,
      "metadata": {
        "colab": {
          "base_uri": "https://localhost:8080/",
          "height": 458
        },
        "id": "Zj6lSLOEnp6O",
        "outputId": "fc53125c-a62b-4a84-ce3e-7fe3cc04e85b"
      },
      "outputs": [
        {
          "output_type": "execute_result",
          "data": {
            "text/plain": [
              "0       Medium\n",
              "1       Medium\n",
              "2          Low\n",
              "3       Medium\n",
              "4          Low\n",
              "         ...  \n",
              "2387    Medium\n",
              "2388    Medium\n",
              "2389       Low\n",
              "2390       Low\n",
              "2391    Medium\n",
              "Name: Profile, Length: 2392, dtype: category\n",
              "Categories (3, object): ['Low' < 'Medium' < 'High']"
            ],
            "text/html": [
              "<div>\n",
              "<style scoped>\n",
              "    .dataframe tbody tr th:only-of-type {\n",
              "        vertical-align: middle;\n",
              "    }\n",
              "\n",
              "    .dataframe tbody tr th {\n",
              "        vertical-align: top;\n",
              "    }\n",
              "\n",
              "    .dataframe thead th {\n",
              "        text-align: right;\n",
              "    }\n",
              "</style>\n",
              "<table border=\"1\" class=\"dataframe\">\n",
              "  <thead>\n",
              "    <tr style=\"text-align: right;\">\n",
              "      <th></th>\n",
              "      <th>Profile</th>\n",
              "    </tr>\n",
              "  </thead>\n",
              "  <tbody>\n",
              "    <tr>\n",
              "      <th>0</th>\n",
              "      <td>Medium</td>\n",
              "    </tr>\n",
              "    <tr>\n",
              "      <th>1</th>\n",
              "      <td>Medium</td>\n",
              "    </tr>\n",
              "    <tr>\n",
              "      <th>2</th>\n",
              "      <td>Low</td>\n",
              "    </tr>\n",
              "    <tr>\n",
              "      <th>3</th>\n",
              "      <td>Medium</td>\n",
              "    </tr>\n",
              "    <tr>\n",
              "      <th>4</th>\n",
              "      <td>Low</td>\n",
              "    </tr>\n",
              "    <tr>\n",
              "      <th>...</th>\n",
              "      <td>...</td>\n",
              "    </tr>\n",
              "    <tr>\n",
              "      <th>2387</th>\n",
              "      <td>Medium</td>\n",
              "    </tr>\n",
              "    <tr>\n",
              "      <th>2388</th>\n",
              "      <td>Medium</td>\n",
              "    </tr>\n",
              "    <tr>\n",
              "      <th>2389</th>\n",
              "      <td>Low</td>\n",
              "    </tr>\n",
              "    <tr>\n",
              "      <th>2390</th>\n",
              "      <td>Low</td>\n",
              "    </tr>\n",
              "    <tr>\n",
              "      <th>2391</th>\n",
              "      <td>Medium</td>\n",
              "    </tr>\n",
              "  </tbody>\n",
              "</table>\n",
              "<p>2392 rows × 1 columns</p>\n",
              "</div><br><label><b>dtype:</b> category</label>"
            ]
          },
          "metadata": {},
          "execution_count": 141
        }
      ],
      "source": [
        "data[\"Profile\"] = pd.cut(data[\"GPA\"], bins=[0, 2, 3.5, 5], labels=[\"Low\", \"Medium\", \"High\"])\n",
        "data[\"Profile\"]"
      ]
    },
    {
      "cell_type": "markdown",
      "metadata": {
        "id": "-IjbdtOVnp6O"
      },
      "source": [
        "### 4) Use Matplotlib to show a Pie chart to show the percentage of students in each profile.\n",
        "- Title: Students distribution of Profiles\n",
        "- Graph Type: pie"
      ]
    },
    {
      "cell_type": "code",
      "execution_count": 142,
      "metadata": {
        "colab": {
          "base_uri": "https://localhost:8080/",
          "height": 423
        },
        "id": "XdlV8d8Xnp6P",
        "outputId": "d18f2324-e30e-4ada-98c8-b9a68ce27659"
      },
      "outputs": [
        {
          "output_type": "execute_result",
          "data": {
            "text/plain": [
              "<Axes: ylabel='count'>"
            ]
          },
          "metadata": {},
          "execution_count": 142
        },
        {
          "output_type": "display_data",
          "data": {
            "text/plain": [
              "<Figure size 640x480 with 1 Axes>"
            ],
            "image/png": "[encoded data removed]"
          },
          "metadata": {}
        }
      ],
      "source": [
        "data[\"Profile\"].value_counts().plot(kind=\"pie\", autopct=\"%1.1f%%\")\n"
      ]
    },
    {
      "cell_type": "markdown",
      "metadata": {
        "id": "51KMn-XOnp6P"
      },
      "source": [
        "### 5) Convert the Profile column into a Categorical Int\n",
        "\n",
        "You have already created a column with three different values: 'Low', 'Medium', 'High'. These are Categorical values. But, it is important to notice that Neural Networks works better with numbers, since we apply mathematical operations to them.\n",
        "\n",
        "Next you need to convert Profile values from Low, Medium and High, to 0, 1 and 2. IMPORTANT, the order does not matter, but make sure you always assign the same number to Low, same number to Medium and same number to High.\n",
        "\n",
        "Make sure to use the fit_transform method from LabelEncoder."
      ]
    },
    {
      "cell_type": "code",
      "execution_count": 143,
      "metadata": {
        "colab": {
          "base_uri": "https://localhost:8080/",
          "height": 458
        },
        "id": "wNjXRWAgnp6P",
        "outputId": "ead66917-10de-478b-b21b-9f82dacdf799"
      },
      "outputs": [
        {
          "output_type": "execute_result",
          "data": {
            "text/plain": [
              "0       2\n",
              "1       2\n",
              "2       1\n",
              "3       2\n",
              "4       1\n",
              "       ..\n",
              "2387    2\n",
              "2388    2\n",
              "2389    1\n",
              "2390    1\n",
              "2391    2\n",
              "Name: iIdProfile, Length: 2392, dtype: int64"
            ],
            "text/html": [
              "<div>\n",
              "<style scoped>\n",
              "    .dataframe tbody tr th:only-of-type {\n",
              "        vertical-align: middle;\n",
              "    }\n",
              "\n",
              "    .dataframe tbody tr th {\n",
              "        vertical-align: top;\n",
              "    }\n",
              "\n",
              "    .dataframe thead th {\n",
              "        text-align: right;\n",
              "    }\n",
              "</style>\n",
              "<table border=\"1\" class=\"dataframe\">\n",
              "  <thead>\n",
              "    <tr style=\"text-align: right;\">\n",
              "      <th></th>\n",
              "      <th>iIdProfile</th>\n",
              "    </tr>\n",
              "  </thead>\n",
              "  <tbody>\n",
              "    <tr>\n",
              "      <th>0</th>\n",
              "      <td>2</td>\n",
              "    </tr>\n",
              "    <tr>\n",
              "      <th>1</th>\n",
              "      <td>2</td>\n",
              "    </tr>\n",
              "    <tr>\n",
              "      <th>2</th>\n",
              "      <td>1</td>\n",
              "    </tr>\n",
              "    <tr>\n",
              "      <th>3</th>\n",
              "      <td>2</td>\n",
              "    </tr>\n",
              "    <tr>\n",
              "      <th>4</th>\n",
              "      <td>1</td>\n",
              "    </tr>\n",
              "    <tr>\n",
              "      <th>...</th>\n",
              "      <td>...</td>\n",
              "    </tr>\n",
              "    <tr>\n",
              "      <th>2387</th>\n",
              "      <td>2</td>\n",
              "    </tr>\n",
              "    <tr>\n",
              "      <th>2388</th>\n",
              "      <td>2</td>\n",
              "    </tr>\n",
              "    <tr>\n",
              "      <th>2389</th>\n",
              "      <td>1</td>\n",
              "    </tr>\n",
              "    <tr>\n",
              "      <th>2390</th>\n",
              "      <td>1</td>\n",
              "    </tr>\n",
              "    <tr>\n",
              "      <th>2391</th>\n",
              "      <td>2</td>\n",
              "    </tr>\n",
              "  </tbody>\n",
              "</table>\n",
              "<p>2392 rows × 1 columns</p>\n",
              "</div><br><label><b>dtype:</b> int64</label>"
            ]
          },
          "metadata": {},
          "execution_count": 143
        }
      ],
      "source": [
        "data[\"iIdProfile\"] = LabelEncoder().fit_transform(data[\"Profile\"])\n",
        "data[\"iIdProfile\"]"
      ]
    },
    {
      "cell_type": "markdown",
      "metadata": {
        "id": "rfZVqLKSnp6P"
      },
      "source": [
        "### 6) Select the columns for your model.\n",
        "\n",
        "Same as the last excersice we need a dataset for features and a dataset for label.\n",
        "\n",
        "- Create the following dataset:\n",
        "   - A dataset with the columns for the model.\n",
        "   - From that data set generate the 'X' dataset. This dataset will have all the features (make sure Profile is NOT in this dataset)\n",
        "   - Generate a second 'y' dataset, This dataset will only have our label column, which is 'Profile'.\n",
        "   - Generate the Train and Test datasets for each X and y:\n",
        "      - X_train with 80% of the data\n",
        "      - X_test with 20% of the data\n",
        "      - y_train with 80% of the data\n",
        "      - y_test with 20% of the data"
      ]
    },
    {
      "cell_type": "code",
      "execution_count": 144,
      "metadata": {
        "id": "78G1dhLVnp6P"
      },
      "outputs": [],
      "source": [
        "oModelDF = data.drop(columns=[\"StudentID\", \"Age\", \"Gender\", \"Ethnicity\" ])\n",
        "\n",
        "oX = oModelDF.drop(columns=[\"Profile\", \"iIdProfile\"])\n",
        "oY = oModelDF[\"iIdProfile\"]\n",
        "X_Train, X_Test, y_Train, y_Test = train_test_split(oX, oY, test_size=0.2, random_state=42)"
      ]
    },
    {
      "cell_type": "markdown",
      "metadata": {
        "id": "hR6qnk1lnp6P"
      },
      "source": [
        "### 7) All Feature datasets in the same scale.\n",
        "\n",
        "Use StandardScaler to make sure all features in the X_train and X_test datasets are on the same scale.\n",
        "\n",
        "\n",
        "Standardization transforms your data so that it has a mean of 0 and a standard deviation of 1. This is important because many machine learning algorithms perform better when the input features are on a similar scale.\n",
        "\n",
        "Reason for Using StandardScaler:\n",
        "- Consistent Scale: Features with different scales (e.g., age in years, income in dollars) can bias the model. StandardScaler ensures all features contribute equally.\n",
        "- Improved Convergence: Algorithms like gradient descent converge faster with standardized data.\n",
        "- Regularization: Helps in achieving better performance in regularization methods like Ridge and Lasso regression.\n"
      ]
    },
    {
      "cell_type": "code",
      "execution_count": 145,
      "metadata": {
        "id": "IdvxY-gbnp6Q"
      },
      "outputs": [],
      "source": [
        "scaler = StandardScaler()\n",
        "\n",
        "X_Train = scaler.fit_transform(X_Train)\n",
        "X_Test = scaler.transform(X_Test)"
      ]
    },
    {
      "cell_type": "markdown",
      "metadata": {
        "id": "sUtcRaqvnp6Q"
      },
      "source": [
        "### 8. Define your Deep Neural Network.\n",
        "- This will be a Sequential Neural Network.\n",
        "- With a Dense input layer with 64 units, and input dimention based on the X_train size and Relu as the activation function.\n",
        "- A Dense hidden layer with 32 units, and Relu as the activation function.\n",
        "- And a Dense output layer with the number of different values in the y dataset, activation function = to sofmax\n",
        "\n",
        "This last part of the output layer is super important, since we want to do a classification and not a regression, we will use activation functions that fits better a classification scenario."
      ]
    },
    {
      "cell_type": "code",
      "execution_count": 146,
      "metadata": {
        "colab": {
          "base_uri": "https://localhost:8080/"
        },
        "id": "bU3EZydJnp6Q",
        "outputId": "dd55c41c-e1ae-4d86-e625-4850b1e8a0b3"
      },
      "outputs": [
        {
          "output_type": "stream",
          "name": "stderr",
          "text": [
            "/usr/local/lib/python3.10/dist-packages/keras/src/layers/core/dense.py:87: UserWarning: Do not pass an `input_shape`/`input_dim` argument to a layer. When using Sequential models, prefer using an `Input(shape)` object as the first layer in the model instead.\n",
            "  super().__init__(activity_regularizer=activity_regularizer, **kwargs)\n"
          ]
        }
      ],
      "source": [
        "model = Sequential()\n",
        "model.add(Dense(64, input_dim=11, activation='relu'))\n",
        "model.add(Dense(32, activation='relu'))\n",
        "model.add(Dense(1))"
      ]
    },
    {
      "cell_type": "markdown",
      "metadata": {
        "id": "BnG5ju8pnp6Q"
      },
      "source": [
        "### 9. Compile your Neural Network\n",
        "- Choose Adam as the optimizer\n",
        "- And sparse_categorical_crossentropy as the Loss function\n",
        "- Also add the following metrics: accuracy"
      ]
    },
    {
      "cell_type": "code",
      "execution_count": 147,
      "metadata": {
        "id": "jmdRmY5Vnp6Q"
      },
      "outputs": [],
      "source": [
        "model.compile(optimizer='adam', loss='mse', metrics=['mae'])"
      ]
    },
    {
      "cell_type": "markdown",
      "metadata": {
        "id": "lvsF2B2Jnp6Q"
      },
      "source": [
        "### 10. Fit (or train) your model\n",
        "- Use the X_train and y_train datasets for the training\n",
        "- Do 50 data iterations\n",
        "- Choose the batch size = 10\n",
        "- Also select a validation_split of 0.2\n",
        "- Save the result of the fit function in a variable called 'history'"
      ]
    },
    {
      "cell_type": "code",
      "execution_count": 148,
      "metadata": {
        "colab": {
          "base_uri": "https://localhost:8080/"
        },
        "id": "tDfTXGk7np6Q",
        "outputId": "d6f3602f-e471-4a19-8bb6-3a3d43c8a2ed"
      },
      "outputs": [
        {
          "output_type": "stream",
          "name": "stdout",
          "text": [
            "Epoch 1/50\n",
            "\u001b[1m153/153\u001b[0m \u001b[32m━━━━━━━━━━━━━━━━━━━━\u001b[0m\u001b[37m\u001b[0m \u001b[1m2s\u001b[0m 3ms/step - loss: 0.6562 - mae: 0.6134 - val_loss: 0.2667 - val_mae: 0.3606\n",
            "Epoch 2/50\n",
            "\u001b[1m153/153\u001b[0m \u001b[32m━━━━━━━━━━━━━━━━━━━━\u001b[0m\u001b[37m\u001b[0m \u001b[1m0s\u001b[0m 2ms/step - loss: 0.2465 - mae: 0.3491 - val_loss: 0.2203 - val_mae: 0.3305\n",
            "Epoch 3/50\n",
            "\u001b[1m153/153\u001b[0m \u001b[32m━━━━━━━━━━━━━━━━━━━━\u001b[0m\u001b[37m\u001b[0m \u001b[1m0s\u001b[0m 2ms/step - loss: 0.2000 - mae: 0.3072 - val_loss: 0.1779 - val_mae: 0.2842\n",
            "Epoch 4/50\n",
            "\u001b[1m153/153\u001b[0m \u001b[32m━━━━━━━━━━━━━━━━━━━━\u001b[0m\u001b[37m\u001b[0m \u001b[1m0s\u001b[0m 2ms/step - loss: 0.1620 - mae: 0.2710 - val_loss: 0.1466 - val_mae: 0.2749\n",
            "Epoch 5/50\n",
            "\u001b[1m153/153\u001b[0m \u001b[32m━━━━━━━━━━━━━━━━━━━━\u001b[0m\u001b[37m\u001b[0m \u001b[1m0s\u001b[0m 2ms/step - loss: 0.1421 - mae: 0.2492 - val_loss: 0.1251 - val_mae: 0.2234\n",
            "Epoch 6/50\n",
            "\u001b[1m153/153\u001b[0m \u001b[32m━━━━━━━━━━━━━━━━━━━━\u001b[0m\u001b[37m\u001b[0m \u001b[1m0s\u001b[0m 2ms/step - loss: 0.1212 - mae: 0.2266 - val_loss: 0.1097 - val_mae: 0.2170\n",
            "Epoch 7/50\n",
            "\u001b[1m153/153\u001b[0m \u001b[32m━━━━━━━━━━━━━━━━━━━━\u001b[0m\u001b[37m\u001b[0m \u001b[1m1s\u001b[0m 2ms/step - loss: 0.1153 - mae: 0.2174 - val_loss: 0.1099 - val_mae: 0.2200\n",
            "Epoch 8/50\n",
            "\u001b[1m153/153\u001b[0m \u001b[32m━━━━━━━━━━━━━━━━━━━━\u001b[0m\u001b[37m\u001b[0m \u001b[1m0s\u001b[0m 2ms/step - loss: 0.0944 - mae: 0.1929 - val_loss: 0.1115 - val_mae: 0.2273\n",
            "Epoch 9/50\n",
            "\u001b[1m153/153\u001b[0m \u001b[32m━━━━━━━━━━━━━━━━━━━━\u001b[0m\u001b[37m\u001b[0m \u001b[1m1s\u001b[0m 2ms/step - loss: 0.0950 - mae: 0.1957 - val_loss: 0.0970 - val_mae: 0.1938\n",
            "Epoch 10/50\n",
            "\u001b[1m153/153\u001b[0m \u001b[32m━━━━━━━━━━━━━━━━━━━━\u001b[0m\u001b[37m\u001b[0m \u001b[1m0s\u001b[0m 2ms/step - loss: 0.0939 - mae: 0.1847 - val_loss: 0.0928 - val_mae: 0.1940\n",
            "Epoch 11/50\n",
            "\u001b[1m153/153\u001b[0m \u001b[32m━━━━━━━━━━━━━━━━━━━━\u001b[0m\u001b[37m\u001b[0m \u001b[1m0s\u001b[0m 3ms/step - loss: 0.0697 - mae: 0.1652 - val_loss: 0.0965 - val_mae: 0.1930\n",
            "Epoch 12/50\n",
            "\u001b[1m153/153\u001b[0m \u001b[32m━━━━━━━━━━━━━━━━━━━━\u001b[0m\u001b[37m\u001b[0m \u001b[1m1s\u001b[0m 3ms/step - loss: 0.0629 - mae: 0.1573 - val_loss: 0.0944 - val_mae: 0.2058\n",
            "Epoch 13/50\n",
            "\u001b[1m153/153\u001b[0m \u001b[32m━━━━━━━━━━━━━━━━━━━━\u001b[0m\u001b[37m\u001b[0m \u001b[1m1s\u001b[0m 3ms/step - loss: 0.0698 - mae: 0.1701 - val_loss: 0.0989 - val_mae: 0.1908\n",
            "Epoch 14/50\n",
            "\u001b[1m153/153\u001b[0m \u001b[32m━━━━━━━━━━━━━━━━━━━━\u001b[0m\u001b[37m\u001b[0m \u001b[1m0s\u001b[0m 3ms/step - loss: 0.0554 - mae: 0.1438 - val_loss: 0.0867 - val_mae: 0.1920\n",
            "Epoch 15/50\n",
            "\u001b[1m153/153\u001b[0m \u001b[32m━━━━━━━━━━━━━━━━━━━━\u001b[0m\u001b[37m\u001b[0m \u001b[1m1s\u001b[0m 3ms/step - loss: 0.0543 - mae: 0.1426 - val_loss: 0.0792 - val_mae: 0.1728\n",
            "Epoch 16/50\n",
            "\u001b[1m153/153\u001b[0m \u001b[32m━━━━━━━━━━━━━━━━━━━━\u001b[0m\u001b[37m\u001b[0m \u001b[1m1s\u001b[0m 3ms/step - loss: 0.0586 - mae: 0.1413 - val_loss: 0.0774 - val_mae: 0.1750\n",
            "Epoch 17/50\n",
            "\u001b[1m153/153\u001b[0m \u001b[32m━━━━━━━━━━━━━━━━━━━━\u001b[0m\u001b[37m\u001b[0m \u001b[1m0s\u001b[0m 2ms/step - loss: 0.0553 - mae: 0.1406 - val_loss: 0.0779 - val_mae: 0.1796\n",
            "Epoch 18/50\n",
            "\u001b[1m153/153\u001b[0m \u001b[32m━━━━━━━━━━━━━━━━━━━━\u001b[0m\u001b[37m\u001b[0m \u001b[1m0s\u001b[0m 2ms/step - loss: 0.0484 - mae: 0.1341 - val_loss: 0.0741 - val_mae: 0.1775\n",
            "Epoch 19/50\n",
            "\u001b[1m153/153\u001b[0m \u001b[32m━━━━━━━━━━━━━━━━━━━━\u001b[0m\u001b[37m\u001b[0m \u001b[1m1s\u001b[0m 2ms/step - loss: 0.0519 - mae: 0.1376 - val_loss: 0.0659 - val_mae: 0.1583\n",
            "Epoch 20/50\n",
            "\u001b[1m153/153\u001b[0m \u001b[32m━━━━━━━━━━━━━━━━━━━━\u001b[0m\u001b[37m\u001b[0m \u001b[1m1s\u001b[0m 2ms/step - loss: 0.0481 - mae: 0.1348 - val_loss: 0.0680 - val_mae: 0.1609\n",
            "Epoch 21/50\n",
            "\u001b[1m153/153\u001b[0m \u001b[32m━━━━━━━━━━━━━━━━━━━━\u001b[0m\u001b[37m\u001b[0m \u001b[1m0s\u001b[0m 2ms/step - loss: 0.0392 - mae: 0.1230 - val_loss: 0.0624 - val_mae: 0.1567\n",
            "Epoch 22/50\n",
            "\u001b[1m153/153\u001b[0m \u001b[32m━━━━━━━━━━━━━━━━━━━━\u001b[0m\u001b[37m\u001b[0m \u001b[1m0s\u001b[0m 2ms/step - loss: 0.0389 - mae: 0.1149 - val_loss: 0.0640 - val_mae: 0.1533\n",
            "Epoch 23/50\n",
            "\u001b[1m153/153\u001b[0m \u001b[32m━━━━━━━━━━━━━━━━━━━━\u001b[0m\u001b[37m\u001b[0m \u001b[1m0s\u001b[0m 2ms/step - loss: 0.0422 - mae: 0.1192 - val_loss: 0.0572 - val_mae: 0.1408\n",
            "Epoch 24/50\n",
            "\u001b[1m153/153\u001b[0m \u001b[32m━━━━━━━━━━━━━━━━━━━━\u001b[0m\u001b[37m\u001b[0m \u001b[1m1s\u001b[0m 2ms/step - loss: 0.0367 - mae: 0.1124 - val_loss: 0.0562 - val_mae: 0.1374\n",
            "Epoch 25/50\n",
            "\u001b[1m153/153\u001b[0m \u001b[32m━━━━━━━━━━━━━━━━━━━━\u001b[0m\u001b[37m\u001b[0m \u001b[1m1s\u001b[0m 2ms/step - loss: 0.0260 - mae: 0.0972 - val_loss: 0.0616 - val_mae: 0.1601\n",
            "Epoch 26/50\n",
            "\u001b[1m153/153\u001b[0m \u001b[32m━━━━━━━━━━━━━━━━━━━━\u001b[0m\u001b[37m\u001b[0m \u001b[1m0s\u001b[0m 2ms/step - loss: 0.0322 - mae: 0.1075 - val_loss: 0.0603 - val_mae: 0.1587\n",
            "Epoch 27/50\n",
            "\u001b[1m153/153\u001b[0m \u001b[32m━━━━━━━━━━━━━━━━━━━━\u001b[0m\u001b[37m\u001b[0m \u001b[1m1s\u001b[0m 2ms/step - loss: 0.0288 - mae: 0.1018 - val_loss: 0.0610 - val_mae: 0.1405\n",
            "Epoch 28/50\n",
            "\u001b[1m153/153\u001b[0m \u001b[32m━━━━━━━━━━━━━━━━━━━━\u001b[0m\u001b[37m\u001b[0m \u001b[1m0s\u001b[0m 2ms/step - loss: 0.0276 - mae: 0.0944 - val_loss: 0.0519 - val_mae: 0.1524\n",
            "Epoch 29/50\n",
            "\u001b[1m153/153\u001b[0m \u001b[32m━━━━━━━━━━━━━━━━━━━━\u001b[0m\u001b[37m\u001b[0m \u001b[1m0s\u001b[0m 2ms/step - loss: 0.0296 - mae: 0.1034 - val_loss: 0.0475 - val_mae: 0.1284\n",
            "Epoch 30/50\n",
            "\u001b[1m153/153\u001b[0m \u001b[32m━━━━━━━━━━━━━━━━━━━━\u001b[0m\u001b[37m\u001b[0m \u001b[1m0s\u001b[0m 2ms/step - loss: 0.0232 - mae: 0.0915 - val_loss: 0.0452 - val_mae: 0.1281\n",
            "Epoch 31/50\n",
            "\u001b[1m153/153\u001b[0m \u001b[32m━━━━━━━━━━━━━━━━━━━━\u001b[0m\u001b[37m\u001b[0m \u001b[1m1s\u001b[0m 2ms/step - loss: 0.0267 - mae: 0.0960 - val_loss: 0.0461 - val_mae: 0.1304\n",
            "Epoch 32/50\n",
            "\u001b[1m153/153\u001b[0m \u001b[32m━━━━━━━━━━━━━━━━━━━━\u001b[0m\u001b[37m\u001b[0m \u001b[1m0s\u001b[0m 2ms/step - loss: 0.0262 - mae: 0.0914 - val_loss: 0.0489 - val_mae: 0.1342\n",
            "Epoch 33/50\n",
            "\u001b[1m153/153\u001b[0m \u001b[32m━━━━━━━━━━━━━━━━━━━━\u001b[0m\u001b[37m\u001b[0m \u001b[1m1s\u001b[0m 2ms/step - loss: 0.0269 - mae: 0.0967 - val_loss: 0.0472 - val_mae: 0.1230\n",
            "Epoch 34/50\n",
            "\u001b[1m153/153\u001b[0m \u001b[32m━━━━━━━━━━━━━━━━━━━━\u001b[0m\u001b[37m\u001b[0m \u001b[1m0s\u001b[0m 2ms/step - loss: 0.0207 - mae: 0.0845 - val_loss: 0.0483 - val_mae: 0.1339\n",
            "Epoch 35/50\n",
            "\u001b[1m153/153\u001b[0m \u001b[32m━━━━━━━━━━━━━━━━━━━━\u001b[0m\u001b[37m\u001b[0m \u001b[1m1s\u001b[0m 2ms/step - loss: 0.0287 - mae: 0.0998 - val_loss: 0.0489 - val_mae: 0.1327\n",
            "Epoch 36/50\n",
            "\u001b[1m153/153\u001b[0m \u001b[32m━━━━━━━━━━━━━━━━━━━━\u001b[0m\u001b[37m\u001b[0m \u001b[1m0s\u001b[0m 2ms/step - loss: 0.0345 - mae: 0.1079 - val_loss: 0.0463 - val_mae: 0.1220\n",
            "Epoch 37/50\n",
            "\u001b[1m153/153\u001b[0m \u001b[32m━━━━━━━━━━━━━━━━━━━━\u001b[0m\u001b[37m\u001b[0m \u001b[1m1s\u001b[0m 2ms/step - loss: 0.0223 - mae: 0.0857 - val_loss: 0.0493 - val_mae: 0.1381\n",
            "Epoch 38/50\n",
            "\u001b[1m153/153\u001b[0m \u001b[32m━━━━━━━━━━━━━━━━━━━━\u001b[0m\u001b[37m\u001b[0m \u001b[1m0s\u001b[0m 2ms/step - loss: 0.0230 - mae: 0.0888 - val_loss: 0.0471 - val_mae: 0.1323\n",
            "Epoch 39/50\n",
            "\u001b[1m153/153\u001b[0m \u001b[32m━━━━━━━━━━━━━━━━━━━━\u001b[0m\u001b[37m\u001b[0m \u001b[1m1s\u001b[0m 3ms/step - loss: 0.0255 - mae: 0.0918 - val_loss: 0.0504 - val_mae: 0.1331\n",
            "Epoch 40/50\n",
            "\u001b[1m153/153\u001b[0m \u001b[32m━━━━━━━━━━━━━━━━━━━━\u001b[0m\u001b[37m\u001b[0m \u001b[1m1s\u001b[0m 3ms/step - loss: 0.0146 - mae: 0.0725 - val_loss: 0.0490 - val_mae: 0.1287\n",
            "Epoch 41/50\n",
            "\u001b[1m153/153\u001b[0m \u001b[32m━━━━━━━━━━━━━━━━━━━━\u001b[0m\u001b[37m\u001b[0m \u001b[1m1s\u001b[0m 4ms/step - loss: 0.0175 - mae: 0.0744 - val_loss: 0.0454 - val_mae: 0.1269\n",
            "Epoch 42/50\n",
            "\u001b[1m153/153\u001b[0m \u001b[32m━━━━━━━━━━━━━━━━━━━━\u001b[0m\u001b[37m\u001b[0m \u001b[1m1s\u001b[0m 2ms/step - loss: 0.0197 - mae: 0.0846 - val_loss: 0.0503 - val_mae: 0.1325\n",
            "Epoch 43/50\n",
            "\u001b[1m153/153\u001b[0m \u001b[32m━━━━━━━━━━━━━━━━━━━━\u001b[0m\u001b[37m\u001b[0m \u001b[1m1s\u001b[0m 2ms/step - loss: 0.0232 - mae: 0.0870 - val_loss: 0.0426 - val_mae: 0.1114\n",
            "Epoch 44/50\n",
            "\u001b[1m153/153\u001b[0m \u001b[32m━━━━━━━━━━━━━━━━━━━━\u001b[0m\u001b[37m\u001b[0m \u001b[1m0s\u001b[0m 2ms/step - loss: 0.0156 - mae: 0.0724 - val_loss: 0.0542 - val_mae: 0.1372\n",
            "Epoch 45/50\n",
            "\u001b[1m153/153\u001b[0m \u001b[32m━━━━━━━━━━━━━━━━━━━━\u001b[0m\u001b[37m\u001b[0m \u001b[1m0s\u001b[0m 2ms/step - loss: 0.0161 - mae: 0.0759 - val_loss: 0.0543 - val_mae: 0.1361\n",
            "Epoch 46/50\n",
            "\u001b[1m153/153\u001b[0m \u001b[32m━━━━━━━━━━━━━━━━━━━━\u001b[0m\u001b[37m\u001b[0m \u001b[1m0s\u001b[0m 2ms/step - loss: 0.0208 - mae: 0.0873 - val_loss: 0.0426 - val_mae: 0.1136\n",
            "Epoch 47/50\n",
            "\u001b[1m153/153\u001b[0m \u001b[32m━━━━━━━━━━━━━━━━━━━━\u001b[0m\u001b[37m\u001b[0m \u001b[1m1s\u001b[0m 2ms/step - loss: 0.0162 - mae: 0.0697 - val_loss: 0.0436 - val_mae: 0.1124\n",
            "Epoch 48/50\n",
            "\u001b[1m153/153\u001b[0m \u001b[32m━━━━━━━━━━━━━━━━━━━━\u001b[0m\u001b[37m\u001b[0m \u001b[1m1s\u001b[0m 2ms/step - loss: 0.0157 - mae: 0.0682 - val_loss: 0.0426 - val_mae: 0.1102\n",
            "Epoch 49/50\n",
            "\u001b[1m153/153\u001b[0m \u001b[32m━━━━━━━━━━━━━━━━━━━━\u001b[0m\u001b[37m\u001b[0m \u001b[1m1s\u001b[0m 2ms/step - loss: 0.0205 - mae: 0.0822 - val_loss: 0.0463 - val_mae: 0.1205\n",
            "Epoch 50/50\n",
            "\u001b[1m153/153\u001b[0m \u001b[32m━━━━━━━━━━━━━━━━━━━━\u001b[0m\u001b[37m\u001b[0m \u001b[1m0s\u001b[0m 2ms/step - loss: 0.0149 - mae: 0.0719 - val_loss: 0.0427 - val_mae: 0.1127\n"
          ]
        }
      ],
      "source": [
        "history = model.fit(X_Train, y_Train, epochs=50, batch_size=10, validation_split=0.2)"
      ]
    },
    {
      "cell_type": "markdown",
      "metadata": {
        "id": "pPQ7a8WBnp6R"
      },
      "source": [
        "### 11. View your history variable:\n",
        "- Use Matplotlib.pyplot to show graphs of your model traning history\n",
        "- In one graph:\n",
        "   - Plot the Training Accuracy and the Validation Accuracy\n",
        "   - X Label = Epochs\n",
        "   - Y Label = Accuracy\n",
        "   - Title = Model Accuracy over Epochs\n",
        "- In a second graph:\n",
        "   - Plot the Training Loss and the Validation Loss\n",
        "   - X Label = Epochs\n",
        "   - Y Label = Loss\n",
        "   - Title = Model Loss over Epochs"
      ]
    },
    {
      "cell_type": "code",
      "execution_count": 149,
      "metadata": {
        "colab": {
          "base_uri": "https://localhost:8080/",
          "height": 489
        },
        "id": "r_xtsH7onp6R",
        "outputId": "daceaafb-2ce2-4d13-aaef-6a46a42faac6"
      },
      "outputs": [
        {
          "output_type": "execute_result",
          "data": {
            "text/plain": [
              "<matplotlib.legend.Legend at 0x7ed538077eb0>"
            ]
          },
          "metadata": {},
          "execution_count": 149
        },
        {
          "output_type": "display_data",
          "data": {
            "text/plain": [
              "<Figure size 640x480 with 1 Axes>"
            ],
            "image/png": "[encoded data removed]"
          },
          "metadata": {}
        }
      ],
      "source": [
        "plt.plot(history.history['loss'], label='Training Loss')\n",
        "plt.plot(history.history['val_loss'], label='Validation Loss')\n",
        "plt.xlabel('Epochs')\n",
        "plt.ylabel('Loss')\n",
        "plt.title('Training and Validation Loss over Epochs')\n",
        "plt.legend()"
      ]
    },
    {
      "cell_type": "markdown",
      "metadata": {
        "id": "tMQSkMzOnp6R"
      },
      "source": [
        "### 12. Evaluate your model:\n",
        "- See the result of your loss function.\n",
        "- What can you deduct from there?"
      ]
    },
    {
      "cell_type": "code",
      "execution_count": 150,
      "metadata": {
        "colab": {
          "base_uri": "https://localhost:8080/",
          "height": 489
        },
        "id": "yEvnkFjPnp6R",
        "outputId": "a511e38f-ded1-4bf7-b070-31923472fbea"
      },
      "outputs": [
        {
          "output_type": "execute_result",
          "data": {
            "text/plain": [
              "Text(0.5, 1.0, 'Training and Validation MAE over Epochs')"
            ]
          },
          "metadata": {},
          "execution_count": 150
        },
        {
          "output_type": "display_data",
          "data": {
            "text/plain": [
              "<Figure size 640x480 with 1 Axes>"
            ],
            "image/png": "[encoded data removed]"
          },
          "metadata": {}
        }
      ],
      "source": [
        "plt.plot(history.history['mae'], label='Training MAE')\n",
        "plt.plot(history.history['val_mae'], label='Validation MAE')\n",
        "plt.xlabel('Epochs')\n",
        "plt.ylabel('Mean Absolute Error (MAE)')\n",
        "plt.title('Training and Validation MAE over Epochs')"
      ]
    },
    {
      "cell_type": "markdown",
      "metadata": {
        "id": "sqzxqZTxnp6S"
      },
      "source": [
        "### 13. Use your model to make some predictions:\n",
        "- Make predictions of your X_test dataset\n",
        "- Print the each of the predictions and the actual value (which is in y_test)\n",
        "- Replace the 'Low', 'Medium' and 'High' to your actual and predicted values.\n",
        "- How good was your model?"
      ]
    },
    {
      "cell_type": "code",
      "execution_count": 151,
      "metadata": {
        "colab": {
          "base_uri": "https://localhost:8080/"
        },
        "id": "_snR9H8Ynp6S",
        "outputId": "5e538b03-bdc6-4ec3-a8de-bc7ae69a0575"
      },
      "outputs": [
        {
          "output_type": "stream",
          "name": "stdout",
          "text": [
            "\u001b[1m15/15\u001b[0m \u001b[32m━━━━━━━━━━━━━━━━━━━━\u001b[0m\u001b[37m\u001b[0m \u001b[1m0s\u001b[0m 1ms/step - loss: 0.0693 - mae: 0.1234 \n",
            "Loss: 0.0666804388165474, MAE: 0.12153734266757965\n"
          ]
        }
      ],
      "source": [
        "loss, mae = model.evaluate(X_Test, y_Test)\n",
        "print(f'Loss: {loss}, MAE: {mae}')"
      ]
    },
    {
      "cell_type": "markdown",
      "metadata": {
        "id": "hIgn63eWnp6S"
      },
      "source": [
        "### 14. Compete against this model:\n",
        "- Create two more different models to compete with this model\n",
        "- Here are a few ideas of things you can change:\n",
        "   - During Dataset data engineering:\n",
        "      - You can remove features that you think do not help in the training and prediction\n",
        "      - Feature Scaling: Ensure all features are on a similar scale (as you already did with StandardScaler)\n",
        "   - During Model Definition:\n",
        "      - You can change the Model Architecture (change the type or number of layers or the number of units)\n",
        "      - You can add dropout layers to prevent overfitting\n",
        "   - During Model Compile:\n",
        "      - You can try other optimizer when compiling your model, here some optimizer samples: Adam, RMSprop, or Adagrad.\n",
        "      - Try another Loss Function\n",
        "   - During Model Training:\n",
        "      - Encrease the number of Epochs\n",
        "      - Adjust the size of your batch\n",
        "- Explain in a Markdown cell which changes are you implementing\n",
        "- Show the comparison of your model versus the original model\n",
        "   \n",
        "   "
      ]
    },
    {
      "cell_type": "markdown",
      "metadata": {
        "id": "Wvmh-PWwnp6S"
      },
      "source": [
        "#### Model 2:\n",
        "- Changes:\n",
        "   - Dataset Data Engineering\n",
        "   - Model Definition\n",
        "   - Model Compile\n",
        "   - Model Training"
      ]
    },
    {
      "cell_type": "code",
      "execution_count": 152,
      "metadata": {
        "colab": {
          "base_uri": "https://localhost:8080/",
          "height": 1000
        },
        "id": "Ka3j0Qn0np6T",
        "outputId": "f9064e54-6ef7-47e2-fd4d-82a77e0b193b"
      },
      "outputs": [
        {
          "output_type": "stream",
          "name": "stdout",
          "text": [
            "Epoch 1/50\n",
            "\u001b[1m153/153\u001b[0m \u001b[32m━━━━━━━━━━━━━━━━━━━━\u001b[0m\u001b[37m\u001b[0m \u001b[1m25s\u001b[0m 3ms/step - loss: 0.5996 - mae: 0.5652 - val_loss: 0.2308 - val_mae: 0.3510\n",
            "Epoch 2/50\n",
            "\u001b[1m153/153\u001b[0m \u001b[32m━━━━━━━━━━━━━━━━━━━━\u001b[0m\u001b[37m\u001b[0m \u001b[1m0s\u001b[0m 2ms/step - loss: 0.2103 - mae: 0.3159 - val_loss: 0.1604 - val_mae: 0.2867\n",
            "Epoch 3/50\n",
            "\u001b[1m153/153\u001b[0m \u001b[32m━━━━━━━━━━━━━━━━━━━━\u001b[0m\u001b[37m\u001b[0m \u001b[1m0s\u001b[0m 2ms/step - loss: 0.1499 - mae: 0.2550 - val_loss: 0.1251 - val_mae: 0.2405\n",
            "Epoch 4/50\n",
            "\u001b[1m153/153\u001b[0m \u001b[32m━━━━━━━━━━━━━━━━━━━━\u001b[0m\u001b[37m\u001b[0m \u001b[1m0s\u001b[0m 2ms/step - loss: 0.1215 - mae: 0.2256 - val_loss: 0.1177 - val_mae: 0.2308\n",
            "Epoch 5/50\n",
            "\u001b[1m153/153\u001b[0m \u001b[32m━━━━━━━━━━━━━━━━━━━━\u001b[0m\u001b[37m\u001b[0m \u001b[1m1s\u001b[0m 2ms/step - loss: 0.0914 - mae: 0.1957 - val_loss: 0.0983 - val_mae: 0.2105\n",
            "Epoch 6/50\n",
            "\u001b[1m153/153\u001b[0m \u001b[32m━━━━━━━━━━━━━━━━━━━━\u001b[0m\u001b[37m\u001b[0m \u001b[1m1s\u001b[0m 2ms/step - loss: 0.0841 - mae: 0.1790 - val_loss: 0.0838 - val_mae: 0.1773\n",
            "Epoch 7/50\n",
            "\u001b[1m153/153\u001b[0m \u001b[32m━━━━━━━━━━━━━━━━━━━━\u001b[0m\u001b[37m\u001b[0m \u001b[1m1s\u001b[0m 2ms/step - loss: 0.0959 - mae: 0.1901 - val_loss: 0.0794 - val_mae: 0.1748\n",
            "Epoch 8/50\n",
            "\u001b[1m153/153\u001b[0m \u001b[32m━━━━━━━━━━━━━━━━━━━━\u001b[0m\u001b[37m\u001b[0m \u001b[1m1s\u001b[0m 2ms/step - loss: 0.0681 - mae: 0.1608 - val_loss: 0.0856 - val_mae: 0.2053\n",
            "Epoch 9/50\n",
            "\u001b[1m153/153\u001b[0m \u001b[32m━━━━━━━━━━━━━━━━━━━━\u001b[0m\u001b[37m\u001b[0m \u001b[1m1s\u001b[0m 3ms/step - loss: 0.0545 - mae: 0.1529 - val_loss: 0.0770 - val_mae: 0.1881\n",
            "Epoch 10/50\n",
            "\u001b[1m153/153\u001b[0m \u001b[32m━━━━━━━━━━━━━━━━━━━━\u001b[0m\u001b[37m\u001b[0m \u001b[1m1s\u001b[0m 3ms/step - loss: 0.0546 - mae: 0.1471 - val_loss: 0.0681 - val_mae: 0.1599\n",
            "Epoch 11/50\n",
            "\u001b[1m153/153\u001b[0m \u001b[32m━━━━━━━━━━━━━━━━━━━━\u001b[0m\u001b[37m\u001b[0m \u001b[1m1s\u001b[0m 4ms/step - loss: 0.0524 - mae: 0.1443 - val_loss: 0.0630 - val_mae: 0.1616\n",
            "Epoch 12/50\n",
            "\u001b[1m153/153\u001b[0m \u001b[32m━━━━━━━━━━━━━━━━━━━━\u001b[0m\u001b[37m\u001b[0m \u001b[1m1s\u001b[0m 4ms/step - loss: 0.0448 - mae: 0.1304 - val_loss: 0.0597 - val_mae: 0.1611\n",
            "Epoch 13/50\n",
            "\u001b[1m153/153\u001b[0m \u001b[32m━━━━━━━━━━━━━━━━━━━━\u001b[0m\u001b[37m\u001b[0m \u001b[1m1s\u001b[0m 3ms/step - loss: 0.0443 - mae: 0.1341 - val_loss: 0.0546 - val_mae: 0.1441\n",
            "Epoch 14/50\n",
            "\u001b[1m153/153\u001b[0m \u001b[32m━━━━━━━━━━━━━━━━━━━━\u001b[0m\u001b[37m\u001b[0m \u001b[1m1s\u001b[0m 3ms/step - loss: 0.0309 - mae: 0.1122 - val_loss: 0.0489 - val_mae: 0.1356\n",
            "Epoch 15/50\n",
            "\u001b[1m153/153\u001b[0m \u001b[32m━━━━━━━━━━━━━━━━━━━━\u001b[0m\u001b[37m\u001b[0m \u001b[1m0s\u001b[0m 2ms/step - loss: 0.0408 - mae: 0.1229 - val_loss: 0.0519 - val_mae: 0.1326\n",
            "Epoch 16/50\n",
            "\u001b[1m153/153\u001b[0m \u001b[32m━━━━━━━━━━━━━━━━━━━━\u001b[0m\u001b[37m\u001b[0m \u001b[1m1s\u001b[0m 2ms/step - loss: 0.0291 - mae: 0.1043 - val_loss: 0.0550 - val_mae: 0.1506\n",
            "Epoch 17/50\n",
            "\u001b[1m153/153\u001b[0m \u001b[32m━━━━━━━━━━━━━━━━━━━━\u001b[0m\u001b[37m\u001b[0m \u001b[1m0s\u001b[0m 2ms/step - loss: 0.0292 - mae: 0.1048 - val_loss: 0.0508 - val_mae: 0.1481\n",
            "Epoch 18/50\n",
            "\u001b[1m153/153\u001b[0m \u001b[32m━━━━━━━━━━━━━━━━━━━━\u001b[0m\u001b[37m\u001b[0m \u001b[1m1s\u001b[0m 2ms/step - loss: 0.0428 - mae: 0.1211 - val_loss: 0.0521 - val_mae: 0.1399\n",
            "Epoch 19/50\n",
            "\u001b[1m153/153\u001b[0m \u001b[32m━━━━━━━━━━━━━━━━━━━━\u001b[0m\u001b[37m\u001b[0m \u001b[1m1s\u001b[0m 2ms/step - loss: 0.0318 - mae: 0.1074 - val_loss: 0.0523 - val_mae: 0.1344\n",
            "Epoch 20/50\n",
            "\u001b[1m153/153\u001b[0m \u001b[32m━━━━━━━━━━━━━━━━━━━━\u001b[0m\u001b[37m\u001b[0m \u001b[1m0s\u001b[0m 2ms/step - loss: 0.0371 - mae: 0.1166 - val_loss: 0.0527 - val_mae: 0.1405\n",
            "Epoch 21/50\n",
            "\u001b[1m153/153\u001b[0m \u001b[32m━━━━━━━━━━━━━━━━━━━━\u001b[0m\u001b[37m\u001b[0m \u001b[1m1s\u001b[0m 2ms/step - loss: 0.0309 - mae: 0.1043 - val_loss: 0.0463 - val_mae: 0.1289\n",
            "Epoch 22/50\n",
            "\u001b[1m153/153\u001b[0m \u001b[32m━━━━━━━━━━━━━━━━━━━━\u001b[0m\u001b[37m\u001b[0m \u001b[1m1s\u001b[0m 2ms/step - loss: 0.0192 - mae: 0.0894 - val_loss: 0.0756 - val_mae: 0.2140\n",
            "Epoch 23/50\n",
            "\u001b[1m153/153\u001b[0m \u001b[32m━━━━━━━━━━━━━━━━━━━━\u001b[0m\u001b[37m\u001b[0m \u001b[1m1s\u001b[0m 2ms/step - loss: 0.0421 - mae: 0.1276 - val_loss: 0.0495 - val_mae: 0.1297\n",
            "Epoch 24/50\n",
            "\u001b[1m153/153\u001b[0m \u001b[32m━━━━━━━━━━━━━━━━━━━━\u001b[0m\u001b[37m\u001b[0m \u001b[1m1s\u001b[0m 2ms/step - loss: 0.0257 - mae: 0.0946 - val_loss: 0.0530 - val_mae: 0.1425\n",
            "Epoch 25/50\n",
            "\u001b[1m153/153\u001b[0m \u001b[32m━━━━━━━━━━━━━━━━━━━━\u001b[0m\u001b[37m\u001b[0m \u001b[1m1s\u001b[0m 2ms/step - loss: 0.0207 - mae: 0.0910 - val_loss: 0.0520 - val_mae: 0.1280\n",
            "Epoch 26/50\n",
            "\u001b[1m153/153\u001b[0m \u001b[32m━━━━━━━━━━━━━━━━━━━━\u001b[0m\u001b[37m\u001b[0m \u001b[1m1s\u001b[0m 2ms/step - loss: 0.0241 - mae: 0.0953 - val_loss: 0.0624 - val_mae: 0.1538\n",
            "Epoch 27/50\n",
            "\u001b[1m153/153\u001b[0m \u001b[32m━━━━━━━━━━━━━━━━━━━━\u001b[0m\u001b[37m\u001b[0m \u001b[1m1s\u001b[0m 2ms/step - loss: 0.0393 - mae: 0.1193 - val_loss: 0.0475 - val_mae: 0.1187\n",
            "Epoch 28/50\n",
            "\u001b[1m153/153\u001b[0m \u001b[32m━━━━━━━━━━━━━━━━━━━━\u001b[0m\u001b[37m\u001b[0m \u001b[1m0s\u001b[0m 2ms/step - loss: 0.0189 - mae: 0.0825 - val_loss: 0.0632 - val_mae: 0.1758\n",
            "Epoch 29/50\n",
            "\u001b[1m153/153\u001b[0m \u001b[32m━━━━━━━━━━━━━━━━━━━━\u001b[0m\u001b[37m\u001b[0m \u001b[1m0s\u001b[0m 2ms/step - loss: 0.0230 - mae: 0.1021 - val_loss: 0.0618 - val_mae: 0.1692\n",
            "Epoch 30/50\n",
            "\u001b[1m153/153\u001b[0m \u001b[32m━━━━━━━━━━━━━━━━━━━━\u001b[0m\u001b[37m\u001b[0m \u001b[1m0s\u001b[0m 2ms/step - loss: 0.0290 - mae: 0.1095 - val_loss: 0.0458 - val_mae: 0.1293\n",
            "Epoch 31/50\n",
            "\u001b[1m153/153\u001b[0m \u001b[32m━━━━━━━━━━━━━━━━━━━━\u001b[0m\u001b[37m\u001b[0m \u001b[1m1s\u001b[0m 2ms/step - loss: 0.0216 - mae: 0.0848 - val_loss: 0.0517 - val_mae: 0.1435\n",
            "Epoch 32/50\n",
            "\u001b[1m153/153\u001b[0m \u001b[32m━━━━━━━━━━━━━━━━━━━━\u001b[0m\u001b[37m\u001b[0m \u001b[1m1s\u001b[0m 2ms/step - loss: 0.0218 - mae: 0.0876 - val_loss: 0.0450 - val_mae: 0.1316\n",
            "Epoch 33/50\n",
            "\u001b[1m153/153\u001b[0m \u001b[32m━━━━━━━━━━━━━━━━━━━━\u001b[0m\u001b[37m\u001b[0m \u001b[1m1s\u001b[0m 4ms/step - loss: 0.0262 - mae: 0.0966 - val_loss: 0.0522 - val_mae: 0.1559\n",
            "Epoch 34/50\n",
            "\u001b[1m153/153\u001b[0m \u001b[32m━━━━━━━━━━━━━━━━━━━━\u001b[0m\u001b[37m\u001b[0m \u001b[1m1s\u001b[0m 3ms/step - loss: 0.0250 - mae: 0.0973 - val_loss: 0.0518 - val_mae: 0.1528\n",
            "Epoch 35/50\n",
            "\u001b[1m153/153\u001b[0m \u001b[32m━━━━━━━━━━━━━━━━━━━━\u001b[0m\u001b[37m\u001b[0m \u001b[1m1s\u001b[0m 3ms/step - loss: 0.0198 - mae: 0.0914 - val_loss: 0.0480 - val_mae: 0.1287\n",
            "Epoch 36/50\n",
            "\u001b[1m153/153\u001b[0m \u001b[32m━━━━━━━━━━━━━━━━━━━━\u001b[0m\u001b[37m\u001b[0m \u001b[1m1s\u001b[0m 4ms/step - loss: 0.0267 - mae: 0.0944 - val_loss: 0.0477 - val_mae: 0.1187\n",
            "Epoch 37/50\n",
            "\u001b[1m153/153\u001b[0m \u001b[32m━━━━━━━━━━━━━━━━━━━━\u001b[0m\u001b[37m\u001b[0m \u001b[1m1s\u001b[0m 2ms/step - loss: 0.0171 - mae: 0.0796 - val_loss: 0.0434 - val_mae: 0.1222\n",
            "Epoch 38/50\n",
            "\u001b[1m153/153\u001b[0m \u001b[32m━━━━━━━━━━━━━━━━━━━━\u001b[0m\u001b[37m\u001b[0m \u001b[1m1s\u001b[0m 2ms/step - loss: 0.0244 - mae: 0.0953 - val_loss: 0.0509 - val_mae: 0.1426\n",
            "Epoch 39/50\n",
            "\u001b[1m153/153\u001b[0m \u001b[32m━━━━━━━━━━━━━━━━━━━━\u001b[0m\u001b[37m\u001b[0m \u001b[1m1s\u001b[0m 2ms/step - loss: 0.0205 - mae: 0.0875 - val_loss: 0.0626 - val_mae: 0.1388\n",
            "Epoch 40/50\n",
            "\u001b[1m153/153\u001b[0m \u001b[32m━━━━━━━━━━━━━━━━━━━━\u001b[0m\u001b[37m\u001b[0m \u001b[1m1s\u001b[0m 2ms/step - loss: 0.0235 - mae: 0.0871 - val_loss: 0.0429 - val_mae: 0.1264\n",
            "Epoch 41/50\n",
            "\u001b[1m153/153\u001b[0m \u001b[32m━━━━━━━━━━━━━━━━━━━━\u001b[0m\u001b[37m\u001b[0m \u001b[1m1s\u001b[0m 2ms/step - loss: 0.0162 - mae: 0.0758 - val_loss: 0.0461 - val_mae: 0.1257\n",
            "Epoch 42/50\n",
            "\u001b[1m153/153\u001b[0m \u001b[32m━━━━━━━━━━━━━━━━━━━━\u001b[0m\u001b[37m\u001b[0m \u001b[1m1s\u001b[0m 2ms/step - loss: 0.0184 - mae: 0.0804 - val_loss: 0.0414 - val_mae: 0.1175\n",
            "Epoch 43/50\n",
            "\u001b[1m153/153\u001b[0m \u001b[32m━━━━━━━━━━━━━━━━━━━━\u001b[0m\u001b[37m\u001b[0m \u001b[1m0s\u001b[0m 2ms/step - loss: 0.0144 - mae: 0.0732 - val_loss: 0.0559 - val_mae: 0.1323\n",
            "Epoch 44/50\n",
            "\u001b[1m153/153\u001b[0m \u001b[32m━━━━━━━━━━━━━━━━━━━━\u001b[0m\u001b[37m\u001b[0m \u001b[1m1s\u001b[0m 2ms/step - loss: 0.0189 - mae: 0.0821 - val_loss: 0.0418 - val_mae: 0.1279\n",
            "Epoch 45/50\n",
            "\u001b[1m153/153\u001b[0m \u001b[32m━━━━━━━━━━━━━━━━━━━━\u001b[0m\u001b[37m\u001b[0m \u001b[1m0s\u001b[0m 2ms/step - loss: 0.0233 - mae: 0.0819 - val_loss: 0.0496 - val_mae: 0.1285\n",
            "Epoch 46/50\n",
            "\u001b[1m153/153\u001b[0m \u001b[32m━━━━━━━━━━━━━━━━━━━━\u001b[0m\u001b[37m\u001b[0m \u001b[1m1s\u001b[0m 2ms/step - loss: 0.0249 - mae: 0.0956 - val_loss: 0.0467 - val_mae: 0.1257\n",
            "Epoch 47/50\n",
            "\u001b[1m153/153\u001b[0m \u001b[32m━━━━━━━━━━━━━━━━━━━━\u001b[0m\u001b[37m\u001b[0m \u001b[1m0s\u001b[0m 2ms/step - loss: 0.0161 - mae: 0.0802 - val_loss: 0.0490 - val_mae: 0.1326\n",
            "Epoch 48/50\n",
            "\u001b[1m153/153\u001b[0m \u001b[32m━━━━━━━━━━━━━━━━━━━━\u001b[0m\u001b[37m\u001b[0m \u001b[1m0s\u001b[0m 2ms/step - loss: 0.0209 - mae: 0.0900 - val_loss: 0.0442 - val_mae: 0.1310\n",
            "Epoch 49/50\n",
            "\u001b[1m153/153\u001b[0m \u001b[32m━━━━━━━━━━━━━━━━━━━━\u001b[0m\u001b[37m\u001b[0m \u001b[1m0s\u001b[0m 2ms/step - loss: 0.0203 - mae: 0.0790 - val_loss: 0.0399 - val_mae: 0.1125\n",
            "Epoch 50/50\n",
            "\u001b[1m153/153\u001b[0m \u001b[32m━━━━━━━━━━━━━━━━━━━━\u001b[0m\u001b[37m\u001b[0m \u001b[1m1s\u001b[0m 2ms/step - loss: 0.0117 - mae: 0.0678 - val_loss: 0.0575 - val_mae: 0.1822\n"
          ]
        },
        {
          "output_type": "execute_result",
          "data": {
            "text/plain": [
              "<matplotlib.legend.Legend at 0x7ed537c575b0>"
            ]
          },
          "metadata": {},
          "execution_count": 152
        },
        {
          "output_type": "display_data",
          "data": {
            "text/plain": [
              "<Figure size 640x480 with 1 Axes>"
            ],
            "image/png": "[encoded data removed]"
          },
          "metadata": {}
        }
      ],
      "source": [
        "model2 = Sequential()\n",
        "model2.add(Dense(128, input_dim=11, activation='relu'))\n",
        "model2.add(Dense(64, activation='relu'))\n",
        "model2.add(Dense(1))\n",
        "\n",
        "model2.compile(optimizer='adam', loss='mse', metrics=['mae'])\n",
        "\n",
        "history2 = model2.fit(X_Train, y_Train, epochs=50, batch_size=10, validation_split=0.2)\n",
        "\n",
        "plt.plot(history.history['loss'], label='Training Loss')\n",
        "plt.plot(history.history['val_loss'], label='Validation Loss')\n",
        "plt.xlabel('Epochs')\n",
        "plt.ylabel('Loss')\n",
        "plt.title('Training and Validation Loss over Epochs')\n",
        "plt.legend()"
      ]
    },
    {
      "cell_type": "code",
      "source": [
        "loss, mae = model2.evaluate(X_Test, y_Test)\n",
        "print(f'Loss: {loss}, MAE: {mae}')"
      ],
      "metadata": {
        "colab": {
          "base_uri": "https://localhost:8080/"
        },
        "id": "XilozrRH9rvH",
        "outputId": "efe700ba-66c8-467b-b126-09cc84e8d597"
      },
      "execution_count": 153,
      "outputs": [
        {
          "output_type": "stream",
          "name": "stdout",
          "text": [
            "\u001b[1m15/15\u001b[0m \u001b[32m━━━━━━━━━━━━━━━━━━━━\u001b[0m\u001b[37m\u001b[0m \u001b[1m0s\u001b[0m 1ms/step - loss: 0.0809 - mae: 0.1890 \n",
            "Loss: 0.08481959253549576, MAE: 0.18549181520938873\n"
          ]
        }
      ]
    },
    {
      "cell_type": "markdown",
      "metadata": {
        "id": "qD0MW_S3np6T"
      },
      "source": [
        "#### Model 3:\n",
        "- Changes:\n",
        "   - Dataset Data Engineering\n",
        "   - Model Definition\n",
        "   - Model Compile\n",
        "   - Model Training"
      ]
    },
    {
      "cell_type": "code",
      "execution_count": 154,
      "metadata": {
        "colab": {
          "base_uri": "https://localhost:8080/",
          "height": 1000
        },
        "id": "o0wPxd4Lnp6T",
        "outputId": "5c568892-c377-436e-f85e-00cd06d7afd2"
      },
      "outputs": [
        {
          "output_type": "stream",
          "name": "stdout",
          "text": [
            "Epoch 1/50\n"
          ]
        },
        {
          "output_type": "stream",
          "name": "stderr",
          "text": [
            "/usr/local/lib/python3.10/dist-packages/keras/src/layers/core/dense.py:87: UserWarning: Do not pass an `input_shape`/`input_dim` argument to a layer. When using Sequential models, prefer using an `Input(shape)` object as the first layer in the model instead.\n",
            "  super().__init__(activity_regularizer=activity_regularizer, **kwargs)\n"
          ]
        },
        {
          "output_type": "stream",
          "name": "stdout",
          "text": [
            "\u001b[1m153/153\u001b[0m \u001b[32m━━━━━━━━━━━━━━━━━━━━\u001b[0m\u001b[37m\u001b[0m \u001b[1m1s\u001b[0m 3ms/step - loss: 0.6027 - mae: 0.5594 - val_loss: 0.2125 - val_mae: 0.3311\n",
            "Epoch 2/50\n",
            "\u001b[1m153/153\u001b[0m \u001b[32m━━━━━━━━━━━━━━━━━━━━\u001b[0m\u001b[37m\u001b[0m \u001b[1m1s\u001b[0m 2ms/step - loss: 0.1631 - mae: 0.2688 - val_loss: 0.1556 - val_mae: 0.2459\n",
            "Epoch 3/50\n",
            "\u001b[1m153/153\u001b[0m \u001b[32m━━━━━━━━━━━━━━━━━━━━\u001b[0m\u001b[37m\u001b[0m \u001b[1m1s\u001b[0m 3ms/step - loss: 0.1242 - mae: 0.2217 - val_loss: 0.1171 - val_mae: 0.2374\n",
            "Epoch 4/50\n",
            "\u001b[1m153/153\u001b[0m \u001b[32m━━━━━━━━━━━━━━━━━━━━\u001b[0m\u001b[37m\u001b[0m \u001b[1m1s\u001b[0m 3ms/step - loss: 0.1013 - mae: 0.2043 - val_loss: 0.0967 - val_mae: 0.2007\n",
            "Epoch 5/50\n",
            "\u001b[1m153/153\u001b[0m \u001b[32m━━━━━━━━━━━━━━━━━━━━\u001b[0m\u001b[37m\u001b[0m \u001b[1m1s\u001b[0m 3ms/step - loss: 0.0973 - mae: 0.1868 - val_loss: 0.1022 - val_mae: 0.2186\n",
            "Epoch 6/50\n",
            "\u001b[1m153/153\u001b[0m \u001b[32m━━━━━━━━━━━━━━━━━━━━\u001b[0m\u001b[37m\u001b[0m \u001b[1m1s\u001b[0m 4ms/step - loss: 0.0615 - mae: 0.1574 - val_loss: 0.0905 - val_mae: 0.1980\n",
            "Epoch 7/50\n",
            "\u001b[1m153/153\u001b[0m \u001b[32m━━━━━━━━━━━━━━━━━━━━\u001b[0m\u001b[37m\u001b[0m \u001b[1m1s\u001b[0m 2ms/step - loss: 0.0693 - mae: 0.1667 - val_loss: 0.0729 - val_mae: 0.1655\n",
            "Epoch 8/50\n",
            "\u001b[1m153/153\u001b[0m \u001b[32m━━━━━━━━━━━━━━━━━━━━\u001b[0m\u001b[37m\u001b[0m \u001b[1m1s\u001b[0m 2ms/step - loss: 0.0705 - mae: 0.1546 - val_loss: 0.0742 - val_mae: 0.1637\n",
            "Epoch 9/50\n",
            "\u001b[1m153/153\u001b[0m \u001b[32m━━━━━━━━━━━━━━━━━━━━\u001b[0m\u001b[37m\u001b[0m \u001b[1m0s\u001b[0m 2ms/step - loss: 0.0531 - mae: 0.1377 - val_loss: 0.0752 - val_mae: 0.1677\n",
            "Epoch 10/50\n",
            "\u001b[1m153/153\u001b[0m \u001b[32m━━━━━━━━━━━━━━━━━━━━\u001b[0m\u001b[37m\u001b[0m \u001b[1m0s\u001b[0m 2ms/step - loss: 0.0501 - mae: 0.1336 - val_loss: 0.0631 - val_mae: 0.1456\n",
            "Epoch 11/50\n",
            "\u001b[1m153/153\u001b[0m \u001b[32m━━━━━━━━━━━━━━━━━━━━\u001b[0m\u001b[37m\u001b[0m \u001b[1m1s\u001b[0m 2ms/step - loss: 0.0398 - mae: 0.1164 - val_loss: 0.0578 - val_mae: 0.1404\n",
            "Epoch 12/50\n",
            "\u001b[1m153/153\u001b[0m \u001b[32m━━━━━━━━━━━━━━━━━━━━\u001b[0m\u001b[37m\u001b[0m \u001b[1m0s\u001b[0m 2ms/step - loss: 0.0469 - mae: 0.1214 - val_loss: 0.0540 - val_mae: 0.1271\n",
            "Epoch 13/50\n",
            "\u001b[1m153/153\u001b[0m \u001b[32m━━━━━━━━━━━━━━━━━━━━\u001b[0m\u001b[37m\u001b[0m \u001b[1m1s\u001b[0m 2ms/step - loss: 0.0377 - mae: 0.1100 - val_loss: 0.0575 - val_mae: 0.1343\n",
            "Epoch 14/50\n",
            "\u001b[1m153/153\u001b[0m \u001b[32m━━━━━━━━━━━━━━━━━━━━\u001b[0m\u001b[37m\u001b[0m \u001b[1m1s\u001b[0m 2ms/step - loss: 0.0443 - mae: 0.1158 - val_loss: 0.0544 - val_mae: 0.1237\n",
            "Epoch 15/50\n",
            "\u001b[1m153/153\u001b[0m \u001b[32m━━━━━━━━━━━━━━━━━━━━\u001b[0m\u001b[37m\u001b[0m \u001b[1m0s\u001b[0m 2ms/step - loss: 0.0315 - mae: 0.1053 - val_loss: 0.0496 - val_mae: 0.1234\n",
            "Epoch 16/50\n",
            "\u001b[1m153/153\u001b[0m \u001b[32m━━━━━━━━━━━━━━━━━━━━\u001b[0m\u001b[37m\u001b[0m \u001b[1m0s\u001b[0m 2ms/step - loss: 0.0376 - mae: 0.1100 - val_loss: 0.0509 - val_mae: 0.1292\n",
            "Epoch 17/50\n",
            "\u001b[1m153/153\u001b[0m \u001b[32m━━━━━━━━━━━━━━━━━━━━\u001b[0m\u001b[37m\u001b[0m \u001b[1m1s\u001b[0m 2ms/step - loss: 0.0324 - mae: 0.1074 - val_loss: 0.0458 - val_mae: 0.1152\n",
            "Epoch 18/50\n",
            "\u001b[1m153/153\u001b[0m \u001b[32m━━━━━━━━━━━━━━━━━━━━\u001b[0m\u001b[37m\u001b[0m \u001b[1m1s\u001b[0m 2ms/step - loss: 0.0349 - mae: 0.0981 - val_loss: 0.0580 - val_mae: 0.1335\n",
            "Epoch 19/50\n",
            "\u001b[1m153/153\u001b[0m \u001b[32m━━━━━━━━━━━━━━━━━━━━\u001b[0m\u001b[37m\u001b[0m \u001b[1m1s\u001b[0m 2ms/step - loss: 0.0298 - mae: 0.1009 - val_loss: 0.0456 - val_mae: 0.1179\n",
            "Epoch 20/50\n",
            "\u001b[1m153/153\u001b[0m \u001b[32m━━━━━━━━━━━━━━━━━━━━\u001b[0m\u001b[37m\u001b[0m \u001b[1m0s\u001b[0m 2ms/step - loss: 0.0333 - mae: 0.0975 - val_loss: 0.0514 - val_mae: 0.1301\n",
            "Epoch 21/50\n",
            "\u001b[1m153/153\u001b[0m \u001b[32m━━━━━━━━━━━━━━━━━━━━\u001b[0m\u001b[37m\u001b[0m \u001b[1m0s\u001b[0m 2ms/step - loss: 0.0290 - mae: 0.0870 - val_loss: 0.0474 - val_mae: 0.1304\n",
            "Epoch 22/50\n",
            "\u001b[1m153/153\u001b[0m \u001b[32m━━━━━━━━━━━━━━━━━━━━\u001b[0m\u001b[37m\u001b[0m \u001b[1m0s\u001b[0m 2ms/step - loss: 0.0295 - mae: 0.1025 - val_loss: 0.0588 - val_mae: 0.1530\n",
            "Epoch 23/50\n",
            "\u001b[1m153/153\u001b[0m \u001b[32m━━━━━━━━━━━━━━━━━━━━\u001b[0m\u001b[37m\u001b[0m \u001b[1m1s\u001b[0m 2ms/step - loss: 0.0304 - mae: 0.0980 - val_loss: 0.0469 - val_mae: 0.1193\n",
            "Epoch 24/50\n",
            "\u001b[1m153/153\u001b[0m \u001b[32m━━━━━━━━━━━━━━━━━━━━\u001b[0m\u001b[37m\u001b[0m \u001b[1m0s\u001b[0m 2ms/step - loss: 0.0375 - mae: 0.0996 - val_loss: 0.0562 - val_mae: 0.1322\n",
            "Epoch 25/50\n",
            "\u001b[1m153/153\u001b[0m \u001b[32m━━━━━━━━━━━━━━━━━━━━\u001b[0m\u001b[37m\u001b[0m \u001b[1m0s\u001b[0m 2ms/step - loss: 0.0270 - mae: 0.0858 - val_loss: 0.0573 - val_mae: 0.1386\n",
            "Epoch 26/50\n",
            "\u001b[1m153/153\u001b[0m \u001b[32m━━━━━━━━━━━━━━━━━━━━\u001b[0m\u001b[37m\u001b[0m \u001b[1m1s\u001b[0m 2ms/step - loss: 0.0288 - mae: 0.0972 - val_loss: 0.0556 - val_mae: 0.1276\n",
            "Epoch 27/50\n",
            "\u001b[1m153/153\u001b[0m \u001b[32m━━━━━━━━━━━━━━━━━━━━\u001b[0m\u001b[37m\u001b[0m \u001b[1m0s\u001b[0m 2ms/step - loss: 0.0354 - mae: 0.1047 - val_loss: 0.0452 - val_mae: 0.1079\n",
            "Epoch 28/50\n",
            "\u001b[1m153/153\u001b[0m \u001b[32m━━━━━━━━━━━━━━━━━━━━\u001b[0m\u001b[37m\u001b[0m \u001b[1m1s\u001b[0m 3ms/step - loss: 0.0221 - mae: 0.0797 - val_loss: 0.0461 - val_mae: 0.1193\n",
            "Epoch 29/50\n",
            "\u001b[1m153/153\u001b[0m \u001b[32m━━━━━━━━━━━━━━━━━━━━\u001b[0m\u001b[37m\u001b[0m \u001b[1m1s\u001b[0m 3ms/step - loss: 0.0193 - mae: 0.0761 - val_loss: 0.0469 - val_mae: 0.1141\n",
            "Epoch 30/50\n",
            "\u001b[1m153/153\u001b[0m \u001b[32m━━━━━━━━━━━━━━━━━━━━\u001b[0m\u001b[37m\u001b[0m \u001b[1m1s\u001b[0m 3ms/step - loss: 0.0275 - mae: 0.0855 - val_loss: 0.0489 - val_mae: 0.1243\n",
            "Epoch 31/50\n",
            "\u001b[1m153/153\u001b[0m \u001b[32m━━━━━━━━━━━━━━━━━━━━\u001b[0m\u001b[37m\u001b[0m \u001b[1m1s\u001b[0m 3ms/step - loss: 0.0334 - mae: 0.0887 - val_loss: 0.0519 - val_mae: 0.1222\n",
            "Epoch 32/50\n",
            "\u001b[1m153/153\u001b[0m \u001b[32m━━━━━━━━━━━━━━━━━━━━\u001b[0m\u001b[37m\u001b[0m \u001b[1m1s\u001b[0m 3ms/step - loss: 0.0257 - mae: 0.0828 - val_loss: 0.0416 - val_mae: 0.1048\n",
            "Epoch 33/50\n",
            "\u001b[1m153/153\u001b[0m \u001b[32m━━━━━━━━━━━━━━━━━━━━\u001b[0m\u001b[37m\u001b[0m \u001b[1m1s\u001b[0m 2ms/step - loss: 0.0232 - mae: 0.0769 - val_loss: 0.0489 - val_mae: 0.1277\n",
            "Epoch 34/50\n",
            "\u001b[1m153/153\u001b[0m \u001b[32m━━━━━━━━━━━━━━━━━━━━\u001b[0m\u001b[37m\u001b[0m \u001b[1m0s\u001b[0m 2ms/step - loss: 0.0241 - mae: 0.0859 - val_loss: 0.0431 - val_mae: 0.1172\n",
            "Epoch 35/50\n",
            "\u001b[1m153/153\u001b[0m \u001b[32m━━━━━━━━━━━━━━━━━━━━\u001b[0m\u001b[37m\u001b[0m \u001b[1m0s\u001b[0m 2ms/step - loss: 0.0331 - mae: 0.0981 - val_loss: 0.0424 - val_mae: 0.1106\n",
            "Epoch 36/50\n",
            "\u001b[1m153/153\u001b[0m \u001b[32m━━━━━━━━━━━━━━━━━━━━\u001b[0m\u001b[37m\u001b[0m \u001b[1m1s\u001b[0m 2ms/step - loss: 0.0194 - mae: 0.0706 - val_loss: 0.0435 - val_mae: 0.1128\n",
            "Epoch 37/50\n",
            "\u001b[1m153/153\u001b[0m \u001b[32m━━━━━━━━━━━━━━━━━━━━\u001b[0m\u001b[37m\u001b[0m \u001b[1m1s\u001b[0m 2ms/step - loss: 0.0211 - mae: 0.0761 - val_loss: 0.0467 - val_mae: 0.1454\n",
            "Epoch 38/50\n",
            "\u001b[1m153/153\u001b[0m \u001b[32m━━━━━━━━━━━━━━━━━━━━\u001b[0m\u001b[37m\u001b[0m \u001b[1m1s\u001b[0m 2ms/step - loss: 0.0253 - mae: 0.0915 - val_loss: 0.0595 - val_mae: 0.1278\n",
            "Epoch 39/50\n",
            "\u001b[1m153/153\u001b[0m \u001b[32m━━━━━━━━━━━━━━━━━━━━\u001b[0m\u001b[37m\u001b[0m \u001b[1m0s\u001b[0m 2ms/step - loss: 0.0421 - mae: 0.1148 - val_loss: 0.0457 - val_mae: 0.1212\n",
            "Epoch 40/50\n",
            "\u001b[1m153/153\u001b[0m \u001b[32m━━━━━━━━━━━━━━━━━━━━\u001b[0m\u001b[37m\u001b[0m \u001b[1m1s\u001b[0m 2ms/step - loss: 0.0277 - mae: 0.0879 - val_loss: 0.0409 - val_mae: 0.1099\n",
            "Epoch 41/50\n",
            "\u001b[1m153/153\u001b[0m \u001b[32m━━━━━━━━━━━━━━━━━━━━\u001b[0m\u001b[37m\u001b[0m \u001b[1m1s\u001b[0m 2ms/step - loss: 0.0228 - mae: 0.0800 - val_loss: 0.0417 - val_mae: 0.1091\n",
            "Epoch 42/50\n",
            "\u001b[1m153/153\u001b[0m \u001b[32m━━━━━━━━━━━━━━━━━━━━\u001b[0m\u001b[37m\u001b[0m \u001b[1m1s\u001b[0m 2ms/step - loss: 0.0235 - mae: 0.0778 - val_loss: 0.0369 - val_mae: 0.1039\n",
            "Epoch 43/50\n",
            "\u001b[1m153/153\u001b[0m \u001b[32m━━━━━━━━━━━━━━━━━━━━\u001b[0m\u001b[37m\u001b[0m \u001b[1m1s\u001b[0m 2ms/step - loss: 0.0207 - mae: 0.0769 - val_loss: 0.0412 - val_mae: 0.1095\n",
            "Epoch 44/50\n",
            "\u001b[1m153/153\u001b[0m \u001b[32m━━━━━━━━━━━━━━━━━━━━\u001b[0m\u001b[37m\u001b[0m \u001b[1m1s\u001b[0m 2ms/step - loss: 0.0207 - mae: 0.0750 - val_loss: 0.0414 - val_mae: 0.1038\n",
            "Epoch 45/50\n",
            "\u001b[1m153/153\u001b[0m \u001b[32m━━━━━━━━━━━━━━━━━━━━\u001b[0m\u001b[37m\u001b[0m \u001b[1m0s\u001b[0m 2ms/step - loss: 0.0178 - mae: 0.0696 - val_loss: 0.0456 - val_mae: 0.1147\n",
            "Epoch 46/50\n",
            "\u001b[1m153/153\u001b[0m \u001b[32m━━━━━━━━━━━━━━━━━━━━\u001b[0m\u001b[37m\u001b[0m \u001b[1m1s\u001b[0m 2ms/step - loss: 0.0278 - mae: 0.0904 - val_loss: 0.0456 - val_mae: 0.1154\n",
            "Epoch 47/50\n",
            "\u001b[1m153/153\u001b[0m \u001b[32m━━━━━━━━━━━━━━━━━━━━\u001b[0m\u001b[37m\u001b[0m \u001b[1m1s\u001b[0m 2ms/step - loss: 0.0192 - mae: 0.0743 - val_loss: 0.0432 - val_mae: 0.1017\n",
            "Epoch 48/50\n",
            "\u001b[1m153/153\u001b[0m \u001b[32m━━━━━━━━━━━━━━━━━━━━\u001b[0m\u001b[37m\u001b[0m \u001b[1m1s\u001b[0m 4ms/step - loss: 0.0228 - mae: 0.0772 - val_loss: 0.0440 - val_mae: 0.1174\n",
            "Epoch 49/50\n",
            "\u001b[1m153/153\u001b[0m \u001b[32m━━━━━━━━━━━━━━━━━━━━\u001b[0m\u001b[37m\u001b[0m \u001b[1m1s\u001b[0m 3ms/step - loss: 0.0220 - mae: 0.0753 - val_loss: 0.0397 - val_mae: 0.1083\n",
            "Epoch 50/50\n",
            "\u001b[1m153/153\u001b[0m \u001b[32m━━━━━━━━━━━━━━━━━━━━\u001b[0m\u001b[37m\u001b[0m \u001b[1m1s\u001b[0m 4ms/step - loss: 0.0180 - mae: 0.0708 - val_loss: 0.0446 - val_mae: 0.1233\n"
          ]
        },
        {
          "output_type": "execute_result",
          "data": {
            "text/plain": [
              "<matplotlib.legend.Legend at 0x7ed54a770130>"
            ]
          },
          "metadata": {},
          "execution_count": 154
        },
        {
          "output_type": "display_data",
          "data": {
            "text/plain": [
              "<Figure size 640x480 with 1 Axes>"
            ],
            "image/png": "[encoded data removed]"
          },
          "metadata": {}
        }
      ],
      "source": [
        "oModelDF2 = data.drop(columns=[\"StudentID\", \"Age\", \"Gender\", \"Ethnicity\", \"ParentalSupport\" ])\n",
        "\n",
        "oX = oModelDF2.drop(columns=[\"Profile\", \"iIdProfile\"])\n",
        "oY = oModelDF2[\"iIdProfile\"]\n",
        "X_TrainModelo3, X_TestModelo3, y_TrainModelo3, y_TestModelo3 = train_test_split(oX, oY, test_size=0.2, random_state=42)\n",
        "\n",
        "scaler = StandardScaler()\n",
        "\n",
        "X_TrainModelo3 = scaler.fit_transform(X_TrainModelo3)\n",
        "X_TestModelo3 = scaler.transform(X_TestModelo3)\n",
        "\n",
        "model3 = Sequential()\n",
        "model3.add(Dense(128, input_dim=10, activation='relu'))\n",
        "model3.add(Dense(64, activation='relu'))\n",
        "model3.add(Dense(1))\n",
        "\n",
        "model3.compile(optimizer='adam', loss='mse', metrics=['mae'])\n",
        "\n",
        "history3 = model3.fit(X_TrainModelo3, y_TrainModelo3, epochs=50, batch_size=10, validation_split=0.2)\n",
        "\n",
        "plt.plot(history.history['loss'], label='Training Loss')\n",
        "plt.plot(history.history['val_loss'], label='Validation Loss')\n",
        "plt.xlabel('Epochs')\n",
        "plt.ylabel('Loss')\n",
        "plt.title('Training and Validation Loss over Epochs')\n",
        "plt.legend()"
      ]
    },
    {
      "cell_type": "code",
      "source": [
        "loss, mae = model3.evaluate(X_TestModelo3, y_TestModelo3)\n",
        "print(f'Loss: {loss}, MAE: {mae}')"
      ],
      "metadata": {
        "colab": {
          "base_uri": "https://localhost:8080/"
        },
        "id": "xBjOe1Y_-GQU",
        "outputId": "7589408a-df89-411f-c9e0-0e7352979baa"
      },
      "execution_count": 155,
      "outputs": [
        {
          "output_type": "stream",
          "name": "stdout",
          "text": [
            "\u001b[1m15/15\u001b[0m \u001b[32m━━━━━━━━━━━━━━━━━━━━\u001b[0m\u001b[37m\u001b[0m \u001b[1m0s\u001b[0m 3ms/step - loss: 0.0604 - mae: 0.1191 \n",
            "Loss: 0.06959754973649979, MAE: 0.1245928630232811\n"
          ]
        }
      ]
    },
    {
      "cell_type": "code",
      "source": [
        "# Extraer datos de cada modelo\n",
        "results = {\n",
        "    'Modelo': ['Model 1', 'Model 2', 'Model 3'],\n",
        "    'Loss Entrenamiento': [history.history['loss'][-1], history2.history['loss'][-1], history3.history['loss'][-1]],\n",
        "    'Loss Validación': [history.history['val_loss'][-1], history2.history['val_loss'][-1], history3.history['val_loss'][-1]],\n",
        "    'MAE Entrenamiento': [history.history['mae'][-1], history2.history['mae'][-1], history3.history['mae'][-1]],\n",
        "    'MAE Validación': [history.history['val_mae'][-1], history2.history['val_mae'][-1], history3.history['val_mae'][-1]]\n",
        "}\n",
        "\n",
        "# Crear un DataFrame para mostrar los resultados\n",
        "df_results = pd.DataFrame(results)\n",
        "print(\"Resultados de entrenamiento y validación para cada modelo:\")\n",
        "print(df_results)"
      ],
      "metadata": {
        "colab": {
          "base_uri": "https://localhost:8080/"
        },
        "id": "r7-M6W-xAiBP",
        "outputId": "1e6fc329-89a1-4e99-ef9a-f3269038e2c3"
      },
      "execution_count": 156,
      "outputs": [
        {
          "output_type": "stream",
          "name": "stdout",
          "text": [
            "Resultados de entrenamiento y validación para cada modelo:\n",
            "    Modelo  Loss Entrenamiento  Loss Validación  MAE Entrenamiento  \\\n",
            "0  Model 1            0.016518         0.042735           0.074263   \n",
            "1  Model 2            0.016917         0.057518           0.074304   \n",
            "2  Model 3            0.021618         0.044596           0.073431   \n",
            "\n",
            "   MAE Validación  \n",
            "0        0.112671  \n",
            "1        0.182192  \n",
            "2        0.123303  \n"
          ]
        }
      ]
    },
    {
      "cell_type": "code",
      "source": [
        "sample_data = X_Test[:5]# Selecciona los primeros 5 estudiantes\n",
        "\n",
        "# Realizar predicciones con cada modelo\n",
        "predictions1 = model.predict(sample_data)\n",
        "predictions2 = model2.predict(sample_data)\n",
        "predictions3 = model3.predict(X_TestModelo3[:5])\n",
        "\n",
        "# Crear una tabla con los resultados\n",
        "pred_df = pd.DataFrame({\n",
        "    'Alumno': range(1, 6),\n",
        "    'Real': y_Test[:5].ravel(),\n",
        "    'Predicción Modelo 1': predictions1.ravel(),\n",
        "    'Predicción Modelo 2': predictions2.ravel(),\n",
        "    'Predicción Modelo 3': predictions3.ravel()\n",
        "})\n",
        "\n",
        "print(\"Predicciones de los modelos para 5 alumnos:\")\n",
        "print(pred_df)"
      ],
      "metadata": {
        "colab": {
          "base_uri": "https://localhost:8080/"
        },
        "id": "5QwoEZl1BQ5b",
        "outputId": "15410ea1-2959-48f9-ebda-09e9d45fb172"
      },
      "execution_count": 157,
      "outputs": [
        {
          "output_type": "stream",
          "name": "stdout",
          "text": [
            "\u001b[1m1/1\u001b[0m \u001b[32m━━━━━━━━━━━━━━━━━━━━\u001b[0m\u001b[37m\u001b[0m \u001b[1m0s\u001b[0m 155ms/step\n",
            "\u001b[1m1/1\u001b[0m \u001b[32m━━━━━━━━━━━━━━━━━━━━\u001b[0m\u001b[37m\u001b[0m \u001b[1m0s\u001b[0m 79ms/step\n",
            "\u001b[1m1/1\u001b[0m \u001b[32m━━━━━━━━━━━━━━━━━━━━\u001b[0m\u001b[37m\u001b[0m \u001b[1m0s\u001b[0m 140ms/step\n",
            "Predicciones de los modelos para 5 alumnos:\n",
            "   Alumno  Real  Predicción Modelo 1  Predicción Modelo 2  Predicción Modelo 3\n",
            "0       1     1             1.094338             0.984041             1.093737\n",
            "1       2     2             2.279182             1.945130             2.193059\n",
            "2       3     2             1.922290             1.864756             1.878268\n",
            "3       4     0            -0.110881            -0.131891            -0.407121\n",
            "4       5     1             0.972081             1.220026             1.144930\n"
          ]
        },
        {
          "output_type": "stream",
          "name": "stderr",
          "text": [
            "<ipython-input-157-b138769cb435>:11: FutureWarning: Series.ravel is deprecated. The underlying array is already 1D, so ravel is not necessary.  Use `to_numpy()` for conversion to a numpy array instead.\n",
            "  'Real': y_Test[:5].ravel(),\n"
          ]
        }
      ]
    },
    {
      "cell_type": "markdown",
      "source": [
        "# Experiment 1: A single Dense Hidden Layer"
      ],
      "metadata": {
        "id": "69UTvw9897II"
      }
    },
    {
      "cell_type": "code",
      "source": [
        "oModelDF = data.drop(columns=[\"StudentID\", \"Age\", \"Gender\", \"Ethnicity\" ])\n",
        "\n",
        "oX = oModelDF.drop(columns=[\"Profile\", \"iIdProfile\"])\n",
        "oY = oModelDF[\"iIdProfile\"]\n",
        "X_Train, X_Test, y_Train, y_Test = train_test_split(oX, oY, test_size=0.2, random_state=42)\n",
        "scaler = StandardScaler()\n",
        "\n",
        "X_Train = scaler.fit_transform(X_Train)\n",
        "X_Test = scaler.transform(X_Test)"
      ],
      "metadata": {
        "id": "mbENn6NUGRVP"
      },
      "execution_count": 161,
      "outputs": []
    },
    {
      "cell_type": "code",
      "source": [
        "model4 = Sequential()\n",
        "model4.add(Dense(64, input_dim=11, activation='relu'))\n",
        "model4.add(Dense(32, activation='relu'))\n",
        "model4.add(Dense(1))\n",
        "\n",
        "model4.compile(optimizer='adam', loss='mse', metrics=['mae'])\n",
        "\n",
        "history4 = model4.fit(X_Train, y_Train, epochs=50, batch_size=10, validation_split=0.2)\n",
        "\n"
      ],
      "metadata": {
        "colab": {
          "base_uri": "https://localhost:8080/"
        },
        "id": "iJ488qz8-BL8",
        "outputId": "31920464-770f-4cfe-cb87-1beff1961468"
      },
      "execution_count": 162,
      "outputs": [
        {
          "output_type": "stream",
          "name": "stdout",
          "text": [
            "Epoch 1/50\n"
          ]
        },
        {
          "output_type": "stream",
          "name": "stderr",
          "text": [
            "/usr/local/lib/python3.10/dist-packages/keras/src/layers/core/dense.py:87: UserWarning: Do not pass an `input_shape`/`input_dim` argument to a layer. When using Sequential models, prefer using an `Input(shape)` object as the first layer in the model instead.\n",
            "  super().__init__(activity_regularizer=activity_regularizer, **kwargs)\n"
          ]
        },
        {
          "output_type": "stream",
          "name": "stdout",
          "text": [
            "\u001b[1m153/153\u001b[0m \u001b[32m━━━━━━━━━━━━━━━━━━━━\u001b[0m\u001b[37m\u001b[0m \u001b[1m2s\u001b[0m 3ms/step - loss: 1.5019 - mae: 0.9927 - val_loss: 0.3066 - val_mae: 0.3868\n",
            "Epoch 2/50\n",
            "\u001b[1m153/153\u001b[0m \u001b[32m━━━━━━━━━━━━━━━━━━━━\u001b[0m\u001b[37m\u001b[0m \u001b[1m0s\u001b[0m 2ms/step - loss: 0.2819 - mae: 0.3614 - val_loss: 0.2412 - val_mae: 0.3298\n",
            "Epoch 3/50\n",
            "\u001b[1m153/153\u001b[0m \u001b[32m━━━━━━━━━━━━━━━━━━━━\u001b[0m\u001b[37m\u001b[0m \u001b[1m1s\u001b[0m 2ms/step - loss: 0.2070 - mae: 0.3133 - val_loss: 0.2113 - val_mae: 0.3256\n",
            "Epoch 4/50\n",
            "\u001b[1m153/153\u001b[0m \u001b[32m━━━━━━━━━━━━━━━━━━━━\u001b[0m\u001b[37m\u001b[0m \u001b[1m0s\u001b[0m 2ms/step - loss: 0.1777 - mae: 0.2862 - val_loss: 0.1698 - val_mae: 0.2990\n",
            "Epoch 5/50\n",
            "\u001b[1m153/153\u001b[0m \u001b[32m━━━━━━━━━━━━━━━━━━━━\u001b[0m\u001b[37m\u001b[0m \u001b[1m1s\u001b[0m 2ms/step - loss: 0.1588 - mae: 0.2699 - val_loss: 0.1471 - val_mae: 0.2714\n",
            "Epoch 6/50\n",
            "\u001b[1m153/153\u001b[0m \u001b[32m━━━━━━━━━━━━━━━━━━━━\u001b[0m\u001b[37m\u001b[0m \u001b[1m1s\u001b[0m 2ms/step - loss: 0.1202 - mae: 0.2306 - val_loss: 0.1379 - val_mae: 0.2673\n",
            "Epoch 7/50\n",
            "\u001b[1m153/153\u001b[0m \u001b[32m━━━━━━━━━━━━━━━━━━━━\u001b[0m\u001b[37m\u001b[0m \u001b[1m0s\u001b[0m 2ms/step - loss: 0.1212 - mae: 0.2264 - val_loss: 0.1118 - val_mae: 0.2181\n",
            "Epoch 8/50\n",
            "\u001b[1m153/153\u001b[0m \u001b[32m━━━━━━━━━━━━━━━━━━━━\u001b[0m\u001b[37m\u001b[0m \u001b[1m1s\u001b[0m 2ms/step - loss: 0.1116 - mae: 0.2159 - val_loss: 0.1058 - val_mae: 0.2116\n",
            "Epoch 9/50\n",
            "\u001b[1m153/153\u001b[0m \u001b[32m━━━━━━━━━━━━━━━━━━━━\u001b[0m\u001b[37m\u001b[0m \u001b[1m0s\u001b[0m 2ms/step - loss: 0.0810 - mae: 0.1779 - val_loss: 0.0979 - val_mae: 0.2009\n",
            "Epoch 10/50\n",
            "\u001b[1m153/153\u001b[0m \u001b[32m━━━━━━━━━━━━━━━━━━━━\u001b[0m\u001b[37m\u001b[0m \u001b[1m1s\u001b[0m 2ms/step - loss: 0.0892 - mae: 0.1811 - val_loss: 0.0914 - val_mae: 0.1904\n",
            "Epoch 11/50\n",
            "\u001b[1m153/153\u001b[0m \u001b[32m━━━━━━━━━━━━━━━━━━━━\u001b[0m\u001b[37m\u001b[0m \u001b[1m0s\u001b[0m 2ms/step - loss: 0.0909 - mae: 0.1831 - val_loss: 0.0870 - val_mae: 0.1802\n",
            "Epoch 12/50\n",
            "\u001b[1m153/153\u001b[0m \u001b[32m━━━━━━━━━━━━━━━━━━━━\u001b[0m\u001b[37m\u001b[0m \u001b[1m1s\u001b[0m 2ms/step - loss: 0.0850 - mae: 0.1701 - val_loss: 0.0840 - val_mae: 0.1849\n",
            "Epoch 13/50\n",
            "\u001b[1m153/153\u001b[0m \u001b[32m━━━━━━━━━━━━━━━━━━━━\u001b[0m\u001b[37m\u001b[0m \u001b[1m0s\u001b[0m 2ms/step - loss: 0.0640 - mae: 0.1538 - val_loss: 0.0871 - val_mae: 0.1814\n",
            "Epoch 14/50\n",
            "\u001b[1m153/153\u001b[0m \u001b[32m━━━━━━━━━━━━━━━━━━━━\u001b[0m\u001b[37m\u001b[0m \u001b[1m1s\u001b[0m 2ms/step - loss: 0.0632 - mae: 0.1424 - val_loss: 0.0715 - val_mae: 0.1612\n",
            "Epoch 15/50\n",
            "\u001b[1m153/153\u001b[0m \u001b[32m━━━━━━━━━━━━━━━━━━━━\u001b[0m\u001b[37m\u001b[0m \u001b[1m1s\u001b[0m 2ms/step - loss: 0.0540 - mae: 0.1378 - val_loss: 0.0742 - val_mae: 0.1778\n",
            "Epoch 16/50\n",
            "\u001b[1m153/153\u001b[0m \u001b[32m━━━━━━━━━━━━━━━━━━━━\u001b[0m\u001b[37m\u001b[0m \u001b[1m0s\u001b[0m 2ms/step - loss: 0.0560 - mae: 0.1418 - val_loss: 0.0693 - val_mae: 0.1637\n",
            "Epoch 17/50\n",
            "\u001b[1m153/153\u001b[0m \u001b[32m━━━━━━━━━━━━━━━━━━━━\u001b[0m\u001b[37m\u001b[0m \u001b[1m0s\u001b[0m 2ms/step - loss: 0.0480 - mae: 0.1326 - val_loss: 0.0776 - val_mae: 0.1776\n",
            "Epoch 18/50\n",
            "\u001b[1m153/153\u001b[0m \u001b[32m━━━━━━━━━━━━━━━━━━━━\u001b[0m\u001b[37m\u001b[0m \u001b[1m1s\u001b[0m 2ms/step - loss: 0.0536 - mae: 0.1379 - val_loss: 0.0673 - val_mae: 0.1515\n",
            "Epoch 19/50\n",
            "\u001b[1m153/153\u001b[0m \u001b[32m━━━━━━━━━━━━━━━━━━━━\u001b[0m\u001b[37m\u001b[0m \u001b[1m0s\u001b[0m 2ms/step - loss: 0.0479 - mae: 0.1327 - val_loss: 0.0654 - val_mae: 0.1556\n",
            "Epoch 20/50\n",
            "\u001b[1m153/153\u001b[0m \u001b[32m━━━━━━━━━━━━━━━━━━━━\u001b[0m\u001b[37m\u001b[0m \u001b[1m0s\u001b[0m 2ms/step - loss: 0.0400 - mae: 0.1230 - val_loss: 0.0703 - val_mae: 0.1741\n",
            "Epoch 21/50\n",
            "\u001b[1m153/153\u001b[0m \u001b[32m━━━━━━━━━━━━━━━━━━━━\u001b[0m\u001b[37m\u001b[0m \u001b[1m1s\u001b[0m 2ms/step - loss: 0.0432 - mae: 0.1286 - val_loss: 0.0660 - val_mae: 0.1527\n",
            "Epoch 22/50\n",
            "\u001b[1m153/153\u001b[0m \u001b[32m━━━━━━━━━━━━━━━━━━━━\u001b[0m\u001b[37m\u001b[0m \u001b[1m1s\u001b[0m 3ms/step - loss: 0.0385 - mae: 0.1202 - val_loss: 0.0732 - val_mae: 0.1772\n",
            "Epoch 23/50\n",
            "\u001b[1m153/153\u001b[0m \u001b[32m━━━━━━━━━━━━━━━━━━━━\u001b[0m\u001b[37m\u001b[0m \u001b[1m1s\u001b[0m 3ms/step - loss: 0.0381 - mae: 0.1256 - val_loss: 0.0697 - val_mae: 0.1623\n",
            "Epoch 24/50\n",
            "\u001b[1m153/153\u001b[0m \u001b[32m━━━━━━━━━━━━━━━━━━━━\u001b[0m\u001b[37m\u001b[0m \u001b[1m1s\u001b[0m 3ms/step - loss: 0.0321 - mae: 0.1113 - val_loss: 0.0560 - val_mae: 0.1452\n",
            "Epoch 25/50\n",
            "\u001b[1m153/153\u001b[0m \u001b[32m━━━━━━━━━━━━━━━━━━━━\u001b[0m\u001b[37m\u001b[0m \u001b[1m1s\u001b[0m 3ms/step - loss: 0.0391 - mae: 0.1175 - val_loss: 0.0616 - val_mae: 0.1427\n",
            "Epoch 26/50\n",
            "\u001b[1m153/153\u001b[0m \u001b[32m━━━━━━━━━━━━━━━━━━━━\u001b[0m\u001b[37m\u001b[0m \u001b[1m1s\u001b[0m 3ms/step - loss: 0.0343 - mae: 0.1064 - val_loss: 0.0559 - val_mae: 0.1356\n",
            "Epoch 27/50\n",
            "\u001b[1m153/153\u001b[0m \u001b[32m━━━━━━━━━━━━━━━━━━━━\u001b[0m\u001b[37m\u001b[0m \u001b[1m0s\u001b[0m 2ms/step - loss: 0.0297 - mae: 0.1030 - val_loss: 0.0532 - val_mae: 0.1368\n",
            "Epoch 28/50\n",
            "\u001b[1m153/153\u001b[0m \u001b[32m━━━━━━━━━━━━━━━━━━━━\u001b[0m\u001b[37m\u001b[0m \u001b[1m1s\u001b[0m 2ms/step - loss: 0.0331 - mae: 0.1063 - val_loss: 0.0586 - val_mae: 0.1511\n",
            "Epoch 29/50\n",
            "\u001b[1m153/153\u001b[0m \u001b[32m━━━━━━━━━━━━━━━━━━━━\u001b[0m\u001b[37m\u001b[0m \u001b[1m1s\u001b[0m 2ms/step - loss: 0.0401 - mae: 0.1203 - val_loss: 0.0520 - val_mae: 0.1296\n",
            "Epoch 30/50\n",
            "\u001b[1m153/153\u001b[0m \u001b[32m━━━━━━━━━━━━━━━━━━━━\u001b[0m\u001b[37m\u001b[0m \u001b[1m0s\u001b[0m 2ms/step - loss: 0.0349 - mae: 0.1068 - val_loss: 0.0520 - val_mae: 0.1310\n",
            "Epoch 31/50\n",
            "\u001b[1m153/153\u001b[0m \u001b[32m━━━━━━━━━━━━━━━━━━━━\u001b[0m\u001b[37m\u001b[0m \u001b[1m1s\u001b[0m 2ms/step - loss: 0.0360 - mae: 0.1107 - val_loss: 0.0554 - val_mae: 0.1428\n",
            "Epoch 32/50\n",
            "\u001b[1m153/153\u001b[0m \u001b[32m━━━━━━━━━━━━━━━━━━━━\u001b[0m\u001b[37m\u001b[0m \u001b[1m1s\u001b[0m 2ms/step - loss: 0.0277 - mae: 0.0978 - val_loss: 0.0501 - val_mae: 0.1266\n",
            "Epoch 33/50\n",
            "\u001b[1m153/153\u001b[0m \u001b[32m━━━━━━━━━━━━━━━━━━━━\u001b[0m\u001b[37m\u001b[0m \u001b[1m1s\u001b[0m 2ms/step - loss: 0.0228 - mae: 0.0951 - val_loss: 0.0523 - val_mae: 0.1275\n",
            "Epoch 34/50\n",
            "\u001b[1m153/153\u001b[0m \u001b[32m━━━━━━━━━━━━━━━━━━━━\u001b[0m\u001b[37m\u001b[0m \u001b[1m1s\u001b[0m 2ms/step - loss: 0.0232 - mae: 0.0908 - val_loss: 0.0476 - val_mae: 0.1269\n",
            "Epoch 35/50\n",
            "\u001b[1m153/153\u001b[0m \u001b[32m━━━━━━━━━━━━━━━━━━━━\u001b[0m\u001b[37m\u001b[0m \u001b[1m1s\u001b[0m 2ms/step - loss: 0.0257 - mae: 0.0916 - val_loss: 0.0523 - val_mae: 0.1396\n",
            "Epoch 36/50\n",
            "\u001b[1m153/153\u001b[0m \u001b[32m━━━━━━━━━━━━━━━━━━━━\u001b[0m\u001b[37m\u001b[0m \u001b[1m0s\u001b[0m 2ms/step - loss: 0.0230 - mae: 0.0939 - val_loss: 0.0513 - val_mae: 0.1311\n",
            "Epoch 37/50\n",
            "\u001b[1m153/153\u001b[0m \u001b[32m━━━━━━━━━━━━━━━━━━━━\u001b[0m\u001b[37m\u001b[0m \u001b[1m0s\u001b[0m 2ms/step - loss: 0.0285 - mae: 0.0969 - val_loss: 0.0538 - val_mae: 0.1339\n",
            "Epoch 38/50\n",
            "\u001b[1m153/153\u001b[0m \u001b[32m━━━━━━━━━━━━━━━━━━━━\u001b[0m\u001b[37m\u001b[0m \u001b[1m1s\u001b[0m 2ms/step - loss: 0.0282 - mae: 0.0983 - val_loss: 0.0519 - val_mae: 0.1294\n",
            "Epoch 39/50\n",
            "\u001b[1m153/153\u001b[0m \u001b[32m━━━━━━━━━━━━━━━━━━━━\u001b[0m\u001b[37m\u001b[0m \u001b[1m1s\u001b[0m 2ms/step - loss: 0.0246 - mae: 0.0887 - val_loss: 0.0509 - val_mae: 0.1279\n",
            "Epoch 40/50\n",
            "\u001b[1m153/153\u001b[0m \u001b[32m━━━━━━━━━━━━━━━━━━━━\u001b[0m\u001b[37m\u001b[0m \u001b[1m1s\u001b[0m 2ms/step - loss: 0.0228 - mae: 0.0878 - val_loss: 0.0540 - val_mae: 0.1271\n",
            "Epoch 41/50\n",
            "\u001b[1m153/153\u001b[0m \u001b[32m━━━━━━━━━━━━━━━━━━━━\u001b[0m\u001b[37m\u001b[0m \u001b[1m1s\u001b[0m 2ms/step - loss: 0.0201 - mae: 0.0886 - val_loss: 0.0603 - val_mae: 0.1586\n",
            "Epoch 42/50\n",
            "\u001b[1m153/153\u001b[0m \u001b[32m━━━━━━━━━━━━━━━━━━━━\u001b[0m\u001b[37m\u001b[0m \u001b[1m0s\u001b[0m 2ms/step - loss: 0.0198 - mae: 0.0870 - val_loss: 0.0558 - val_mae: 0.1496\n",
            "Epoch 43/50\n",
            "\u001b[1m153/153\u001b[0m \u001b[32m━━━━━━━━━━━━━━━━━━━━\u001b[0m\u001b[37m\u001b[0m \u001b[1m0s\u001b[0m 2ms/step - loss: 0.0235 - mae: 0.0897 - val_loss: 0.0534 - val_mae: 0.1353\n",
            "Epoch 44/50\n",
            "\u001b[1m153/153\u001b[0m \u001b[32m━━━━━━━━━━━━━━━━━━━━\u001b[0m\u001b[37m\u001b[0m \u001b[1m1s\u001b[0m 2ms/step - loss: 0.0178 - mae: 0.0803 - val_loss: 0.0510 - val_mae: 0.1312\n",
            "Epoch 45/50\n",
            "\u001b[1m153/153\u001b[0m \u001b[32m━━━━━━━━━━━━━━━━━━━━\u001b[0m\u001b[37m\u001b[0m \u001b[1m0s\u001b[0m 2ms/step - loss: 0.0233 - mae: 0.0914 - val_loss: 0.0547 - val_mae: 0.1353\n",
            "Epoch 46/50\n",
            "\u001b[1m153/153\u001b[0m \u001b[32m━━━━━━━━━━━━━━━━━━━━\u001b[0m\u001b[37m\u001b[0m \u001b[1m1s\u001b[0m 3ms/step - loss: 0.0317 - mae: 0.1005 - val_loss: 0.0502 - val_mae: 0.1288\n",
            "Epoch 47/50\n",
            "\u001b[1m153/153\u001b[0m \u001b[32m━━━━━━━━━━━━━━━━━━━━\u001b[0m\u001b[37m\u001b[0m \u001b[1m1s\u001b[0m 3ms/step - loss: 0.0212 - mae: 0.0863 - val_loss: 0.0497 - val_mae: 0.1223\n",
            "Epoch 48/50\n",
            "\u001b[1m153/153\u001b[0m \u001b[32m━━━━━━━━━━━━━━━━━━━━\u001b[0m\u001b[37m\u001b[0m \u001b[1m1s\u001b[0m 3ms/step - loss: 0.0204 - mae: 0.0825 - val_loss: 0.0516 - val_mae: 0.1275\n",
            "Epoch 49/50\n",
            "\u001b[1m153/153\u001b[0m \u001b[32m━━━━━━━━━━━━━━━━━━━━\u001b[0m\u001b[37m\u001b[0m \u001b[1m1s\u001b[0m 3ms/step - loss: 0.0207 - mae: 0.0859 - val_loss: 0.0561 - val_mae: 0.1419\n",
            "Epoch 50/50\n",
            "\u001b[1m153/153\u001b[0m \u001b[32m━━━━━━━━━━━━━━━━━━━━\u001b[0m\u001b[37m\u001b[0m \u001b[1m1s\u001b[0m 3ms/step - loss: 0.0193 - mae: 0.0778 - val_loss: 0.0508 - val_mae: 0.1290\n"
          ]
        }
      ]
    },
    {
      "cell_type": "code",
      "source": [
        "plt.plot(history4.history['loss'], label='Training Loss')\n",
        "plt.plot(history4.history['val_loss'], label='Validation Loss')\n",
        "plt.xlabel('Epochs')\n",
        "plt.ylabel('Loss')\n",
        "plt.title('Training and Validation Loss over Epochs')\n",
        "plt.legend()\n",
        "\n",
        "plt"
      ],
      "metadata": {
        "colab": {
          "base_uri": "https://localhost:8080/",
          "height": 489
        },
        "id": "e2HT0w8h1K2r",
        "outputId": "14e19441-122d-4e41-84b8-9a13a732a84f"
      },
      "execution_count": 163,
      "outputs": [
        {
          "output_type": "execute_result",
          "data": {
            "text/plain": [
              "<module 'matplotlib.pyplot' from '/usr/local/lib/python3.10/dist-packages/matplotlib/pyplot.py'>"
            ]
          },
          "metadata": {},
          "execution_count": 163
        },
        {
          "output_type": "display_data",
          "data": {
            "text/plain": [
              "<Figure size 640x480 with 1 Axes>"
            ],
            "image/png": "[encoded data removed]"
          },
          "metadata": {}
        }
      ]
    },
    {
      "cell_type": "code",
      "source": [
        "loss, mae = model4.evaluate(X_Test, y_Test)\n",
        "print(f'Loss: {loss}, MAE: {mae}')"
      ],
      "metadata": {
        "colab": {
          "base_uri": "https://localhost:8080/"
        },
        "id": "op1OAR26-4g8",
        "outputId": "4b3d771d-2402-4a9a-e70e-34fdbe17280e"
      },
      "execution_count": 164,
      "outputs": [
        {
          "output_type": "stream",
          "name": "stdout",
          "text": [
            "\u001b[1m15/15\u001b[0m \u001b[32m━━━━━━━━━━━━━━━━━━━━\u001b[0m\u001b[37m\u001b[0m \u001b[1m0s\u001b[0m 1ms/step - loss: 0.0641 - mae: 0.1312 \n",
            "Loss: 0.07535023242235184, MAE: 0.1400592178106308\n"
          ]
        }
      ]
    },
    {
      "cell_type": "markdown",
      "source": [
        "# Experiment 2: A set of three Dense Hidden Layers"
      ],
      "metadata": {
        "id": "ZgjJ0X7dCfN5"
      }
    },
    {
      "cell_type": "code",
      "source": [
        "model5 = Sequential()\n",
        "model5.add(Dense(64, input_dim=11, activation='relu'))\n",
        "model5.add(Dense(32, activation='relu'))\n",
        "model5.add(Dense(32, activation='relu'))\n",
        "model5.add(Dense(32, activation='relu'))\n",
        "model5.add(Dense(1))\n",
        "\n",
        "model5.compile(optimizer='adam', loss='mse', metrics=['mae'])\n",
        "\n",
        "history5 = model5.fit(X_Train, y_Train, epochs=50, batch_size=10, validation_split=0.2)"
      ],
      "metadata": {
        "colab": {
          "base_uri": "https://localhost:8080/"
        },
        "id": "cBQ0FnBeCgAG",
        "outputId": "45af937f-4055-4099-925e-fc67082f475c"
      },
      "execution_count": 165,
      "outputs": [
        {
          "output_type": "stream",
          "name": "stdout",
          "text": [
            "Epoch 1/50\n",
            "\u001b[1m153/153\u001b[0m \u001b[32m━━━━━━━━━━━━━━━━━━━━\u001b[0m\u001b[37m\u001b[0m \u001b[1m2s\u001b[0m 3ms/step - loss: 0.5209 - mae: 0.5297 - val_loss: 0.2262 - val_mae: 0.3234\n",
            "Epoch 2/50\n",
            "\u001b[1m153/153\u001b[0m \u001b[32m━━━━━━━━━━━━━━━━━━━━\u001b[0m\u001b[37m\u001b[0m \u001b[1m0s\u001b[0m 2ms/step - loss: 0.1952 - mae: 0.2947 - val_loss: 0.2030 - val_mae: 0.3360\n",
            "Epoch 3/50\n",
            "\u001b[1m153/153\u001b[0m \u001b[32m━━━━━━━━━━━━━━━━━━━━\u001b[0m\u001b[37m\u001b[0m \u001b[1m1s\u001b[0m 2ms/step - loss: 0.1427 - mae: 0.2582 - val_loss: 0.1339 - val_mae: 0.2437\n",
            "Epoch 4/50\n",
            "\u001b[1m153/153\u001b[0m \u001b[32m━━━━━━━━━━━━━━━━━━━━\u001b[0m\u001b[37m\u001b[0m \u001b[1m0s\u001b[0m 2ms/step - loss: 0.0982 - mae: 0.2033 - val_loss: 0.1066 - val_mae: 0.2121\n",
            "Epoch 5/50\n",
            "\u001b[1m153/153\u001b[0m \u001b[32m━━━━━━━━━━━━━━━━━━━━\u001b[0m\u001b[37m\u001b[0m \u001b[1m0s\u001b[0m 2ms/step - loss: 0.0922 - mae: 0.1847 - val_loss: 0.1108 - val_mae: 0.1976\n",
            "Epoch 6/50\n",
            "\u001b[1m153/153\u001b[0m \u001b[32m━━━━━━━━━━━━━━━━━━━━\u001b[0m\u001b[37m\u001b[0m \u001b[1m1s\u001b[0m 2ms/step - loss: 0.0655 - mae: 0.1515 - val_loss: 0.0963 - val_mae: 0.1819\n",
            "Epoch 7/50\n",
            "\u001b[1m153/153\u001b[0m \u001b[32m━━━━━━━━━━━━━━━━━━━━\u001b[0m\u001b[37m\u001b[0m \u001b[1m1s\u001b[0m 2ms/step - loss: 0.0660 - mae: 0.1481 - val_loss: 0.0801 - val_mae: 0.1703\n",
            "Epoch 8/50\n",
            "\u001b[1m153/153\u001b[0m \u001b[32m━━━━━━━━━━━━━━━━━━━━\u001b[0m\u001b[37m\u001b[0m \u001b[1m1s\u001b[0m 2ms/step - loss: 0.0550 - mae: 0.1348 - val_loss: 0.0759 - val_mae: 0.1581\n",
            "Epoch 9/50\n",
            "\u001b[1m153/153\u001b[0m \u001b[32m━━━━━━━━━━━━━━━━━━━━\u001b[0m\u001b[37m\u001b[0m \u001b[1m0s\u001b[0m 2ms/step - loss: 0.0518 - mae: 0.1310 - val_loss: 0.0928 - val_mae: 0.1837\n",
            "Epoch 10/50\n",
            "\u001b[1m153/153\u001b[0m \u001b[32m━━━━━━━━━━━━━━━━━━━━\u001b[0m\u001b[37m\u001b[0m \u001b[1m1s\u001b[0m 2ms/step - loss: 0.0534 - mae: 0.1281 - val_loss: 0.0725 - val_mae: 0.1456\n",
            "Epoch 11/50\n",
            "\u001b[1m153/153\u001b[0m \u001b[32m━━━━━━━━━━━━━━━━━━━━\u001b[0m\u001b[37m\u001b[0m \u001b[1m1s\u001b[0m 2ms/step - loss: 0.0375 - mae: 0.1076 - val_loss: 0.0650 - val_mae: 0.1353\n",
            "Epoch 12/50\n",
            "\u001b[1m153/153\u001b[0m \u001b[32m━━━━━━━━━━━━━━━━━━━━\u001b[0m\u001b[37m\u001b[0m \u001b[1m0s\u001b[0m 2ms/step - loss: 0.0410 - mae: 0.1155 - val_loss: 0.0680 - val_mae: 0.1485\n",
            "Epoch 13/50\n",
            "\u001b[1m153/153\u001b[0m \u001b[32m━━━━━━━━━━━━━━━━━━━━\u001b[0m\u001b[37m\u001b[0m \u001b[1m1s\u001b[0m 2ms/step - loss: 0.0381 - mae: 0.1056 - val_loss: 0.0681 - val_mae: 0.1404\n",
            "Epoch 14/50\n",
            "\u001b[1m153/153\u001b[0m \u001b[32m━━━━━━━━━━━━━━━━━━━━\u001b[0m\u001b[37m\u001b[0m \u001b[1m1s\u001b[0m 2ms/step - loss: 0.0310 - mae: 0.0967 - val_loss: 0.0591 - val_mae: 0.1282\n",
            "Epoch 15/50\n",
            "\u001b[1m153/153\u001b[0m \u001b[32m━━━━━━━━━━━━━━━━━━━━\u001b[0m\u001b[37m\u001b[0m \u001b[1m1s\u001b[0m 2ms/step - loss: 0.0364 - mae: 0.1029 - val_loss: 0.0636 - val_mae: 0.1451\n",
            "Epoch 16/50\n",
            "\u001b[1m153/153\u001b[0m \u001b[32m━━━━━━━━━━━━━━━━━━━━\u001b[0m\u001b[37m\u001b[0m \u001b[1m0s\u001b[0m 3ms/step - loss: 0.0312 - mae: 0.0983 - val_loss: 0.0532 - val_mae: 0.1186\n",
            "Epoch 17/50\n",
            "\u001b[1m153/153\u001b[0m \u001b[32m━━━━━━━━━━━━━━━━━━━━\u001b[0m\u001b[37m\u001b[0m \u001b[1m1s\u001b[0m 4ms/step - loss: 0.0244 - mae: 0.0884 - val_loss: 0.0683 - val_mae: 0.1495\n",
            "Epoch 18/50\n",
            "\u001b[1m153/153\u001b[0m \u001b[32m━━━━━━━━━━━━━━━━━━━━\u001b[0m\u001b[37m\u001b[0m \u001b[1m1s\u001b[0m 3ms/step - loss: 0.0336 - mae: 0.0982 - val_loss: 0.0624 - val_mae: 0.1307\n",
            "Epoch 19/50\n",
            "\u001b[1m153/153\u001b[0m \u001b[32m━━━━━━━━━━━━━━━━━━━━\u001b[0m\u001b[37m\u001b[0m \u001b[1m1s\u001b[0m 4ms/step - loss: 0.0415 - mae: 0.1015 - val_loss: 0.0568 - val_mae: 0.1248\n",
            "Epoch 20/50\n",
            "\u001b[1m153/153\u001b[0m \u001b[32m━━━━━━━━━━━━━━━━━━━━\u001b[0m\u001b[37m\u001b[0m \u001b[1m1s\u001b[0m 2ms/step - loss: 0.0242 - mae: 0.0827 - val_loss: 0.0538 - val_mae: 0.1251\n",
            "Epoch 21/50\n",
            "\u001b[1m153/153\u001b[0m \u001b[32m━━━━━━━━━━━━━━━━━━━━\u001b[0m\u001b[37m\u001b[0m \u001b[1m1s\u001b[0m 2ms/step - loss: 0.0244 - mae: 0.0821 - val_loss: 0.0544 - val_mae: 0.1184\n",
            "Epoch 22/50\n",
            "\u001b[1m153/153\u001b[0m \u001b[32m━━━━━━━━━━━━━━━━━━━━\u001b[0m\u001b[37m\u001b[0m \u001b[1m0s\u001b[0m 2ms/step - loss: 0.0494 - mae: 0.1104 - val_loss: 0.0757 - val_mae: 0.1642\n",
            "Epoch 23/50\n",
            "\u001b[1m153/153\u001b[0m \u001b[32m━━━━━━━━━━━━━━━━━━━━\u001b[0m\u001b[37m\u001b[0m \u001b[1m1s\u001b[0m 2ms/step - loss: 0.0274 - mae: 0.0966 - val_loss: 0.0513 - val_mae: 0.1291\n",
            "Epoch 24/50\n",
            "\u001b[1m153/153\u001b[0m \u001b[32m━━━━━━━━━━━━━━━━━━━━\u001b[0m\u001b[37m\u001b[0m \u001b[1m1s\u001b[0m 2ms/step - loss: 0.0299 - mae: 0.0896 - val_loss: 0.0487 - val_mae: 0.1126\n",
            "Epoch 25/50\n",
            "\u001b[1m153/153\u001b[0m \u001b[32m━━━━━━━━━━━━━━━━━━━━\u001b[0m\u001b[37m\u001b[0m \u001b[1m1s\u001b[0m 2ms/step - loss: 0.0337 - mae: 0.0905 - val_loss: 0.0534 - val_mae: 0.1160\n",
            "Epoch 26/50\n",
            "\u001b[1m153/153\u001b[0m \u001b[32m━━━━━━━━━━━━━━━━━━━━\u001b[0m\u001b[37m\u001b[0m \u001b[1m0s\u001b[0m 2ms/step - loss: 0.0329 - mae: 0.0890 - val_loss: 0.0775 - val_mae: 0.1452\n",
            "Epoch 27/50\n",
            "\u001b[1m153/153\u001b[0m \u001b[32m━━━━━━━━━━━━━━━━━━━━\u001b[0m\u001b[37m\u001b[0m \u001b[1m1s\u001b[0m 2ms/step - loss: 0.0243 - mae: 0.0853 - val_loss: 0.0493 - val_mae: 0.1144\n",
            "Epoch 28/50\n",
            "\u001b[1m153/153\u001b[0m \u001b[32m━━━━━━━━━━━━━━━━━━━━\u001b[0m\u001b[37m\u001b[0m \u001b[1m1s\u001b[0m 2ms/step - loss: 0.0199 - mae: 0.0692 - val_loss: 0.0464 - val_mae: 0.1081\n",
            "Epoch 29/50\n",
            "\u001b[1m153/153\u001b[0m \u001b[32m━━━━━━━━━━━━━━━━━━━━\u001b[0m\u001b[37m\u001b[0m \u001b[1m1s\u001b[0m 2ms/step - loss: 0.0184 - mae: 0.0683 - val_loss: 0.0473 - val_mae: 0.1157\n",
            "Epoch 30/50\n",
            "\u001b[1m153/153\u001b[0m \u001b[32m━━━━━━━━━━━━━━━━━━━━\u001b[0m\u001b[37m\u001b[0m \u001b[1m1s\u001b[0m 2ms/step - loss: 0.0150 - mae: 0.0629 - val_loss: 0.0414 - val_mae: 0.1116\n",
            "Epoch 31/50\n",
            "\u001b[1m153/153\u001b[0m \u001b[32m━━━━━━━━━━━━━━━━━━━━\u001b[0m\u001b[37m\u001b[0m \u001b[1m1s\u001b[0m 2ms/step - loss: 0.0210 - mae: 0.0712 - val_loss: 0.0455 - val_mae: 0.1145\n",
            "Epoch 32/50\n",
            "\u001b[1m153/153\u001b[0m \u001b[32m━━━━━━━━━━━━━━━━━━━━\u001b[0m\u001b[37m\u001b[0m \u001b[1m1s\u001b[0m 2ms/step - loss: 0.0227 - mae: 0.0779 - val_loss: 0.0887 - val_mae: 0.1663\n",
            "Epoch 33/50\n",
            "\u001b[1m153/153\u001b[0m \u001b[32m━━━━━━━━━━━━━━━━━━━━\u001b[0m\u001b[37m\u001b[0m \u001b[1m1s\u001b[0m 2ms/step - loss: 0.0368 - mae: 0.1004 - val_loss: 0.0545 - val_mae: 0.1130\n",
            "Epoch 34/50\n",
            "\u001b[1m153/153\u001b[0m \u001b[32m━━━━━━━━━━━━━━━━━━━━\u001b[0m\u001b[37m\u001b[0m \u001b[1m1s\u001b[0m 2ms/step - loss: 0.0312 - mae: 0.0894 - val_loss: 0.0436 - val_mae: 0.0928\n",
            "Epoch 35/50\n",
            "\u001b[1m153/153\u001b[0m \u001b[32m━━━━━━━━━━━━━━━━━━━━\u001b[0m\u001b[37m\u001b[0m \u001b[1m1s\u001b[0m 2ms/step - loss: 0.0162 - mae: 0.0626 - val_loss: 0.0397 - val_mae: 0.1031\n",
            "Epoch 36/50\n",
            "\u001b[1m153/153\u001b[0m \u001b[32m━━━━━━━━━━━━━━━━━━━━\u001b[0m\u001b[37m\u001b[0m \u001b[1m1s\u001b[0m 2ms/step - loss: 0.0123 - mae: 0.0556 - val_loss: 0.0417 - val_mae: 0.0965\n",
            "Epoch 37/50\n",
            "\u001b[1m153/153\u001b[0m \u001b[32m━━━━━━━━━━━━━━━━━━━━\u001b[0m\u001b[37m\u001b[0m \u001b[1m1s\u001b[0m 4ms/step - loss: 0.0148 - mae: 0.0535 - val_loss: 0.0549 - val_mae: 0.1155\n",
            "Epoch 38/50\n",
            "\u001b[1m153/153\u001b[0m \u001b[32m━━━━━━━━━━━━━━━━━━━━\u001b[0m\u001b[37m\u001b[0m \u001b[1m1s\u001b[0m 3ms/step - loss: 0.0143 - mae: 0.0610 - val_loss: 0.0450 - val_mae: 0.0978\n",
            "Epoch 39/50\n",
            "\u001b[1m153/153\u001b[0m \u001b[32m━━━━━━━━━━━━━━━━━━━━\u001b[0m\u001b[37m\u001b[0m \u001b[1m1s\u001b[0m 3ms/step - loss: 0.0157 - mae: 0.0597 - val_loss: 0.0395 - val_mae: 0.0926\n",
            "Epoch 40/50\n",
            "\u001b[1m153/153\u001b[0m \u001b[32m━━━━━━━━━━━━━━━━━━━━\u001b[0m\u001b[37m\u001b[0m \u001b[1m0s\u001b[0m 2ms/step - loss: 0.0143 - mae: 0.0578 - val_loss: 0.0480 - val_mae: 0.1030\n",
            "Epoch 41/50\n",
            "\u001b[1m153/153\u001b[0m \u001b[32m━━━━━━━━━━━━━━━━━━━━\u001b[0m\u001b[37m\u001b[0m \u001b[1m1s\u001b[0m 2ms/step - loss: 0.0092 - mae: 0.0502 - val_loss: 0.0378 - val_mae: 0.0841\n",
            "Epoch 42/50\n",
            "\u001b[1m153/153\u001b[0m \u001b[32m━━━━━━━━━━━━━━━━━━━━\u001b[0m\u001b[37m\u001b[0m \u001b[1m1s\u001b[0m 2ms/step - loss: 0.0125 - mae: 0.0509 - val_loss: 0.0335 - val_mae: 0.0988\n",
            "Epoch 43/50\n",
            "\u001b[1m153/153\u001b[0m \u001b[32m━━━━━━━━━━━━━━━━━━━━\u001b[0m\u001b[37m\u001b[0m \u001b[1m0s\u001b[0m 2ms/step - loss: 0.0159 - mae: 0.0623 - val_loss: 0.0373 - val_mae: 0.0987\n",
            "Epoch 44/50\n",
            "\u001b[1m153/153\u001b[0m \u001b[32m━━━━━━━━━━━━━━━━━━━━\u001b[0m\u001b[37m\u001b[0m \u001b[1m1s\u001b[0m 2ms/step - loss: 0.0132 - mae: 0.0563 - val_loss: 0.0402 - val_mae: 0.0926\n",
            "Epoch 45/50\n",
            "\u001b[1m153/153\u001b[0m \u001b[32m━━━━━━━━━━━━━━━━━━━━\u001b[0m\u001b[37m\u001b[0m \u001b[1m0s\u001b[0m 2ms/step - loss: 0.0095 - mae: 0.0477 - val_loss: 0.0353 - val_mae: 0.0918\n",
            "Epoch 46/50\n",
            "\u001b[1m153/153\u001b[0m \u001b[32m━━━━━━━━━━━━━━━━━━━━\u001b[0m\u001b[37m\u001b[0m \u001b[1m1s\u001b[0m 2ms/step - loss: 0.0112 - mae: 0.0512 - val_loss: 0.0365 - val_mae: 0.0880\n",
            "Epoch 47/50\n",
            "\u001b[1m153/153\u001b[0m \u001b[32m━━━━━━━━━━━━━━━━━━━━\u001b[0m\u001b[37m\u001b[0m \u001b[1m1s\u001b[0m 2ms/step - loss: 0.0115 - mae: 0.0481 - val_loss: 0.0451 - val_mae: 0.0897\n",
            "Epoch 48/50\n",
            "\u001b[1m153/153\u001b[0m \u001b[32m━━━━━━━━━━━━━━━━━━━━\u001b[0m\u001b[37m\u001b[0m \u001b[1m1s\u001b[0m 2ms/step - loss: 0.0209 - mae: 0.0606 - val_loss: 0.0421 - val_mae: 0.1031\n",
            "Epoch 49/50\n",
            "\u001b[1m153/153\u001b[0m \u001b[32m━━━━━━━━━━━━━━━━━━━━\u001b[0m\u001b[37m\u001b[0m \u001b[1m1s\u001b[0m 2ms/step - loss: 0.0119 - mae: 0.0590 - val_loss: 0.1048 - val_mae: 0.1531\n",
            "Epoch 50/50\n",
            "\u001b[1m153/153\u001b[0m \u001b[32m━━━━━━━━━━━━━━━━━━━━\u001b[0m\u001b[37m\u001b[0m \u001b[1m1s\u001b[0m 2ms/step - loss: 0.0431 - mae: 0.1103 - val_loss: 0.0474 - val_mae: 0.1059\n"
          ]
        }
      ]
    },
    {
      "cell_type": "code",
      "source": [
        "loss, mae = model5.evaluate(X_Test, y_Test)\n",
        "print(f'Loss: {loss}, MAE: {mae}')"
      ],
      "metadata": {
        "colab": {
          "base_uri": "https://localhost:8080/"
        },
        "id": "rFnDpA4p-7Ni",
        "outputId": "e2b3bb16-2a22-49c7-a2c4-812a6bca6668"
      },
      "execution_count": 166,
      "outputs": [
        {
          "output_type": "stream",
          "name": "stdout",
          "text": [
            "\u001b[1m15/15\u001b[0m \u001b[32m━━━━━━━━━━━━━━━━━━━━\u001b[0m\u001b[37m\u001b[0m \u001b[1m0s\u001b[0m 1ms/step - loss: 0.0767 - mae: 0.1219 \n",
            "Loss: 0.0728926733136177, MAE: 0.12480045109987259\n"
          ]
        }
      ]
    },
    {
      "cell_type": "code",
      "source": [
        "plt.plot(history5.history['loss'], label='Training Loss')\n",
        "plt.plot(history5.history['val_loss'], label='Validation Loss')\n",
        "plt.xlabel('Epochs')\n",
        "plt.ylabel('Loss')\n",
        "plt.title('Training and Validation Loss over Epochs')\n",
        "plt.legend()\n",
        "\n",
        "plt"
      ],
      "metadata": {
        "colab": {
          "base_uri": "https://localhost:8080/",
          "height": 489
        },
        "id": "-AY1qCj30EbR",
        "outputId": "ac039ad8-0784-4295-85a9-01ca69c4c008"
      },
      "execution_count": 167,
      "outputs": [
        {
          "output_type": "execute_result",
          "data": {
            "text/plain": [
              "<module 'matplotlib.pyplot' from '/usr/local/lib/python3.10/dist-packages/matplotlib/pyplot.py'>"
            ]
          },
          "metadata": {},
          "execution_count": 167
        },
        {
          "output_type": "display_data",
          "data": {
            "text/plain": [
              "<Figure size 640x480 with 1 Axes>"
            ],
            "image/png": "[encoded data removed]"
          },
          "metadata": {}
        }
      ]
    },
    {
      "cell_type": "markdown",
      "source": [
        "# Experiment 3: Add a dropout layer after each Dense Hidden Layer"
      ],
      "metadata": {
        "id": "FW0xy3QMDZK5"
      }
    },
    {
      "cell_type": "code",
      "source": [
        "model6 = Sequential()\n",
        "model6.add(Dense(64, input_dim=11, activation='relu'))\n",
        "model6.add(Dense(32, activation='relu'))\n",
        "model6.add(Dropout(0.5))\n",
        "model6.add(Dense(32, activation='relu'))\n",
        "model6.add(Dropout(0.5))\n",
        "model6.add(Dense(32, activation='relu'))\n",
        "model6.add(Dropout(0.5))\n",
        "model6.add(Dense(1))\n",
        "\n",
        "model6.compile(optimizer='adam', loss='mse', metrics=['mae'])\n",
        "\n",
        "history6 = model6.fit(X_Train, y_Train, epochs=50, batch_size=10, validation_split=0.2)"
      ],
      "metadata": {
        "colab": {
          "base_uri": "https://localhost:8080/"
        },
        "id": "VAZjyywcDZ-H",
        "outputId": "563456e2-d0c9-4a94-a491-a1873615df96"
      },
      "execution_count": 168,
      "outputs": [
        {
          "output_type": "stream",
          "name": "stdout",
          "text": [
            "Epoch 1/50\n",
            "\u001b[1m153/153\u001b[0m \u001b[32m━━━━━━━━━━━━━━━━━━━━\u001b[0m\u001b[37m\u001b[0m \u001b[1m2s\u001b[0m 5ms/step - loss: 1.3743 - mae: 0.9849 - val_loss: 0.5638 - val_mae: 0.6165\n",
            "Epoch 2/50\n",
            "\u001b[1m153/153\u001b[0m \u001b[32m━━━━━━━━━━━━━━━━━━━━\u001b[0m\u001b[37m\u001b[0m \u001b[1m1s\u001b[0m 4ms/step - loss: 0.6739 - mae: 0.6286 - val_loss: 0.4149 - val_mae: 0.4864\n",
            "Epoch 3/50\n",
            "\u001b[1m153/153\u001b[0m \u001b[32m━━━━━━━━━━━━━━━━━━━━\u001b[0m\u001b[37m\u001b[0m \u001b[1m1s\u001b[0m 4ms/step - loss: 0.4721 - mae: 0.5130 - val_loss: 0.2991 - val_mae: 0.4129\n",
            "Epoch 4/50\n",
            "\u001b[1m153/153\u001b[0m \u001b[32m━━━━━━━━━━━━━━━━━━━━\u001b[0m\u001b[37m\u001b[0m \u001b[1m1s\u001b[0m 3ms/step - loss: 0.3993 - mae: 0.4658 - val_loss: 0.3034 - val_mae: 0.4177\n",
            "Epoch 5/50\n",
            "\u001b[1m153/153\u001b[0m \u001b[32m━━━━━━━━━━━━━━━━━━━━\u001b[0m\u001b[37m\u001b[0m \u001b[1m1s\u001b[0m 4ms/step - loss: 0.3175 - mae: 0.4221 - val_loss: 0.2424 - val_mae: 0.3794\n",
            "Epoch 6/50\n",
            "\u001b[1m153/153\u001b[0m \u001b[32m━━━━━━━━━━━━━━━━━━━━\u001b[0m\u001b[37m\u001b[0m \u001b[1m1s\u001b[0m 2ms/step - loss: 0.2916 - mae: 0.4053 - val_loss: 0.2384 - val_mae: 0.3755\n",
            "Epoch 7/50\n",
            "\u001b[1m153/153\u001b[0m \u001b[32m━━━━━━━━━━━━━━━━━━━━\u001b[0m\u001b[37m\u001b[0m \u001b[1m0s\u001b[0m 2ms/step - loss: 0.2874 - mae: 0.4101 - val_loss: 0.2113 - val_mae: 0.3419\n",
            "Epoch 8/50\n",
            "\u001b[1m153/153\u001b[0m \u001b[32m━━━━━━━━━━━━━━━━━━━━\u001b[0m\u001b[37m\u001b[0m \u001b[1m1s\u001b[0m 2ms/step - loss: 0.2666 - mae: 0.3782 - val_loss: 0.1980 - val_mae: 0.3351\n",
            "Epoch 9/50\n",
            "\u001b[1m153/153\u001b[0m \u001b[32m━━━━━━━━━━━━━━━━━━━━\u001b[0m\u001b[37m\u001b[0m \u001b[1m0s\u001b[0m 2ms/step - loss: 0.2625 - mae: 0.3735 - val_loss: 0.2170 - val_mae: 0.3638\n",
            "Epoch 10/50\n",
            "\u001b[1m153/153\u001b[0m \u001b[32m━━━━━━━━━━━━━━━━━━━━\u001b[0m\u001b[37m\u001b[0m \u001b[1m1s\u001b[0m 2ms/step - loss: 0.2657 - mae: 0.3770 - val_loss: 0.2030 - val_mae: 0.3418\n",
            "Epoch 11/50\n",
            "\u001b[1m153/153\u001b[0m \u001b[32m━━━━━━━━━━━━━━━━━━━━\u001b[0m\u001b[37m\u001b[0m \u001b[1m0s\u001b[0m 2ms/step - loss: 0.2634 - mae: 0.3677 - val_loss: 0.1753 - val_mae: 0.3118\n",
            "Epoch 12/50\n",
            "\u001b[1m153/153\u001b[0m \u001b[32m━━━━━━━━━━━━━━━━━━━━\u001b[0m\u001b[37m\u001b[0m \u001b[1m0s\u001b[0m 2ms/step - loss: 0.2459 - mae: 0.3638 - val_loss: 0.2157 - val_mae: 0.3355\n",
            "Epoch 13/50\n",
            "\u001b[1m153/153\u001b[0m \u001b[32m━━━━━━━━━━━━━━━━━━━━\u001b[0m\u001b[37m\u001b[0m \u001b[1m1s\u001b[0m 2ms/step - loss: 0.2358 - mae: 0.3490 - val_loss: 0.1917 - val_mae: 0.3295\n",
            "Epoch 14/50\n",
            "\u001b[1m153/153\u001b[0m \u001b[32m━━━━━━━━━━━━━━━━━━━━\u001b[0m\u001b[37m\u001b[0m \u001b[1m1s\u001b[0m 2ms/step - loss: 0.2366 - mae: 0.3542 - val_loss: 0.1900 - val_mae: 0.3213\n",
            "Epoch 15/50\n",
            "\u001b[1m153/153\u001b[0m \u001b[32m━━━━━━━━━━━━━━━━━━━━\u001b[0m\u001b[37m\u001b[0m \u001b[1m1s\u001b[0m 2ms/step - loss: 0.2281 - mae: 0.3377 - val_loss: 0.1874 - val_mae: 0.3229\n",
            "Epoch 16/50\n",
            "\u001b[1m153/153\u001b[0m \u001b[32m━━━━━━━━━━━━━━━━━━━━\u001b[0m\u001b[37m\u001b[0m \u001b[1m0s\u001b[0m 2ms/step - loss: 0.2092 - mae: 0.3252 - val_loss: 0.1759 - val_mae: 0.3221\n",
            "Epoch 17/50\n",
            "\u001b[1m153/153\u001b[0m \u001b[32m━━━━━━━━━━━━━━━━━━━━\u001b[0m\u001b[37m\u001b[0m \u001b[1m0s\u001b[0m 2ms/step - loss: 0.2095 - mae: 0.3201 - val_loss: 0.1800 - val_mae: 0.3187\n",
            "Epoch 18/50\n",
            "\u001b[1m153/153\u001b[0m \u001b[32m━━━━━━━━━━━━━━━━━━━━\u001b[0m\u001b[37m\u001b[0m \u001b[1m0s\u001b[0m 2ms/step - loss: 0.2059 - mae: 0.3143 - val_loss: 0.1634 - val_mae: 0.2910\n",
            "Epoch 19/50\n",
            "\u001b[1m153/153\u001b[0m \u001b[32m━━━━━━━━━━━━━━━━━━━━\u001b[0m\u001b[37m\u001b[0m \u001b[1m1s\u001b[0m 2ms/step - loss: 0.2047 - mae: 0.3132 - val_loss: 0.1710 - val_mae: 0.2995\n",
            "Epoch 20/50\n",
            "\u001b[1m153/153\u001b[0m \u001b[32m━━━━━━━━━━━━━━━━━━━━\u001b[0m\u001b[37m\u001b[0m \u001b[1m1s\u001b[0m 2ms/step - loss: 0.2162 - mae: 0.3285 - val_loss: 0.1777 - val_mae: 0.2873\n",
            "Epoch 21/50\n",
            "\u001b[1m153/153\u001b[0m \u001b[32m━━━━━━━━━━━━━━━━━━━━\u001b[0m\u001b[37m\u001b[0m \u001b[1m0s\u001b[0m 2ms/step - loss: 0.2092 - mae: 0.3044 - val_loss: 0.1725 - val_mae: 0.2848\n",
            "Epoch 22/50\n",
            "\u001b[1m153/153\u001b[0m \u001b[32m━━━━━━━━━━━━━━━━━━━━\u001b[0m\u001b[37m\u001b[0m \u001b[1m0s\u001b[0m 2ms/step - loss: 0.1979 - mae: 0.2917 - val_loss: 0.1746 - val_mae: 0.2801\n",
            "Epoch 23/50\n",
            "\u001b[1m153/153\u001b[0m \u001b[32m━━━━━━━━━━━━━━━━━━━━\u001b[0m\u001b[37m\u001b[0m \u001b[1m1s\u001b[0m 2ms/step - loss: 0.1955 - mae: 0.2957 - val_loss: 0.1747 - val_mae: 0.2998\n",
            "Epoch 24/50\n",
            "\u001b[1m153/153\u001b[0m \u001b[32m━━━━━━━━━━━━━━━━━━━━\u001b[0m\u001b[37m\u001b[0m \u001b[1m0s\u001b[0m 2ms/step - loss: 0.1782 - mae: 0.2842 - val_loss: 0.1649 - val_mae: 0.2710\n",
            "Epoch 25/50\n",
            "\u001b[1m153/153\u001b[0m \u001b[32m━━━━━━━━━━━━━━━━━━━━\u001b[0m\u001b[37m\u001b[0m \u001b[1m1s\u001b[0m 2ms/step - loss: 0.1746 - mae: 0.2720 - val_loss: 0.1649 - val_mae: 0.2828\n",
            "Epoch 26/50\n",
            "\u001b[1m153/153\u001b[0m \u001b[32m━━━━━━━━━━━━━━━━━━━━\u001b[0m\u001b[37m\u001b[0m \u001b[1m0s\u001b[0m 3ms/step - loss: 0.1592 - mae: 0.2666 - val_loss: 0.1543 - val_mae: 0.2558\n",
            "Epoch 27/50\n",
            "\u001b[1m153/153\u001b[0m \u001b[32m━━━━━━━━━━━━━━━━━━━━\u001b[0m\u001b[37m\u001b[0m \u001b[1m1s\u001b[0m 3ms/step - loss: 0.1718 - mae: 0.2712 - val_loss: 0.1696 - val_mae: 0.2751\n",
            "Epoch 28/50\n",
            "\u001b[1m153/153\u001b[0m \u001b[32m━━━━━━━━━━━━━━━━━━━━\u001b[0m\u001b[37m\u001b[0m \u001b[1m1s\u001b[0m 3ms/step - loss: 0.1745 - mae: 0.2726 - val_loss: 0.1676 - val_mae: 0.2676\n",
            "Epoch 29/50\n",
            "\u001b[1m153/153\u001b[0m \u001b[32m━━━━━━━━━━━━━━━━━━━━\u001b[0m\u001b[37m\u001b[0m \u001b[1m1s\u001b[0m 3ms/step - loss: 0.1779 - mae: 0.2647 - val_loss: 0.1427 - val_mae: 0.2368\n",
            "Epoch 30/50\n",
            "\u001b[1m153/153\u001b[0m \u001b[32m━━━━━━━━━━━━━━━━━━━━\u001b[0m\u001b[37m\u001b[0m \u001b[1m1s\u001b[0m 3ms/step - loss: 0.1749 - mae: 0.2703 - val_loss: 0.1506 - val_mae: 0.2493\n",
            "Epoch 31/50\n",
            "\u001b[1m153/153\u001b[0m \u001b[32m━━━━━━━━━━━━━━━━━━━━\u001b[0m\u001b[37m\u001b[0m \u001b[1m0s\u001b[0m 2ms/step - loss: 0.1590 - mae: 0.2551 - val_loss: 0.1485 - val_mae: 0.2487\n",
            "Epoch 32/50\n",
            "\u001b[1m153/153\u001b[0m \u001b[32m━━━━━━━━━━━━━━━━━━━━\u001b[0m\u001b[37m\u001b[0m \u001b[1m1s\u001b[0m 2ms/step - loss: 0.1317 - mae: 0.2333 - val_loss: 0.1531 - val_mae: 0.2719\n",
            "Epoch 33/50\n",
            "\u001b[1m153/153\u001b[0m \u001b[32m━━━━━━━━━━━━━━━━━━━━\u001b[0m\u001b[37m\u001b[0m \u001b[1m1s\u001b[0m 2ms/step - loss: 0.1469 - mae: 0.2421 - val_loss: 0.1564 - val_mae: 0.2479\n",
            "Epoch 34/50\n",
            "\u001b[1m153/153\u001b[0m \u001b[32m━━━━━━━━━━━━━━━━━━━━\u001b[0m\u001b[37m\u001b[0m \u001b[1m0s\u001b[0m 2ms/step - loss: 0.1685 - mae: 0.2477 - val_loss: 0.1538 - val_mae: 0.2386\n",
            "Epoch 35/50\n",
            "\u001b[1m153/153\u001b[0m \u001b[32m━━━━━━━━━━━━━━━━━━━━\u001b[0m\u001b[37m\u001b[0m \u001b[1m1s\u001b[0m 2ms/step - loss: 0.1585 - mae: 0.2464 - val_loss: 0.1536 - val_mae: 0.2510\n",
            "Epoch 36/50\n",
            "\u001b[1m153/153\u001b[0m \u001b[32m━━━━━━━━━━━━━━━━━━━━\u001b[0m\u001b[37m\u001b[0m \u001b[1m0s\u001b[0m 2ms/step - loss: 0.1385 - mae: 0.2355 - val_loss: 0.1460 - val_mae: 0.2516\n",
            "Epoch 37/50\n",
            "\u001b[1m153/153\u001b[0m \u001b[32m━━━━━━━━━━━━━━━━━━━━\u001b[0m\u001b[37m\u001b[0m \u001b[1m1s\u001b[0m 2ms/step - loss: 0.1606 - mae: 0.2472 - val_loss: 0.1506 - val_mae: 0.2543\n",
            "Epoch 38/50\n",
            "\u001b[1m153/153\u001b[0m \u001b[32m━━━━━━━━━━━━━━━━━━━━\u001b[0m\u001b[37m\u001b[0m \u001b[1m1s\u001b[0m 2ms/step - loss: 0.1398 - mae: 0.2298 - val_loss: 0.1376 - val_mae: 0.2314\n",
            "Epoch 39/50\n",
            "\u001b[1m153/153\u001b[0m \u001b[32m━━━━━━━━━━━━━━━━━━━━\u001b[0m\u001b[37m\u001b[0m \u001b[1m0s\u001b[0m 2ms/step - loss: 0.1508 - mae: 0.2355 - val_loss: 0.1473 - val_mae: 0.2553\n",
            "Epoch 40/50\n",
            "\u001b[1m153/153\u001b[0m \u001b[32m━━━━━━━━━━━━━━━━━━━━\u001b[0m\u001b[37m\u001b[0m \u001b[1m0s\u001b[0m 2ms/step - loss: 0.1373 - mae: 0.2246 - val_loss: 0.1479 - val_mae: 0.2506\n",
            "Epoch 41/50\n",
            "\u001b[1m153/153\u001b[0m \u001b[32m━━━━━━━━━━━━━━━━━━━━\u001b[0m\u001b[37m\u001b[0m \u001b[1m1s\u001b[0m 2ms/step - loss: 0.1549 - mae: 0.2389 - val_loss: 0.1342 - val_mae: 0.2326\n",
            "Epoch 42/50\n",
            "\u001b[1m153/153\u001b[0m \u001b[32m━━━━━━━━━━━━━━━━━━━━\u001b[0m\u001b[37m\u001b[0m \u001b[1m0s\u001b[0m 2ms/step - loss: 0.1343 - mae: 0.2242 - val_loss: 0.1283 - val_mae: 0.2394\n",
            "Epoch 43/50\n",
            "\u001b[1m153/153\u001b[0m \u001b[32m━━━━━━━━━━━━━━━━━━━━\u001b[0m\u001b[37m\u001b[0m \u001b[1m1s\u001b[0m 2ms/step - loss: 0.1440 - mae: 0.2295 - val_loss: 0.1523 - val_mae: 0.2546\n",
            "Epoch 44/50\n",
            "\u001b[1m153/153\u001b[0m \u001b[32m━━━━━━━━━━━━━━━━━━━━\u001b[0m\u001b[37m\u001b[0m \u001b[1m1s\u001b[0m 2ms/step - loss: 0.1438 - mae: 0.2338 - val_loss: 0.1542 - val_mae: 0.2564\n",
            "Epoch 45/50\n",
            "\u001b[1m153/153\u001b[0m \u001b[32m━━━━━━━━━━━━━━━━━━━━\u001b[0m\u001b[37m\u001b[0m \u001b[1m0s\u001b[0m 2ms/step - loss: 0.1302 - mae: 0.2176 - val_loss: 0.1339 - val_mae: 0.2321\n",
            "Epoch 46/50\n",
            "\u001b[1m153/153\u001b[0m \u001b[32m━━━━━━━━━━━━━━━━━━━━\u001b[0m\u001b[37m\u001b[0m \u001b[1m1s\u001b[0m 2ms/step - loss: 0.1305 - mae: 0.2186 - val_loss: 0.1500 - val_mae: 0.2555\n",
            "Epoch 47/50\n",
            "\u001b[1m153/153\u001b[0m \u001b[32m━━━━━━━━━━━━━━━━━━━━\u001b[0m\u001b[37m\u001b[0m \u001b[1m0s\u001b[0m 2ms/step - loss: 0.1518 - mae: 0.2401 - val_loss: 0.1309 - val_mae: 0.2468\n",
            "Epoch 48/50\n",
            "\u001b[1m153/153\u001b[0m \u001b[32m━━━━━━━━━━━━━━━━━━━━\u001b[0m\u001b[37m\u001b[0m \u001b[1m1s\u001b[0m 2ms/step - loss: 0.1353 - mae: 0.2315 - val_loss: 0.1306 - val_mae: 0.2288\n",
            "Epoch 49/50\n",
            "\u001b[1m153/153\u001b[0m \u001b[32m━━━━━━━━━━━━━━━━━━━━\u001b[0m\u001b[37m\u001b[0m \u001b[1m0s\u001b[0m 2ms/step - loss: 0.1422 - mae: 0.2335 - val_loss: 0.1358 - val_mae: 0.2391\n",
            "Epoch 50/50\n",
            "\u001b[1m153/153\u001b[0m \u001b[32m━━━━━━━━━━━━━━━━━━━━\u001b[0m\u001b[37m\u001b[0m \u001b[1m1s\u001b[0m 2ms/step - loss: 0.1316 - mae: 0.2251 - val_loss: 0.1311 - val_mae: 0.2265\n"
          ]
        }
      ]
    },
    {
      "cell_type": "code",
      "source": [
        "plt.plot(history6.history['loss'], label='Training Loss')\n",
        "plt.plot(history6.history['val_loss'], label='Validation Loss')\n",
        "plt.xlabel('Epochs')\n",
        "plt.ylabel('Loss')\n",
        "plt.title('Training and Validation Loss over Epochs')\n",
        "plt.legend()\n",
        "\n",
        "plt"
      ],
      "metadata": {
        "colab": {
          "base_uri": "https://localhost:8080/",
          "height": 489
        },
        "id": "kM6KK8bg0CG_",
        "outputId": "72026f52-e258-47b2-c3f6-e0278b14fc83"
      },
      "execution_count": 169,
      "outputs": [
        {
          "output_type": "execute_result",
          "data": {
            "text/plain": [
              "<module 'matplotlib.pyplot' from '/usr/local/lib/python3.10/dist-packages/matplotlib/pyplot.py'>"
            ]
          },
          "metadata": {},
          "execution_count": 169
        },
        {
          "output_type": "display_data",
          "data": {
            "text/plain": [
              "<Figure size 640x480 with 1 Axes>"
            ],
            "image/png": "[encoded data removed]"
          },
          "metadata": {}
        }
      ]
    },
    {
      "cell_type": "code",
      "source": [
        "loss, mae = model6.evaluate(X_Test, y_Test)\n",
        "print(f'Loss: {loss}, MAE: {mae}')"
      ],
      "metadata": {
        "colab": {
          "base_uri": "https://localhost:8080/"
        },
        "id": "tlxuoVlS--AD",
        "outputId": "271fcc11-1141-4d54-dcf1-5fea515953f2"
      },
      "execution_count": 170,
      "outputs": [
        {
          "output_type": "stream",
          "name": "stdout",
          "text": [
            "\u001b[1m15/15\u001b[0m \u001b[32m━━━━━━━━━━━━━━━━━━━━\u001b[0m\u001b[37m\u001b[0m \u001b[1m0s\u001b[0m 2ms/step - loss: 0.1310 - mae: 0.2241 \n",
            "Loss: 0.12900617718696594, MAE: 0.220723956823349\n"
          ]
        }
      ]
    },
    {
      "cell_type": "markdown",
      "source": [
        "# Experiment 4: Add a Batch Normalization Layer after each Dropout Layer."
      ],
      "metadata": {
        "id": "7SDI4mBnEQ1n"
      }
    },
    {
      "cell_type": "code",
      "source": [
        "model7 = Sequential()\n",
        "model7.add(Dense(64, input_dim=11, activation='relu'))\n",
        "model7.add(Dense(32, activation='relu'))\n",
        "model7.add(Dropout(0.5))\n",
        "model7.add(BatchNormalization())\n",
        "model7.add(Dense(32, activation='relu'))\n",
        "model7.add(Dropout(0.5))\n",
        "model7.add(BatchNormalization())\n",
        "model7.add(Dense(32, activation='relu'))\n",
        "model7.add(Dropout(0.5))\n",
        "model7.add(BatchNormalization())\n",
        "model7.add(Dense(1))\n",
        "\n",
        "model7.compile(optimizer='adam', loss='mse', metrics=['mae'])\n",
        "\n",
        "history7 = model7.fit(X_Train, y_Train, epochs=50, batch_size=10, validation_split=0.2)\n",
        "\n"
      ],
      "metadata": {
        "colab": {
          "base_uri": "https://localhost:8080/"
        },
        "id": "Eg1IjQzCESrd",
        "outputId": "6a580e22-6850-439f-8061-8f06a29eb203"
      },
      "execution_count": 171,
      "outputs": [
        {
          "output_type": "stream",
          "name": "stdout",
          "text": [
            "Epoch 1/50\n",
            "\u001b[1m153/153\u001b[0m \u001b[32m━━━━━━━━━━━━━━━━━━━━\u001b[0m\u001b[37m\u001b[0m \u001b[1m4s\u001b[0m 4ms/step - loss: 3.3264 - mae: 1.4818 - val_loss: 0.7976 - val_mae: 0.7290\n",
            "Epoch 2/50\n",
            "\u001b[1m153/153\u001b[0m \u001b[32m━━━━━━━━━━━━━━━━━━━━\u001b[0m\u001b[37m\u001b[0m \u001b[1m0s\u001b[0m 3ms/step - loss: 1.3890 - mae: 0.9378 - val_loss: 0.4803 - val_mae: 0.5237\n",
            "Epoch 3/50\n",
            "\u001b[1m153/153\u001b[0m \u001b[32m━━━━━━━━━━━━━━━━━━━━\u001b[0m\u001b[37m\u001b[0m \u001b[1m1s\u001b[0m 3ms/step - loss: 1.0002 - mae: 0.7992 - val_loss: 0.3785 - val_mae: 0.4808\n",
            "Epoch 4/50\n",
            "\u001b[1m153/153\u001b[0m \u001b[32m━━━━━━━━━━━━━━━━━━━━\u001b[0m\u001b[37m\u001b[0m \u001b[1m0s\u001b[0m 3ms/step - loss: 0.7322 - mae: 0.6811 - val_loss: 0.3477 - val_mae: 0.4733\n",
            "Epoch 5/50\n",
            "\u001b[1m153/153\u001b[0m \u001b[32m━━━━━━━━━━━━━━━━━━━━\u001b[0m\u001b[37m\u001b[0m \u001b[1m0s\u001b[0m 3ms/step - loss: 0.6028 - mae: 0.6270 - val_loss: 0.3267 - val_mae: 0.4626\n",
            "Epoch 6/50\n",
            "\u001b[1m153/153\u001b[0m \u001b[32m━━━━━━━━━━━━━━━━━━━━\u001b[0m\u001b[37m\u001b[0m \u001b[1m1s\u001b[0m 3ms/step - loss: 0.5151 - mae: 0.5817 - val_loss: 0.3172 - val_mae: 0.4558\n",
            "Epoch 7/50\n",
            "\u001b[1m153/153\u001b[0m \u001b[32m━━━━━━━━━━━━━━━━━━━━\u001b[0m\u001b[37m\u001b[0m \u001b[1m0s\u001b[0m 3ms/step - loss: 0.4659 - mae: 0.5584 - val_loss: 0.3148 - val_mae: 0.4694\n",
            "Epoch 8/50\n",
            "\u001b[1m153/153\u001b[0m \u001b[32m━━━━━━━━━━━━━━━━━━━━\u001b[0m\u001b[37m\u001b[0m \u001b[1m1s\u001b[0m 3ms/step - loss: 0.4337 - mae: 0.5368 - val_loss: 0.3195 - val_mae: 0.4704\n",
            "Epoch 9/50\n",
            "\u001b[1m153/153\u001b[0m \u001b[32m━━━━━━━━━━━━━━━━━━━━\u001b[0m\u001b[37m\u001b[0m \u001b[1m0s\u001b[0m 3ms/step - loss: 0.3940 - mae: 0.5218 - val_loss: 0.3029 - val_mae: 0.4675\n",
            "Epoch 10/50\n",
            "\u001b[1m153/153\u001b[0m \u001b[32m━━━━━━━━━━━━━━━━━━━━\u001b[0m\u001b[37m\u001b[0m \u001b[1m1s\u001b[0m 3ms/step - loss: 0.4005 - mae: 0.5198 - val_loss: 0.2900 - val_mae: 0.4562\n",
            "Epoch 11/50\n",
            "\u001b[1m153/153\u001b[0m \u001b[32m━━━━━━━━━━━━━━━━━━━━\u001b[0m\u001b[37m\u001b[0m \u001b[1m0s\u001b[0m 3ms/step - loss: 0.3639 - mae: 0.5026 - val_loss: 0.2841 - val_mae: 0.4487\n",
            "Epoch 12/50\n",
            "\u001b[1m153/153\u001b[0m \u001b[32m━━━━━━━━━━━━━━━━━━━━\u001b[0m\u001b[37m\u001b[0m \u001b[1m1s\u001b[0m 3ms/step - loss: 0.3448 - mae: 0.4860 - val_loss: 0.2776 - val_mae: 0.4334\n",
            "Epoch 13/50\n",
            "\u001b[1m153/153\u001b[0m \u001b[32m━━━━━━━━━━━━━━━━━━━━\u001b[0m\u001b[37m\u001b[0m \u001b[1m1s\u001b[0m 3ms/step - loss: 0.3421 - mae: 0.4865 - val_loss: 0.2787 - val_mae: 0.4399\n",
            "Epoch 14/50\n",
            "\u001b[1m153/153\u001b[0m \u001b[32m━━━━━━━━━━━━━━━━━━━━\u001b[0m\u001b[37m\u001b[0m \u001b[1m1s\u001b[0m 3ms/step - loss: 0.3115 - mae: 0.4711 - val_loss: 0.2731 - val_mae: 0.4285\n",
            "Epoch 15/50\n",
            "\u001b[1m153/153\u001b[0m \u001b[32m━━━━━━━━━━━━━━━━━━━━\u001b[0m\u001b[37m\u001b[0m \u001b[1m1s\u001b[0m 3ms/step - loss: 0.3126 - mae: 0.4597 - val_loss: 0.2656 - val_mae: 0.4276\n",
            "Epoch 16/50\n",
            "\u001b[1m153/153\u001b[0m \u001b[32m━━━━━━━━━━━━━━━━━━━━\u001b[0m\u001b[37m\u001b[0m \u001b[1m0s\u001b[0m 3ms/step - loss: 0.3238 - mae: 0.4677 - val_loss: 0.2527 - val_mae: 0.4090\n",
            "Epoch 17/50\n",
            "\u001b[1m153/153\u001b[0m \u001b[32m━━━━━━━━━━━━━━━━━━━━\u001b[0m\u001b[37m\u001b[0m \u001b[1m0s\u001b[0m 3ms/step - loss: 0.3009 - mae: 0.4498 - val_loss: 0.2642 - val_mae: 0.4097\n",
            "Epoch 18/50\n",
            "\u001b[1m153/153\u001b[0m \u001b[32m━━━━━━━━━━━━━━━━━━━━\u001b[0m\u001b[37m\u001b[0m \u001b[1m1s\u001b[0m 4ms/step - loss: 0.2932 - mae: 0.4483 - val_loss: 0.2592 - val_mae: 0.4102\n",
            "Epoch 19/50\n",
            "\u001b[1m153/153\u001b[0m \u001b[32m━━━━━━━━━━━━━━━━━━━━\u001b[0m\u001b[37m\u001b[0m \u001b[1m1s\u001b[0m 5ms/step - loss: 0.2810 - mae: 0.4434 - val_loss: 0.2554 - val_mae: 0.4066\n",
            "Epoch 20/50\n",
            "\u001b[1m153/153\u001b[0m \u001b[32m━━━━━━━━━━━━━━━━━━━━\u001b[0m\u001b[37m\u001b[0m \u001b[1m1s\u001b[0m 5ms/step - loss: 0.3004 - mae: 0.4429 - val_loss: 0.2451 - val_mae: 0.3912\n",
            "Epoch 21/50\n",
            "\u001b[1m153/153\u001b[0m \u001b[32m━━━━━━━━━━━━━━━━━━━━\u001b[0m\u001b[37m\u001b[0m \u001b[1m1s\u001b[0m 4ms/step - loss: 0.2959 - mae: 0.4391 - val_loss: 0.2364 - val_mae: 0.3652\n",
            "Epoch 22/50\n",
            "\u001b[1m153/153\u001b[0m \u001b[32m━━━━━━━━━━━━━━━━━━━━\u001b[0m\u001b[37m\u001b[0m \u001b[1m1s\u001b[0m 3ms/step - loss: 0.2851 - mae: 0.4222 - val_loss: 0.2437 - val_mae: 0.3640\n",
            "Epoch 23/50\n",
            "\u001b[1m153/153\u001b[0m \u001b[32m━━━━━━━━━━━━━━━━━━━━\u001b[0m\u001b[37m\u001b[0m \u001b[1m0s\u001b[0m 3ms/step - loss: 0.2535 - mae: 0.4022 - val_loss: 0.2425 - val_mae: 0.3617\n",
            "Epoch 24/50\n",
            "\u001b[1m153/153\u001b[0m \u001b[32m━━━━━━━━━━━━━━━━━━━━\u001b[0m\u001b[37m\u001b[0m \u001b[1m1s\u001b[0m 3ms/step - loss: 0.2765 - mae: 0.4149 - val_loss: 0.2325 - val_mae: 0.3395\n",
            "Epoch 25/50\n",
            "\u001b[1m153/153\u001b[0m \u001b[32m━━━━━━━━━━━━━━━━━━━━\u001b[0m\u001b[37m\u001b[0m \u001b[1m0s\u001b[0m 3ms/step - loss: 0.2610 - mae: 0.3983 - val_loss: 0.2285 - val_mae: 0.3417\n",
            "Epoch 26/50\n",
            "\u001b[1m153/153\u001b[0m \u001b[32m━━━━━━━━━━━━━━━━━━━━\u001b[0m\u001b[37m\u001b[0m \u001b[1m0s\u001b[0m 3ms/step - loss: 0.2489 - mae: 0.3826 - val_loss: 0.2260 - val_mae: 0.3298\n",
            "Epoch 27/50\n",
            "\u001b[1m153/153\u001b[0m \u001b[32m━━━━━━━━━━━━━━━━━━━━\u001b[0m\u001b[37m\u001b[0m \u001b[1m0s\u001b[0m 3ms/step - loss: 0.2883 - mae: 0.4017 - val_loss: 0.2230 - val_mae: 0.3203\n",
            "Epoch 28/50\n",
            "\u001b[1m153/153\u001b[0m \u001b[32m━━━━━━━━━━━━━━━━━━━━\u001b[0m\u001b[37m\u001b[0m \u001b[1m1s\u001b[0m 3ms/step - loss: 0.2665 - mae: 0.3818 - val_loss: 0.2306 - val_mae: 0.3315\n",
            "Epoch 29/50\n",
            "\u001b[1m153/153\u001b[0m \u001b[32m━━━━━━━━━━━━━━━━━━━━\u001b[0m\u001b[37m\u001b[0m \u001b[1m1s\u001b[0m 3ms/step - loss: 0.2532 - mae: 0.3792 - val_loss: 0.2219 - val_mae: 0.3226\n",
            "Epoch 30/50\n",
            "\u001b[1m153/153\u001b[0m \u001b[32m━━━━━━━━━━━━━━━━━━━━\u001b[0m\u001b[37m\u001b[0m \u001b[1m1s\u001b[0m 3ms/step - loss: 0.2423 - mae: 0.3700 - val_loss: 0.2207 - val_mae: 0.3154\n",
            "Epoch 31/50\n",
            "\u001b[1m153/153\u001b[0m \u001b[32m━━━━━━━━━━━━━━━━━━━━\u001b[0m\u001b[37m\u001b[0m \u001b[1m1s\u001b[0m 3ms/step - loss: 0.2517 - mae: 0.3772 - val_loss: 0.2190 - val_mae: 0.3075\n",
            "Epoch 32/50\n",
            "\u001b[1m153/153\u001b[0m \u001b[32m━━━━━━━━━━━━━━━━━━━━\u001b[0m\u001b[37m\u001b[0m \u001b[1m1s\u001b[0m 3ms/step - loss: 0.2222 - mae: 0.3452 - val_loss: 0.2127 - val_mae: 0.2939\n",
            "Epoch 33/50\n",
            "\u001b[1m153/153\u001b[0m \u001b[32m━━━━━━━━━━━━━━━━━━━━\u001b[0m\u001b[37m\u001b[0m \u001b[1m0s\u001b[0m 3ms/step - loss: 0.2625 - mae: 0.3763 - val_loss: 0.2109 - val_mae: 0.3091\n",
            "Epoch 34/50\n",
            "\u001b[1m153/153\u001b[0m \u001b[32m━━━━━━━━━━━━━━━━━━━━\u001b[0m\u001b[37m\u001b[0m \u001b[1m1s\u001b[0m 3ms/step - loss: 0.2221 - mae: 0.3451 - val_loss: 0.2065 - val_mae: 0.2933\n",
            "Epoch 35/50\n",
            "\u001b[1m153/153\u001b[0m \u001b[32m━━━━━━━━━━━━━━━━━━━━\u001b[0m\u001b[37m\u001b[0m \u001b[1m1s\u001b[0m 3ms/step - loss: 0.2344 - mae: 0.3531 - val_loss: 0.2057 - val_mae: 0.2890\n",
            "Epoch 36/50\n",
            "\u001b[1m153/153\u001b[0m \u001b[32m━━━━━━━━━━━━━━━━━━━━\u001b[0m\u001b[37m\u001b[0m \u001b[1m0s\u001b[0m 3ms/step - loss: 0.2317 - mae: 0.3579 - val_loss: 0.2052 - val_mae: 0.2713\n",
            "Epoch 37/50\n",
            "\u001b[1m153/153\u001b[0m \u001b[32m━━━━━━━━━━━━━━━━━━━━\u001b[0m\u001b[37m\u001b[0m \u001b[1m0s\u001b[0m 3ms/step - loss: 0.2331 - mae: 0.3495 - val_loss: 0.2120 - val_mae: 0.3001\n",
            "Epoch 38/50\n",
            "\u001b[1m153/153\u001b[0m \u001b[32m━━━━━━━━━━━━━━━━━━━━\u001b[0m\u001b[37m\u001b[0m \u001b[1m1s\u001b[0m 3ms/step - loss: 0.2364 - mae: 0.3482 - val_loss: 0.2024 - val_mae: 0.2770\n",
            "Epoch 39/50\n",
            "\u001b[1m153/153\u001b[0m \u001b[32m━━━━━━━━━━━━━━━━━━━━\u001b[0m\u001b[37m\u001b[0m \u001b[1m1s\u001b[0m 3ms/step - loss: 0.2209 - mae: 0.3306 - val_loss: 0.2020 - val_mae: 0.2812\n",
            "Epoch 40/50\n",
            "\u001b[1m153/153\u001b[0m \u001b[32m━━━━━━━━━━━━━━━━━━━━\u001b[0m\u001b[37m\u001b[0m \u001b[1m1s\u001b[0m 4ms/step - loss: 0.2108 - mae: 0.3278 - val_loss: 0.2037 - val_mae: 0.2873\n",
            "Epoch 41/50\n",
            "\u001b[1m153/153\u001b[0m \u001b[32m━━━━━━━━━━━━━━━━━━━━\u001b[0m\u001b[37m\u001b[0m \u001b[1m1s\u001b[0m 5ms/step - loss: 0.2544 - mae: 0.3553 - val_loss: 0.1937 - val_mae: 0.2646\n",
            "Epoch 42/50\n",
            "\u001b[1m153/153\u001b[0m \u001b[32m━━━━━━━━━━━━━━━━━━━━\u001b[0m\u001b[37m\u001b[0m \u001b[1m1s\u001b[0m 3ms/step - loss: 0.2284 - mae: 0.3349 - val_loss: 0.1980 - val_mae: 0.2812\n",
            "Epoch 43/50\n",
            "\u001b[1m153/153\u001b[0m \u001b[32m━━━━━━━━━━━━━━━━━━━━\u001b[0m\u001b[37m\u001b[0m \u001b[1m1s\u001b[0m 3ms/step - loss: 0.2500 - mae: 0.3514 - val_loss: 0.1909 - val_mae: 0.2596\n",
            "Epoch 44/50\n",
            "\u001b[1m153/153\u001b[0m \u001b[32m━━━━━━━━━━━━━━━━━━━━\u001b[0m\u001b[37m\u001b[0m \u001b[1m1s\u001b[0m 3ms/step - loss: 0.2321 - mae: 0.3271 - val_loss: 0.1889 - val_mae: 0.2504\n",
            "Epoch 45/50\n",
            "\u001b[1m153/153\u001b[0m \u001b[32m━━━━━━━━━━━━━━━━━━━━\u001b[0m\u001b[37m\u001b[0m \u001b[1m1s\u001b[0m 3ms/step - loss: 0.2239 - mae: 0.3277 - val_loss: 0.1835 - val_mae: 0.2498\n",
            "Epoch 46/50\n",
            "\u001b[1m153/153\u001b[0m \u001b[32m━━━━━━━━━━━━━━━━━━━━\u001b[0m\u001b[37m\u001b[0m \u001b[1m1s\u001b[0m 3ms/step - loss: 0.2273 - mae: 0.3345 - val_loss: 0.1789 - val_mae: 0.2438\n",
            "Epoch 47/50\n",
            "\u001b[1m153/153\u001b[0m \u001b[32m━━━━━━━━━━━━━━━━━━━━\u001b[0m\u001b[37m\u001b[0m \u001b[1m1s\u001b[0m 3ms/step - loss: 0.2168 - mae: 0.3131 - val_loss: 0.1766 - val_mae: 0.2351\n",
            "Epoch 48/50\n",
            "\u001b[1m153/153\u001b[0m \u001b[32m━━━━━━━━━━━━━━━━━━━━\u001b[0m\u001b[37m\u001b[0m \u001b[1m0s\u001b[0m 3ms/step - loss: 0.2080 - mae: 0.3016 - val_loss: 0.1743 - val_mae: 0.2402\n",
            "Epoch 49/50\n",
            "\u001b[1m153/153\u001b[0m \u001b[32m━━━━━━━━━━━━━━━━━━━━\u001b[0m\u001b[37m\u001b[0m \u001b[1m0s\u001b[0m 3ms/step - loss: 0.2617 - mae: 0.3375 - val_loss: 0.1730 - val_mae: 0.2173\n",
            "Epoch 50/50\n",
            "\u001b[1m153/153\u001b[0m \u001b[32m━━━━━━━━━━━━━━━━━━━━\u001b[0m\u001b[37m\u001b[0m \u001b[1m1s\u001b[0m 3ms/step - loss: 0.2199 - mae: 0.3173 - val_loss: 0.1597 - val_mae: 0.2397\n"
          ]
        }
      ]
    },
    {
      "cell_type": "code",
      "source": [
        "plt.plot(history7.history['loss'], label='Training Loss')\n",
        "plt.plot(history7.history['val_loss'], label='Validation Loss')\n",
        "plt.xlabel('Epochs')\n",
        "plt.ylabel('Loss')\n",
        "plt.title('Training and Validation Loss over Epochs')\n",
        "plt.legend()\n",
        "\n",
        "plt"
      ],
      "metadata": {
        "colab": {
          "base_uri": "https://localhost:8080/",
          "height": 489
        },
        "id": "atvzm24Sz_HF",
        "outputId": "4597a68a-8b43-4823-9328-903db3ee8739"
      },
      "execution_count": 172,
      "outputs": [
        {
          "output_type": "execute_result",
          "data": {
            "text/plain": [
              "<module 'matplotlib.pyplot' from '/usr/local/lib/python3.10/dist-packages/matplotlib/pyplot.py'>"
            ]
          },
          "metadata": {},
          "execution_count": 172
        },
        {
          "output_type": "display_data",
          "data": {
            "text/plain": [
              "<Figure size 640x480 with 1 Axes>"
            ],
            "image/png": "[encoded data removed]"
          },
          "metadata": {}
        }
      ]
    },
    {
      "cell_type": "code",
      "source": [
        "loss, mae = model7.evaluate(X_Test, y_Test)\n",
        "print(f'Loss: {loss}, MAE: {mae}')"
      ],
      "metadata": {
        "colab": {
          "base_uri": "https://localhost:8080/"
        },
        "id": "9jkZpCdB_AGR",
        "outputId": "275e79a0-267a-4cff-9d5b-a22f7e3605cb"
      },
      "execution_count": 173,
      "outputs": [
        {
          "output_type": "stream",
          "name": "stdout",
          "text": [
            "\u001b[1m15/15\u001b[0m \u001b[32m━━━━━━━━━━━━━━━━━━━━\u001b[0m\u001b[37m\u001b[0m \u001b[1m0s\u001b[0m 2ms/step - loss: 0.1713 - mae: 0.2557 \n",
            "Loss: 0.1593722254037857, MAE: 0.24268104135990143\n"
          ]
        }
      ]
    }
  ],
  "metadata": {
    "kernelspec": {
      "display_name": "Python 3",
      "language": "python",
      "name": "python3"
    },
    "language_info": {
      "codemirror_mode": {
        "name": "ipython",
        "version": 3
      },
      "file_extension": ".py",
      "mimetype": "text/x-python",
      "name": "python",
      "nbconvert_exporter": "python",
      "pygments_lexer": "ipython3",
      "version": "3.11.9"
    },
    "colab": {
      "provenance": []
    }
  },
  "nbformat": 4,
  "nbformat_minor": 0
}